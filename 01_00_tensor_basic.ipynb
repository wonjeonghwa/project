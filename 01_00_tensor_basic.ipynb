{
  "nbformat": 4,
  "nbformat_minor": 0,
  "metadata": {
    "anaconda-cloud": {},
    "kernelspec": {
      "display_name": "Python 3 (ipykernel)",
      "language": "python",
      "name": "python3"
    },
    "language_info": {
      "codemirror_mode": {
        "name": "ipython",
        "version": 3
      },
      "file_extension": ".py",
      "mimetype": "text/x-python",
      "name": "python",
      "nbconvert_exporter": "python",
      "pygments_lexer": "ipython3",
      "version": "3.8.6"
    },
    "colab": {
      "name": "01_00_tensor_basic.ipynb",
      "provenance": [],
      "collapsed_sections": []
    }
  },
  "cells": [
    {
      "cell_type": "markdown",
      "metadata": {
        "id": "EaWn20MStciZ"
      },
      "source": [
        ""
      ]
    },
    {
      "cell_type": "code",
      "metadata": {
        "id": "97DHWK5CtMmO"
      },
      "source": [
        "import tensorflow as tf"
      ],
      "execution_count": 1,
      "outputs": []
    },
    {
      "cell_type": "code",
      "metadata": {
        "colab": {
          "base_uri": "https://localhost:8080/"
        },
        "id": "Li7q2dObtrHH",
        "outputId": "bdc6574a-20f0-4fa3-af20-10137b2f2329"
      },
      "source": [
        "x1 = tf.constant(5)\n",
        "x2 = tf.constant(2)\n",
        "x3 = tf.constant(3)\n",
        "\n",
        "mul_result = tf.multiply(x1, x3)\n",
        "add_result = tf.add(x2, x3)\n",
        "sub_result = tf.subtract(mul_result, add_result)\n",
        "\n",
        "print(\"add_result = {}\".format(add_result))\n",
        "print(\"mul_result = {}\".format(mul_result))\n",
        "print(\"sub_result = {}\".format(sub_result))"
      ],
      "execution_count": 19,
      "outputs": [
        {
          "output_type": "stream",
          "name": "stdout",
          "text": [
            "add_result = 5\n",
            "mul_result = 15\n",
            "sub_result = 10\n"
          ]
        }
      ]
    },
    {
      "cell_type": "code",
      "metadata": {
        "colab": {
          "base_uri": "https://localhost:8080/"
        },
        "id": "ysJs_5790QQn",
        "outputId": "fe1d4fc3-6d8c-4dd4-a4fe-a8fb8c572d77"
      },
      "source": [
        "import numpy as np\n",
        "x1 = tf.Variable(5)\n",
        "x2 = np.array(3, dtype='int32')\n",
        "x3 = tf.Variable(2)\n",
        "\n",
        "mul_result = tf.multiply(x1, x3)\n",
        "add_result = tf.add(x2, x3)\n",
        "sub_result = tf.subtract(mul_result, add_result)\n",
        "\n",
        "print(\"add_result = {}\".format(add_result))\n",
        "print(\"mul_result = {}\".format(mul_result))\n",
        "print(\"sub_result = {}\".format(sub_result))"
      ],
      "execution_count": 25,
      "outputs": [
        {
          "output_type": "stream",
          "name": "stdout",
          "text": [
            "add_result = 5\n",
            "mul_result = 10\n",
            "sub_result = 5\n"
          ]
        }
      ]
    },
    {
      "cell_type": "code",
      "metadata": {
        "colab": {
          "base_uri": "https://localhost:8080/"
        },
        "id": "87L8JrT2tg_e",
        "outputId": "6efeee8a-8742-43d2-babb-68e8de652e09"
      },
      "source": [
        "print(tf.__version__)"
      ],
      "execution_count": 2,
      "outputs": [
        {
          "output_type": "stream",
          "name": "stdout",
          "text": [
            "2.6.0\n"
          ]
        }
      ]
    },
    {
      "cell_type": "code",
      "metadata": {
        "colab": {
          "base_uri": "https://localhost:8080/"
        },
        "id": "3GcSrch51stK",
        "outputId": "7dc569bc-5228-4ff6-d1a6-bb212cfb7b01"
      },
      "source": [
        "x = tf.Variable(0)\n",
        "\n",
        "for i in range(1, 11):\n",
        "  x = x + i\n",
        "  print(\"value: {}\".format(x))\n",
        "\n",
        "print(\"total sum : {}\".format(x))"
      ],
      "execution_count": 18,
      "outputs": [
        {
          "output_type": "stream",
          "name": "stdout",
          "text": [
            "value: 1\n",
            "value: 3\n",
            "value: 6\n",
            "value: 10\n",
            "value: 15\n",
            "value: 21\n",
            "value: 28\n",
            "value: 36\n",
            "value: 45\n",
            "value: 55\n",
            "total sum : 55\n"
          ]
        }
      ]
    },
    {
      "cell_type": "code",
      "metadata": {
        "colab": {
          "base_uri": "https://localhost:8080/"
        },
        "id": "BEHV7fwc2rL-",
        "outputId": "d3c31477-a3cb-47a6-ebb7-b6428a0d90a1"
      },
      "source": [
        "x1 = tf.Variable(tf.random.normal((1,1), mean=0, stddev=1.0))\n",
        "x2 = tf.Variable(tf.random.normal((1,1), mean=0, stddev=1.0))\n",
        "x3 = tf.Variable(tf.random.normal((1,1), mean=0, stddev=1.0))\n",
        "\n",
        "mul_result = tf.multiply(x1, x3)\n",
        "add_result = tf.add(x2, x3)\n",
        "sub_result = tf.subtract(mul_result, add_result)\n",
        "\n",
        "print(\"add_result = {}\".format(add_result))\n",
        "print(\"mul_result = {}\".format(mul_result))\n",
        "print(\"sub_result = {}\".format(sub_result))"
      ],
      "execution_count": 23,
      "outputs": [
        {
          "output_type": "stream",
          "name": "stdout",
          "text": [
            "add_result = [[0.79222167]]\n",
            "mul_result = [[0.65955764]]\n",
            "sub_result = [[-0.13266402]]\n"
          ]
        }
      ]
    },
    {
      "cell_type": "code",
      "metadata": {
        "colab": {
          "base_uri": "https://localhost:8080/"
        },
        "id": "UVwlDq5v34CJ",
        "outputId": "35e35316-21b1-4c51-884e-0672da4b16c2"
      },
      "source": [
        "x1 = tf.Variable([[1,2],[3,4]])\n",
        "\n",
        "print(\"x1 = {}\".format(x1))\n",
        "print(\"x1 = {}\".format(x1.shape))"
      ],
      "execution_count": 29,
      "outputs": [
        {
          "output_type": "stream",
          "name": "stdout",
          "text": [
            "x1 = <tf.Variable 'Variable:0' shape=(2, 2) dtype=int32, numpy=\n",
            "array([[1, 2],\n",
            "       [3, 4]], dtype=int32)>\n",
            "x1 = (2, 2)\n"
          ]
        }
      ]
    },
    {
      "cell_type": "code",
      "metadata": {
        "colab": {
          "base_uri": "https://localhost:8080/"
        },
        "id": "rl590lGF4Uck",
        "outputId": "14aefa15-4d07-4721-ed76-b4689a14a289"
      },
      "source": [
        "x1_reshape = tf.reshape(x1, [1,4])\n",
        "\n",
        "print(\"x1 = {}\".format(x1_reshape))\n",
        "print(\"x1 = {}\".format(x1_reshape.shape))"
      ],
      "execution_count": 31,
      "outputs": [
        {
          "output_type": "stream",
          "name": "stdout",
          "text": [
            "x1 = [[1 2 3 4]]\n",
            "x1 = (1, 4)\n"
          ]
        }
      ]
    },
    {
      "cell_type": "code",
      "metadata": {
        "id": "d4Lby2Ez49VB"
      },
      "source": [
        ""
      ],
      "execution_count": null,
      "outputs": []
    }
  ]
}