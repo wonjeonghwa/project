{
 "cells": [
  {
   "cell_type": "code",
   "execution_count": 1,
   "id": "b23a2261",
   "metadata": {},
   "outputs": [
    {
     "name": "stdout",
     "output_type": "stream",
     "text": [
      "['False', 'None', 'True', 'and', 'as', 'assert', 'async', 'await', 'break', 'class', 'continue', 'def', 'del', 'elif', 'else', 'except', 'finally', 'for', 'from', 'global', 'if', 'import', 'in', 'is', 'lambda', 'nonlocal', 'not', 'or', 'pass', 'raise', 'return', 'try', 'while', 'with', 'yield']\n"
     ]
    }
   ],
   "source": [
    "import keyword\n",
    "\n",
    "print(keyword.kwlist)"
   ]
  },
  {
   "cell_type": "code",
   "execution_count": 2,
   "id": "aae1afec",
   "metadata": {},
   "outputs": [
    {
     "data": {
      "text/plain": [
       "30"
      ]
     },
     "execution_count": 2,
     "metadata": {},
     "output_type": "execute_result"
    }
   ],
   "source": [
    "a = 10\n",
    "b = 20\n",
    "a+b"
   ]
  },
  {
   "cell_type": "code",
   "execution_count": 3,
   "id": "e32a0228",
   "metadata": {},
   "outputs": [
    {
     "name": "stdout",
     "output_type": "stream",
     "text": [
      "30\n"
     ]
    },
    {
     "data": {
      "text/plain": [
       "300"
      ]
     },
     "execution_count": 3,
     "metadata": {},
     "output_type": "execute_result"
    }
   ],
   "source": [
    "print(10+20)\n",
    "\n",
    "10*30"
   ]
  },
  {
   "cell_type": "code",
   "execution_count": 4,
   "id": "581ff015",
   "metadata": {},
   "outputs": [],
   "source": [
    "# 10 +20"
   ]
  },
  {
   "cell_type": "code",
   "execution_count": 5,
   "id": "8a4d5c80",
   "metadata": {},
   "outputs": [
    {
     "data": {
      "text/plain": [
       "30"
      ]
     },
     "execution_count": 5,
     "metadata": {},
     "output_type": "execute_result"
    }
   ],
   "source": [
    "a\n",
    "a = 30\n",
    "a"
   ]
  },
  {
   "cell_type": "code",
   "execution_count": 6,
   "id": "e37272bb",
   "metadata": {},
   "outputs": [
    {
     "data": {
      "text/plain": [
       "'abcd'"
      ]
     },
     "execution_count": 6,
     "metadata": {},
     "output_type": "execute_result"
    }
   ],
   "source": [
    "a\n",
    "a = \"abcd\"\n",
    "a"
   ]
  },
  {
   "cell_type": "markdown",
   "id": "7ae11bfc",
   "metadata": {},
   "source": [
    "# chap02\n",
    "   #01.자료형"
   ]
  },
  {
   "cell_type": "code",
   "execution_count": 7,
   "id": "2d753b96",
   "metadata": {},
   "outputs": [
    {
     "name": "stdout",
     "output_type": "stream",
     "text": [
      "<class 'int'>\n",
      "<class 'str'>\n",
      "<class 'bool'>\n",
      "hello test <class 'str'> <class 'str'>\n"
     ]
    }
   ],
   "source": [
    "print(type(1))\n",
    "print(type(\"hello\"))\n",
    "print(type(True))\n",
    "\n",
    "print(\"hello\", \"test\", type(\"hello\"), type(\"test\"))"
   ]
  },
  {
   "cell_type": "code",
   "execution_count": 8,
   "id": "f4d8fc5a",
   "metadata": {},
   "outputs": [
    {
     "name": "stdout",
     "output_type": "stream",
     "text": [
      "\"안녕하세요\"라고 말헀습니다\n"
     ]
    }
   ],
   "source": [
    "print('\"안녕하세요\"라고 말헀습니다')"
   ]
  },
  {
   "cell_type": "code",
   "execution_count": 9,
   "id": "4e6c3788",
   "metadata": {},
   "outputs": [
    {
     "name": "stdout",
     "output_type": "stream",
     "text": [
      "'배가 고픕니다'라고 생각했습니다\n"
     ]
    }
   ],
   "source": [
    "print(\"'배가 고픕니다'라고 생각했습니다\")"
   ]
  },
  {
   "cell_type": "markdown",
   "id": "74c1c662",
   "metadata": {},
   "source": [
    "### print 하수에서 특수문자(\",',newline, tab) 을 출력하고자 할 경우 excape문자 |를 문자 앞에 입력하면 특수문자가 출력 됨"
   ]
  },
  {
   "cell_type": "code",
   "execution_count": 10,
   "id": "1be29afb",
   "metadata": {},
   "outputs": [
    {
     "name": "stdout",
     "output_type": "stream",
     "text": [
      "\"안녕하세요\"\n",
      " 'Hello'\n"
     ]
    }
   ],
   "source": [
    "print(\"\\\"안녕하세요\\\"\\n \\'Hello\\'\")"
   ]
  },
  {
   "cell_type": "code",
   "execution_count": 11,
   "id": "73916848",
   "metadata": {},
   "outputs": [
    {
     "name": "stdout",
     "output_type": "stream",
     "text": [
      "하늘\n",
      "python\n",
      "date\n",
      "data하늘pythondata\n",
      "\n"
     ]
    }
   ],
   "source": [
    "# 여러 라인으로 출력\n",
    "print('''하늘\n",
    "python\n",
    "date''')\n",
    "print(\"\"\"data\\\n",
    "하늘\\\n",
    "python\\\n",
    "data\n",
    "\"\"\")  # newline 출력 안함"
   ]
  },
  {
   "cell_type": "code",
   "execution_count": 12,
   "id": "4c0d466e",
   "metadata": {},
   "outputs": [
    {
     "name": "stdout",
     "output_type": "stream",
     "text": [
      "abcddef\n",
      "********************\n",
      "abcd1\n"
     ]
    }
   ],
   "source": [
    "# 문자열 연산자 => +, * 만 사용 가능\n",
    "\n",
    "print(\"abcd\" + \"def\")\n",
    "print(\"*\"*20)\n",
    "#print(\"abcd\" + 1) # type error\n",
    "print(\"abcd\" + \"1\")"
   ]
  },
  {
   "cell_type": "code",
   "execution_count": 13,
   "id": "a349573f",
   "metadata": {},
   "outputs": [
    {
     "name": "stdout",
     "output_type": "stream",
     "text": [
      "이름\t나이\t지역\n",
      "윤인성\t25\t강서구\n",
      "윤아린\t24\t강서구\n",
      "구름\t3\t강서구\n"
     ]
    }
   ],
   "source": [
    "print(\"이름\\t나이\\t지역\")\n",
    "print(\"윤인성\\t25\\t강서구\")\n",
    "print(\"윤아린\\t24\\t강서구\")\n",
    "print(\"구름\\t3\\t강서구\")"
   ]
  },
  {
   "cell_type": "code",
   "execution_count": 14,
   "id": "a9ff5858",
   "metadata": {},
   "outputs": [
    {
     "name": "stdout",
     "output_type": "stream",
     "text": [
      "안녕하세요\n"
     ]
    }
   ],
   "source": [
    "print(\"안녕\" + \"하세요\")"
   ]
  },
  {
   "cell_type": "code",
   "execution_count": 15,
   "id": "1e71a632",
   "metadata": {},
   "outputs": [
    {
     "name": "stdout",
     "output_type": "stream",
     "text": [
      "안녕하세요!\n"
     ]
    }
   ],
   "source": [
    "print(\"안녕하세요\" + \"!\")"
   ]
  },
  {
   "cell_type": "code",
   "execution_count": 16,
   "id": "1739890a",
   "metadata": {},
   "outputs": [
    {
     "name": "stdout",
     "output_type": "stream",
     "text": [
      "안녕하세요안녕하세요안녕하세요\n"
     ]
    }
   ],
   "source": [
    "print(\"안녕하세요\" *3)"
   ]
  },
  {
   "cell_type": "code",
   "execution_count": 17,
   "id": "2abcaeb4",
   "metadata": {},
   "outputs": [
    {
     "name": "stdout",
     "output_type": "stream",
     "text": [
      "안녕하세요안녕하세요안녕하세요\n"
     ]
    }
   ],
   "source": [
    "print(3*\"안녕하세요\")"
   ]
  },
  {
   "cell_type": "code",
   "execution_count": 18,
   "id": "9da77fab",
   "metadata": {},
   "outputs": [
    {
     "name": "stdout",
     "output_type": "stream",
     "text": [
      "문자 선택 연산지에 대해 알아볼까요?\n",
      "안\n",
      "녕\n",
      "하\n",
      "세\n",
      "요\n"
     ]
    }
   ],
   "source": [
    "print(\"문자 선택 연산지에 대해 알아볼까요?\")\n",
    "print(\"안녕하세요\"[0])\n",
    "print(\"안녕하세요\"[1])\n",
    "print(\"안녕하세요\"[2])\n",
    "print(\"안녕하세요\"[3])\n",
    "print(\"안녕하세요\"[4])"
   ]
  },
  {
   "cell_type": "code",
   "execution_count": 19,
   "id": "09ca93e9",
   "metadata": {},
   "outputs": [
    {
     "name": "stdout",
     "output_type": "stream",
     "text": [
      "a[0] :  h \t hello[0] :  h\n",
      "a[3] :  l \t hello[-1] :  o\n"
     ]
    }
   ],
   "source": [
    "# 문자열 인덱스\n",
    "\n",
    "a = \"hello\"\n",
    "\n",
    "print(\"a[0] : \", a[0],\"\\t\" ,\"hello[0] : \",\"hello\"[0])\n",
    "print(\"a[3] : \", a[3],\"\\t\" ,\"hello[-1] : \",\"hello\"[-1])"
   ]
  },
  {
   "cell_type": "code",
   "execution_count": 20,
   "id": "dd47c7c6",
   "metadata": {},
   "outputs": [
    {
     "name": "stdout",
     "output_type": "stream",
     "text": [
      "a[1:3]  el \t hello[:3] :  hel\n",
      "hello\n",
      "ello\n",
      "hel\n"
     ]
    }
   ],
   "source": [
    "# 문자열 자르기 [시작,끝] -> 시작은 포함, 끝은 포함하지 않음\n",
    "print(\"a[1:3] \", a[1:3], \"\\t\" ,\"hello[:3] : \",\"hello\"[:3])\n",
    "print(a[:]) # 전체 문자열\n",
    "print(a[1:]) # 2번째 인덱스부터 끝까지\n",
    "print(a[:3]) # 처음부터 3번째 인덱스 전까지\n",
    "#print(a[5]) # error index 범위 벗어남"
   ]
  },
  {
   "cell_type": "code",
   "execution_count": 21,
   "id": "d11673d8",
   "metadata": {},
   "outputs": [
    {
     "name": "stdout",
     "output_type": "stream",
     "text": [
      "hello \t el\n"
     ]
    }
   ],
   "source": [
    "a[1:3]\n",
    "b = a[1:3]\n",
    "print(a, \"\\t\", b)"
   ]
  },
  {
   "cell_type": "markdown",
   "id": "b1053df0",
   "metadata": {},
   "source": [
    "# 숫자형"
   ]
  },
  {
   "cell_type": "code",
   "execution_count": 22,
   "id": "61120671",
   "metadata": {
    "scrolled": true
   },
   "outputs": [
    {
     "name": "stdout",
     "output_type": "stream",
     "text": [
      "a +b = 7\n",
      "a -b = 3\n",
      "a/b = 2.5\n",
      "a // b = 2\n",
      "a % b = 1\n",
      "a ** b = 25\n",
      "0.0\n",
      "4.0\n"
     ]
    }
   ],
   "source": [
    "# 숫자형 연산 : +, -, *, /, //(묷), % (나머지 값)\n",
    "\n",
    "a=5 ;  b=2\n",
    "print(\"a +b =\", a+b)\n",
    "print(\"a -b =\", a-b)\n",
    "print(\"a/b =\", a/b) # 자동으로 float 형으로 바뀜\n",
    "print(\"a // b =\", a//b)\n",
    "print(\"a % b =\",a%b)\n",
    "print(\"a ** b =\", a **b)\n",
    "\n",
    "# 숫자형 연산자의 우선순위\n",
    "print (2 + 2 -2 * 2 / 2 * 2) # (2 * 2 )-> 2 + 2 -(4 /2) *2 -> (2 * 2) -> (2 + 2) - 4 -> 4 - 4 => 0\n",
    "print((2 + 2 - 2) * 2 / 2 *2)"
   ]
  },
  {
   "cell_type": "code",
   "execution_count": null,
   "id": "dd5e688a",
   "metadata": {},
   "outputs": [],
   "source": []
  }
 ],
 "metadata": {
  "kernelspec": {
   "display_name": "Python 3",
   "language": "python",
   "name": "python3"
  },
  "language_info": {
   "codemirror_mode": {
    "name": "ipython",
    "version": 3
   },
   "file_extension": ".py",
   "mimetype": "text/x-python",
   "name": "python",
   "nbconvert_exporter": "python",
   "pygments_lexer": "ipython3",
   "version": "3.8.8"
  }
 },
 "nbformat": 4,
 "nbformat_minor": 5
}
