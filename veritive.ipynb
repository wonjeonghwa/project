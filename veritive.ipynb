{
 "cells": [
  {
   "cell_type": "raw",
   "id": "1efc3ae3",
   "metadata": {},
   "source": [
    "# 변수 선언과 할당\n",
    "pi = 3.14159265\n",
    "r = 10\n",
    "\n",
    "# 변수 참조\n",
    "print(\"원주율 =\", pi)\n",
    "print(\"반지름 =\", r)\n",
    "print(\"원의 둘레 =\", 2*pi*r)       #원의 둘레\n",
    "print(\"원의 둘레 =\", pi*r*r)       #원의 넓이   "
   ]
  },
  {
   "cell_type": "code",
   "execution_count": 38,
   "id": "b99401e6",
   "metadata": {},
   "outputs": [
    {
     "name": "stdout",
     "output_type": "stream",
     "text": [
      "pi : pi\n",
      "pi : pi\n"
     ]
    }
   ],
   "source": [
    "print(\"pi :\", pi)\n",
    "pi = \"pi\"\n",
    "print(\"pi :\",pi) # 변수는 데이터 타입과 무관하게 다른 데이터 타입으로  재사용 가능"
   ]
  },
  {
   "cell_type": "code",
   "execution_count": 37,
   "id": "8ba9cbc4",
   "metadata": {},
   "outputs": [
    {
     "name": "stdout",
     "output_type": "stream",
     "text": [
      "26.0\n",
      "Hello!!\n",
      "Hello!!Hello!!Hello!!\n"
     ]
    }
   ],
   "source": [
    "number = 100\n",
    "number += 30\n",
    "number *= 2\n",
    "number /= 10\n",
    "print(number)\n",
    "\n",
    "string = \"Hello\"; string += \"!\"; string += \"!\"; print(string)\n",
    "string *= 3; print(string)"
   ]
  },
  {
   "cell_type": "code",
   "execution_count": 34,
   "id": "454fa9b6",
   "metadata": {},
   "outputs": [
    {
     "name": "stdout",
     "output_type": "stream",
     "text": [
      "hello\n",
      "hello\n"
     ]
    },
    {
     "data": {
      "text/plain": [
       "'hello'"
      ]
     },
     "execution_count": 34,
     "metadata": {},
     "output_type": "execute_result"
    }
   ],
   "source": [
    "# input() : 입력을 받아 변수에 저장해서 사용\n",
    "input()\n",
    "i_str =input()\n",
    "i_str"
   ]
  },
  {
   "cell_type": "code",
   "execution_count": 50,
   "id": "32361651",
   "metadata": {},
   "outputs": [
    {
     "ename": "SyntaxError",
     "evalue": "invalid syntax (<ipython-input-50-31c51a22f1b3>, line 10)",
     "output_type": "error",
     "traceback": [
      "\u001b[1;36m  File \u001b[1;32m\"<ipython-input-50-31c51a22f1b3>\"\u001b[1;36m, line \u001b[1;32m10\u001b[0m\n\u001b[1;33m    split_num = int(input_str{-1}) # 마지막 입력한 숫자를 split_num 에 저장\u001b[0m\n\u001b[1;37m                             ^\u001b[0m\n\u001b[1;31mSyntaxError\u001b[0m\u001b[1;31m:\u001b[0m invalid syntax\n"
     ]
    }
   ],
   "source": [
    "# 문 : unput() 함수를 이용하여 키보드에서 문자열 (임의로), blank (1), 숫자 (1자리)를 입력받아\n",
    "# 문자와 숫자를 가각 변수에 저장한 후 입력된 문자열을 입력한 숫자만큼 반복해서 출력\n",
    "# 문자를 처음부터 -2 인덱스까지 저장 , 숫자는 (-1)로 잘라서 각가의 변수에 저장 후 실행\n",
    "# 숫자가 문자로 인식 int(숫자형변수) -> int로 변환 됨\n",
    "# a = '1'; print (type(a))\n",
    "# a = int(a); print(type(a))\n",
    "input_str = input()  # 키보드로부터 입력받은 자료를 input_str에 저장\n",
    "split_str = input_str[ : -2] # 문자열만 split_str 변수에 저장\n",
    "split_num = int(input_str{-1}) # 마지막 입력한 숫자를 split_num 에 저장\n",
    "print(split_str * split_num)"
   ]
  },
  {
   "cell_type": "code",
   "execution_count": 32,
   "id": "6e5f6a0a",
   "metadata": {},
   "outputs": [
    {
     "name": "stdout",
     "output_type": "stream",
     "text": [
      "24\n",
      "36\n",
      "60\n",
      "-12\n",
      "864\n",
      "0.6666666666666666\n"
     ]
    }
   ],
   "source": [
    "# 두 개의 숫자를 입력받아 변수에 저장한 후 \n",
    "# 1, 입력을 두번 받아 2, 타입 변환 후 실핼\n",
    "# 두 숫자의 +, *, /, - 의 결과를 출력\n",
    "num_1 = int(input())\n",
    "num_2 = int(input())\n",
    "print(num_1 + num_2)\n",
    "print(num_1 - num_2)\n",
    "print(num_1 * num_2)\n",
    "print(num_1 / num_2)"
   ]
  },
  {
   "cell_type": "code",
   "execution_count": 41,
   "id": "4b284d58",
   "metadata": {},
   "outputs": [
    {
     "data": {
      "text/plain": [
       "'1234'"
      ]
     },
     "execution_count": 41,
     "metadata": {},
     "output_type": "execute_result"
    }
   ],
   "source": [
    "str(\"1234\") + str(\"4567\")"
   ]
  },
  {
   "cell_type": "code",
   "execution_count": 44,
   "id": "6a278d1b",
   "metadata": {},
   "outputs": [
    {
     "data": {
      "text/plain": [
       "5801"
      ]
     },
     "execution_count": 44,
     "metadata": {},
     "output_type": "execute_result"
    }
   ],
   "source": [
    "1234 + 4567"
   ]
  },
  {
   "cell_type": "code",
   "execution_count": 48,
   "id": "a324d250",
   "metadata": {},
   "outputs": [
    {
     "name": "stdout",
     "output_type": "stream",
     "text": [
      "원의 반지름 입력 > 3.5\n",
      "\n",
      "반지름:  3.5\n",
      "둘레:  21.98\n",
      "넓이:  38.465\n"
     ]
    }
   ],
   "source": [
    "str_input = input(\"원의 반지름 입력 > \")\n",
    "num_input = float(str_input)\n",
    "print()\n",
    "print(\"반지름: \", num_input)\n",
    "print(\"둘레: \", 2 *3.14 * num_input)\n",
    "print(\"넓이: \", 3.14 * num_input ** 2)"
   ]
  }
 ],
 "metadata": {
  "kernelspec": {
   "display_name": "Python 3",
   "language": "python",
   "name": "python3"
  },
  "language_info": {
   "codemirror_mode": {
    "name": "ipython",
    "version": 3
   },
   "file_extension": ".py",
   "mimetype": "text/x-python",
   "name": "python",
   "nbconvert_exporter": "python",
   "pygments_lexer": "ipython3",
   "version": "3.8.8"
  }
 },
 "nbformat": 4,
 "nbformat_minor": 5
}
