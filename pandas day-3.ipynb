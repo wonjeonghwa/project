{
 "cells": [
  {
   "cell_type": "code",
   "execution_count": 1,
   "id": "d0dc6af2",
   "metadata": {},
   "outputs": [
    {
     "name": "stdout",
     "output_type": "stream",
     "text": [
      "    mpg  cylinders  diaplacenment horsepower  weight  acceleration  \\\n",
      "0  18.0          8          307.0      130.0  3504.0          12.0   \n",
      "1  15.0          8          350.0      165.0  3693.0          11.5   \n",
      "2  18.0          8          318.0      150.0  3436.0          11.0   \n",
      "3  16.0          8          304.0      150.0  3433.0          12.0   \n",
      "4  17.0          8          302.0      140.0  3449.0          10.5   \n",
      "\n",
      "   model year  origin                       name  \n",
      "0          70       1  chevrolet chevelle malibu  \n",
      "1          70       1          buick skylark 320  \n",
      "2          70       1         plymouth satellite  \n",
      "3          70       1              amc rebel sst  \n",
      "4          70       1                ford torino  \n",
      "\n",
      "\n",
      "      mpg  cylinders  diaplacenment horsepower  weight  acceleration  \\\n",
      "393  27.0          4          140.0      86.00  2790.0          15.6   \n",
      "394  44.0          4           97.0      52.00  2130.0          24.6   \n",
      "395  32.0          4          135.0      84.00  2295.0          11.6   \n",
      "396  28.0          4          120.0      79.00  2625.0          18.6   \n",
      "397  31.0          4          119.0      82.00  2720.0          19.4   \n",
      "\n",
      "     model year  origin             name  \n",
      "393          82       1  ford mustang gl  \n",
      "394          82       2        vw pickup  \n",
      "395          82       1    dodge rampage  \n",
      "396          82       1      ford ranger  \n",
      "397          82       1       chevy s-10  \n"
     ]
    }
   ],
   "source": [
    "import pandas as pd\n",
    "df = pd.read_csv('./auto-mpg.csv', header=None)\n",
    "df.columns = ['mpg','cylinders','diaplacenment','horsepower','weight',\n",
    "              'acceleration','model year','origin','name']\n",
    "\n",
    "print(df.head()) # 앞에서 5개 출력\n",
    "print('\\n')\n",
    "print(df.tail()) # 뒤에서 5개 출력"
   ]
  },
  {
   "cell_type": "code",
   "execution_count": 2,
   "id": "89d8d3b1",
   "metadata": {},
   "outputs": [
    {
     "name": "stdout",
     "output_type": "stream",
     "text": [
      "(398, 9)\n",
      "rows : 398, columns : 9\n",
      "<class 'pandas.core.frame.DataFrame'>\n",
      "RangeIndex: 398 entries, 0 to 397\n",
      "Data columns (total 9 columns):\n",
      " #   Column         Non-Null Count  Dtype  \n",
      "---  ------         --------------  -----  \n",
      " 0   mpg            398 non-null    float64\n",
      " 1   cylinders      398 non-null    int64  \n",
      " 2   diaplacenment  398 non-null    float64\n",
      " 3   horsepower     398 non-null    object \n",
      " 4   weight         398 non-null    float64\n",
      " 5   acceleration   398 non-null    float64\n",
      " 6   model year     398 non-null    int64  \n",
      " 7   origin         398 non-null    int64  \n",
      " 8   name           398 non-null    object \n",
      "dtypes: float64(4), int64(3), object(2)\n",
      "memory usage: 28.1+ KB\n"
     ]
    }
   ],
   "source": [
    "print(df.shape) # 데이터프레임의 차원을 보여줌\n",
    "# 데이터 프레임의 행의 갯수와 열의 갯수를 출력\n",
    "print(\"rows : {}, columns : {}\". format(df.shape[0],df.shape[1]))\n",
    "df.info() # 데이터의 정보 : 컬럼의 갯수, 각 컬럼의 row갯수, 데이터타입"
   ]
  },
  {
   "cell_type": "code",
   "execution_count": 3,
   "id": "68e350e4",
   "metadata": {},
   "outputs": [
    {
     "name": "stdout",
     "output_type": "stream",
     "text": [
      "              mpg   cylinders  diaplacenment       weight  acceleration  \\\n",
      "count  398.000000  398.000000     398.000000   398.000000    398.000000   \n",
      "mean    23.514573    5.454774     193.425879  2970.424623     15.568090   \n",
      "std      7.815984    1.701004     104.269838   846.841774      2.757689   \n",
      "min      9.000000    3.000000      68.000000  1613.000000      8.000000   \n",
      "25%     17.500000    4.000000     104.250000  2223.750000     13.825000   \n",
      "50%     23.000000    4.000000     148.500000  2803.500000     15.500000   \n",
      "75%     29.000000    8.000000     262.000000  3608.000000     17.175000   \n",
      "max     46.600000    8.000000     455.000000  5140.000000     24.800000   \n",
      "\n",
      "       model year      origin  \n",
      "count  398.000000  398.000000  \n",
      "mean    76.010050    1.572864  \n",
      "std      3.697627    0.802055  \n",
      "min     70.000000    1.000000  \n",
      "25%     73.000000    1.000000  \n",
      "50%     76.000000    1.000000  \n",
      "75%     79.000000    2.000000  \n",
      "max     82.000000    3.000000  \n"
     ]
    },
    {
     "data": {
      "text/html": [
       "<div>\n",
       "<style scoped>\n",
       "    .dataframe tbody tr th:only-of-type {\n",
       "        vertical-align: middle;\n",
       "    }\n",
       "\n",
       "    .dataframe tbody tr th {\n",
       "        vertical-align: top;\n",
       "    }\n",
       "\n",
       "    .dataframe thead th {\n",
       "        text-align: right;\n",
       "    }\n",
       "</style>\n",
       "<table border=\"1\" class=\"dataframe\">\n",
       "  <thead>\n",
       "    <tr style=\"text-align: right;\">\n",
       "      <th></th>\n",
       "      <th>mpg</th>\n",
       "      <th>weight</th>\n",
       "    </tr>\n",
       "  </thead>\n",
       "  <tbody>\n",
       "    <tr>\n",
       "      <th>count</th>\n",
       "      <td>398.000000</td>\n",
       "      <td>398.000000</td>\n",
       "    </tr>\n",
       "    <tr>\n",
       "      <th>std</th>\n",
       "      <td>7.815984</td>\n",
       "      <td>846.841774</td>\n",
       "    </tr>\n",
       "  </tbody>\n",
       "</table>\n",
       "</div>"
      ],
      "text/plain": [
       "              mpg      weight\n",
       "count  398.000000  398.000000\n",
       "std      7.815984  846.841774"
      ]
     },
     "execution_count": 3,
     "metadata": {},
     "output_type": "execute_result"
    }
   ],
   "source": [
    "print(df.describe())\n",
    "df_desc = df.describe().loc[['count','std'],['mpg','weight']]\n",
    "df_desc"
   ]
  },
  {
   "cell_type": "code",
   "execution_count": 4,
   "id": "225d3b31",
   "metadata": {},
   "outputs": [
    {
     "name": "stdout",
     "output_type": "stream",
     "text": [
      "mpg              398\n",
      "cylinders        398\n",
      "diaplacenment    398\n",
      "horsepower       398\n",
      "weight           398\n",
      "acceleration     398\n",
      "model year       398\n",
      "origin           398\n",
      "name             398\n",
      "dtype: int64\n"
     ]
    },
    {
     "data": {
      "text/plain": [
       "1    249\n",
       "3     79\n",
       "2     70\n",
       "Name: origin, dtype: int64"
      ]
     },
     "execution_count": 4,
     "metadata": {},
     "output_type": "execute_result"
    }
   ],
   "source": [
    "print(df.count()) #전체 컴럼들의 갯수\n",
    "df['origin'].value_counts() # 뜻을 알고싶으면 shift + tab # 같은 값들의 갯수를 출력\n",
    "#df.value_count()"
   ]
  },
  {
   "cell_type": "code",
   "execution_count": null,
   "id": "6fc47b71",
   "metadata": {},
   "outputs": [],
   "source": [
    "# 평균값 df.mean() : 전체 컴럼들의 평균\n",
    "# df.['컬럼명'] : 해당 컬럼의 평균\n",
    "# mean. median .min .max. std. corr\n"
   ]
  },
  {
   "cell_type": "code",
   "execution_count": 9,
   "id": "883ffde4",
   "metadata": {},
   "outputs": [
    {
     "name": "stdout",
     "output_type": "stream",
     "text": [
      "23.514572864321615\n",
      "23.0\n",
      "9.0\n",
      "46.6\n",
      "7.815984312565782\n",
      "             mpg    weight\n",
      "mpg     1.000000 -0.831741\n",
      "weight -0.831741  1.000000\n"
     ]
    }
   ],
   "source": [
    "import pandas as pd\n",
    "df = pd.read_csv('./auto-mpg.csv', header=None)\n",
    "df.columns = ['mpg','cylinders','diaplacenment','horsepower','weight',\n",
    "              'acceleration','model year','origin','name']\n",
    "print(df['mpg'].mean())\n",
    "print(df['mpg'].median())\n",
    "print(df['mpg'].min())\n",
    "print(df['mpg'].max())\n",
    "print(df['mpg'].std())\n",
    "print(df[['mpg','weight']].corr()) #두개이상 값을 [] 이력하면 [[]] 표시 리스트"
   ]
  },
  {
   "cell_type": "code",
   "execution_count": 20,
   "id": "a2ff93ad",
   "metadata": {},
   "outputs": [
    {
     "data": {
      "text/plain": [
       "Int64Index([1991, 1992, 1993, 1994, 1995, 1996, 1997, 1998, 1999, 2000, 2001,\n",
       "            2002, 2003, 2004, 2005, 2006, 2007, 2008, 2009, 2010, 2011, 2012,\n",
       "            2013, 2014, 2015, 2016],\n",
       "           dtype='int64')"
      ]
     },
     "execution_count": 20,
     "metadata": {},
     "output_type": "execute_result"
    }
   ],
   "source": [
    "import pandas as pd\n",
    "\n",
    "df = pd.read_excel('./남북한발전전력량.xlsx')\n",
    "\n",
    "df_ns = df.iloc[[0,5], 3:]\n",
    "df_ns.index = ['South','Nouth']\n",
    "df_ns.columns = df_ns.columns.map(int) # 컬럼명을 int로변경\n",
    "df_ns.columns\n",
    "\n",
    "# 데이터 전처리 : 컬럼의 데이터 타입 변경, 원하는 정보만 추출\n",
    "# 데이터 가공, Nan 데이터 처리 ....."
   ]
  },
  {
   "cell_type": "code",
   "execution_count": 28,
   "id": "9a72e544",
   "metadata": {},
   "outputs": [
    {
     "data": {
      "text/plain": [
       "<AxesSubplot:>"
      ]
     },
     "execution_count": 28,
     "metadata": {},
     "output_type": "execute_result"
    },
    {
     "data": {
      "image/png": "[encoded data removed]",
      "text/plain": [
       "<Figure size 432x288 with 1 Axes>"
      ]
     },
     "metadata": {
      "needs_background": "light"
     },
     "output_type": "display_data"
    }
   ],
   "source": [
    "#df_ns.plot() # .plat() 그래프를 그림\n",
    "df_ns_t = df_ns.T\n",
    "df_ns_t.plot(kind=\"line\")  "
   ]
  },
  {
   "cell_type": "code",
   "execution_count": 35,
   "id": "fb4df534",
   "metadata": {},
   "outputs": [
    {
     "data": {
      "text/plain": [
       "<AxesSubplot:xlabel='weight', ylabel='mpg'>"
      ]
     },
     "execution_count": 35,
     "metadata": {},
     "output_type": "execute_result"
    },
    {
     "data": {
      "image/png": "[encoded data removed]",
      "text/plain": [
       "<Figure size 432x288 with 1 Axes>"
      ]
     },
     "metadata": {
      "needs_background": "light"
     },
     "output_type": "display_data"
    },
    {
     "data": {
      "image/png": "[encoded data removed]",
      "text/plain": [
       "<Figure size 432x288 with 1 Axes>"
      ]
     },
     "metadata": {
      "needs_background": "light"
     },
     "output_type": "display_data"
    }
   ],
   "source": [
    "import pandas as pd\n",
    "\n",
    "df_mpg = pd.read_csv('./auto-mpg.csv', header=None)\n",
    "df_mpg.columns = ['mpg','cylinders','diaplacenment','horsepower','weight',\n",
    "              'acceleration','model year','origin','name']\n",
    "df_mpg[['mpg','cylinders']].plot(kind='box')\n",
    "df_mpg.plot(x='weight',y='mpg', kind='scatter')"
   ]
  },
  {
   "cell_type": "code",
   "execution_count": null,
   "id": "3c6f47f9",
   "metadata": {},
   "outputs": [],
   "source": []
  }
 ],
 "metadata": {
  "kernelspec": {
   "display_name": "Python 3",
   "language": "python",
   "name": "python3"
  },
  "language_info": {
   "codemirror_mode": {
    "name": "ipython",
    "version": 3
   },
   "file_extension": ".py",
   "mimetype": "text/x-python",
   "name": "python",
   "nbconvert_exporter": "python",
   "pygments_lexer": "ipython3",
   "version": "3.8.8"
  }
 },
 "nbformat": 4,
 "nbformat_minor": 5
}
