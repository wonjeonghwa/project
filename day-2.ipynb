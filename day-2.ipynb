{
 "cells": [
  {
   "cell_type": "markdown",
   "id": "9ee0feed",
   "metadata": {},
   "source": [
    "python의 데이타 타입 : 숫자 , 문자열 ,불리언\n",
    "input(), print(), int(), float(), srt()\n",
    "식별자 : 키워드 사용 불가, 문자로 시작, 숫자 포함가능, 대소문자 구별\n",
    "변수와 함수를 구별하는 방법 : 함수는 print() 처럼 식별자 뒤에 ()가 있음\n",
    "클래스 BeatuifilSoup() : 카멀타입의 식별자\n",
    "\n",
    "문자열 slice 하는 방법 : 인덱스를 사용하여 변수명 [1}\n",
    "\n",
    "문) 문자를 입력받아 2번째 부터 5글자만 잘라서 화면에 출력하세요\n",
    "문) 위에서 입력받은 문자열의 마지막 3글자를 출력하세요"
   ]
  },
  {
   "cell_type": "code",
   "execution_count": null,
   "id": "34709a28",
   "metadata": {},
   "outputs": [],
   "source": [
    "print(\"수고하셨습니다\"[1:6])"
   ]
  },
  {
   "cell_type": "code",
   "execution_count": null,
   "id": "0540a731",
   "metadata": {},
   "outputs": [],
   "source": [
    "print(\"수고하셨습니다\"[4:])"
   ]
  },
  {
   "cell_type": "code",
   "execution_count": null,
   "id": "ccc1b124",
   "metadata": {},
   "outputs": [],
   "source": [
    "input_srt = input()\n",
    "print(input_srt[1 : 6])\n",
    "print(input_srt[ -3: ])"
   ]
  },
  {
   "cell_type": "code",
   "execution_count": 12,
   "id": "3bfcbebb",
   "metadata": {},
   "outputs": [
    {
     "name": "stdout",
     "output_type": "stream",
     "text": [
      "입력된 숫자는 {} 10\n",
      "입력된 숫자는 30 format data type :  <class 'str'>\n"
     ]
    },
    {
     "data": {
      "text/plain": [
       "'입력된 숫자는 10와 20입니다'"
      ]
     },
     "execution_count": 12,
     "metadata": {},
     "output_type": "execute_result"
    }
   ],
   "source": [
    " # foormat() 함수 : 문자열 편집\n",
    "print(\"입력된 숫자는 {}\",format(10))\n",
    "a_str = \"입력된 숫자는 {}\".format(30)\n",
    "print(a_str, \"format data type : \", type(a_str))\n",
    "\"입력된 숫자는 {}와 {}입니다\".format(10,20)  "
   ]
  },
  {
   "cell_type": "code",
   "execution_count": 14,
   "id": "b14ed26a",
   "metadata": {},
   "outputs": [
    {
     "data": {
      "text/plain": [
       "'입력된 숫자는 30와 40입니다'"
      ]
     },
     "execution_count": 14,
     "metadata": {},
     "output_type": "execute_result"
    }
   ],
   "source": [
    "a_str\n",
    "len(a_str) #문자열의 길이를 구하는 함수\n",
    "input_str = \"입력된 숫자는 {}와 {}입니다\"\n",
    "input_str .format(30,40)"
   ]
  },
  {
   "cell_type": "code",
   "execution_count": 17,
   "id": "3847ee3a",
   "metadata": {},
   "outputs": [
    {
     "ename": "KeyboardInterrupt",
     "evalue": "Interrupted by user",
     "output_type": "error",
     "traceback": [
      "\u001b[1;31m---------------------------------------------------------------------------\u001b[0m",
      "\u001b[1;31mKeyboardInterrupt\u001b[0m                         Traceback (most recent call last)",
      "\u001b[1;32m<ipython-input-17-4e283aeda9f8>\u001b[0m in \u001b[0;36m<module>\u001b[1;34m\u001b[0m\n\u001b[1;32m----> 1\u001b[1;33m \u001b[0minput_data\u001b[0m \u001b[1;33m=\u001b[0m \u001b[0minput\u001b[0m\u001b[1;33m(\u001b[0m\u001b[1;34m\"두 수를 입력하세요 > \"\u001b[0m\u001b[1;33m)\u001b[0m\u001b[1;33m\u001b[0m\u001b[1;33m\u001b[0m\u001b[0m\n\u001b[0m\u001b[0;32m      2\u001b[0m \u001b[0minput_num1\u001b[0m \u001b[1;33m=\u001b[0m \u001b[0minput_data\u001b[0m\u001b[1;33m[\u001b[0m\u001b[1;36m0\u001b[0m\u001b[1;33m]\u001b[0m\u001b[1;33m\u001b[0m\u001b[1;33m\u001b[0m\u001b[0m\n\u001b[0;32m      3\u001b[0m \u001b[0minput_num2\u001b[0m \u001b[1;33m=\u001b[0m \u001b[0minput_data\u001b[0m\u001b[1;33m[\u001b[0m\u001b[1;36m2\u001b[0m\u001b[1;33m]\u001b[0m\u001b[1;33m\u001b[0m\u001b[1;33m\u001b[0m\u001b[0m\n\u001b[0;32m      4\u001b[0m \u001b[0mprint\u001b[0m\u001b[1;33m(\u001b[0m\u001b[0minput_str\u001b[0m \u001b[1;33m.\u001b[0m\u001b[0mformat\u001b[0m\u001b[1;33m(\u001b[0m\u001b[0minput_num1\u001b[0m\u001b[1;33m,\u001b[0m \u001b[0minput_num2\u001b[0m\u001b[1;33m)\u001b[0m\u001b[1;33m)\u001b[0m\u001b[1;33m\u001b[0m\u001b[1;33m\u001b[0m\u001b[0m\n",
      "\u001b[1;32m~\\anaconda3\\lib\\site-packages\\ipykernel\\kernelbase.py\u001b[0m in \u001b[0;36mraw_input\u001b[1;34m(self, prompt)\u001b[0m\n\u001b[0;32m    858\u001b[0m                 \u001b[1;34m\"raw_input was called, but this frontend does not support input requests.\"\u001b[0m\u001b[1;33m\u001b[0m\u001b[1;33m\u001b[0m\u001b[0m\n\u001b[0;32m    859\u001b[0m             )\n\u001b[1;32m--> 860\u001b[1;33m         return self._input_request(str(prompt),\n\u001b[0m\u001b[0;32m    861\u001b[0m             \u001b[0mself\u001b[0m\u001b[1;33m.\u001b[0m\u001b[0m_parent_ident\u001b[0m\u001b[1;33m,\u001b[0m\u001b[1;33m\u001b[0m\u001b[1;33m\u001b[0m\u001b[0m\n\u001b[0;32m    862\u001b[0m             \u001b[0mself\u001b[0m\u001b[1;33m.\u001b[0m\u001b[0m_parent_header\u001b[0m\u001b[1;33m,\u001b[0m\u001b[1;33m\u001b[0m\u001b[1;33m\u001b[0m\u001b[0m\n",
      "\u001b[1;32m~\\anaconda3\\lib\\site-packages\\ipykernel\\kernelbase.py\u001b[0m in \u001b[0;36m_input_request\u001b[1;34m(self, prompt, ident, parent, password)\u001b[0m\n\u001b[0;32m    902\u001b[0m             \u001b[1;32mexcept\u001b[0m \u001b[0mKeyboardInterrupt\u001b[0m\u001b[1;33m:\u001b[0m\u001b[1;33m\u001b[0m\u001b[1;33m\u001b[0m\u001b[0m\n\u001b[0;32m    903\u001b[0m                 \u001b[1;31m# re-raise KeyboardInterrupt, to truncate traceback\u001b[0m\u001b[1;33m\u001b[0m\u001b[1;33m\u001b[0m\u001b[1;33m\u001b[0m\u001b[0m\n\u001b[1;32m--> 904\u001b[1;33m                 \u001b[1;32mraise\u001b[0m \u001b[0mKeyboardInterrupt\u001b[0m\u001b[1;33m(\u001b[0m\u001b[1;34m\"Interrupted by user\"\u001b[0m\u001b[1;33m)\u001b[0m \u001b[1;32mfrom\u001b[0m \u001b[1;32mNone\u001b[0m\u001b[1;33m\u001b[0m\u001b[1;33m\u001b[0m\u001b[0m\n\u001b[0m\u001b[0;32m    905\u001b[0m             \u001b[1;32mexcept\u001b[0m \u001b[0mException\u001b[0m \u001b[1;32mas\u001b[0m \u001b[0me\u001b[0m\u001b[1;33m:\u001b[0m\u001b[1;33m\u001b[0m\u001b[1;33m\u001b[0m\u001b[0m\n\u001b[0;32m    906\u001b[0m                 \u001b[0mself\u001b[0m\u001b[1;33m.\u001b[0m\u001b[0mlog\u001b[0m\u001b[1;33m.\u001b[0m\u001b[0mwarning\u001b[0m\u001b[1;33m(\u001b[0m\u001b[1;34m\"Invalid Message:\"\u001b[0m\u001b[1;33m,\u001b[0m \u001b[0mexc_info\u001b[0m\u001b[1;33m=\u001b[0m\u001b[1;32mTrue\u001b[0m\u001b[1;33m)\u001b[0m\u001b[1;33m\u001b[0m\u001b[1;33m\u001b[0m\u001b[0m\n",
      "\u001b[1;31mKeyboardInterrupt\u001b[0m: Interrupted by user"
     ]
    }
   ],
   "source": [
    "input_data = input(\"두 수를 입력하세요 > \")\n",
    "input_num1 = input_data[0]\n",
    "input_num2 = input_data[2]\n",
    "print(input_str .format(input_num1, input_num2))"
   ]
  },
  {
   "cell_type": "code",
   "execution_count": 26,
   "id": "9068b896",
   "metadata": {},
   "outputs": [
    {
     "ename": "SyntaxError",
     "evalue": "invalid syntax (<ipython-input-26-2cc5417bd69d>, line 19)",
     "output_type": "error",
     "traceback": [
      "\u001b[1;36m  File \u001b[1;32m\"<ipython-input-26-2cc5417bd69d>\"\u001b[1;36m, line \u001b[1;32m19\u001b[0m\n\u001b[1;33m    print(output_e)\u001b[0m\n\u001b[1;37m    ^\u001b[0m\n\u001b[1;31mSyntaxError\u001b[0m\u001b[1;31m:\u001b[0m invalid syntax\n"
     ]
    }
   ],
   "source": [
    "# 정수\n",
    "output_a = \"{:d}\" .format(52)\n",
    "\n",
    "# 특정 칸에 출력하기\n",
    "output_b = \"{:5}\".format(52)            #5칸\n",
    "output_c = \"{:10d}\".format(52)          #10칸\n",
    "\n",
    "# 빈칸을 0으로 채우기\n",
    "output_d = \"{:05d}\".format(52)         #양수\n",
    "output_e = \"{:05d}\".format(-52)        #음수\n",
    "\n",
    "print(\"# 기본\")\n",
    "print(output_a)\n",
    "print(\"# 특정 칸에 출력하기\")\n",
    "print(output_b)\n",
    "print(output_c)\n",
    "print(# 빈칸을 0으로 채우기)\n",
    "print(output_d)\n",
    "print(output_e)"
   ]
  },
  {
   "cell_type": "code",
   "execution_count": 28,
   "id": "b99805d7",
   "metadata": {},
   "outputs": [
    {
     "name": "stdout",
     "output_type": "stream",
     "text": [
      "52.273000\n",
      "      52.273000\n",
      "     +52.273000\n",
      "+0000052.273000\n"
     ]
    }
   ],
   "source": [
    "output_a = \"{:f}\".format(52.273)\n",
    "output_b = \"{:15f}\".format(52.273)\n",
    "output_c = \"{:+15f}\".format(52.273)\n",
    "output_d = \"{:+015f}\".format(52.273)\n",
    "\n",
    "print(output_a)\n",
    "print(output_b)\n",
    "print(output_c)\n",
    "print(output_d)"
   ]
  },
  {
   "cell_type": "code",
   "execution_count": 33,
   "id": "98e0d575",
   "metadata": {},
   "outputs": [
    {
     "name": "stdout",
     "output_type": "stream",
     "text": [
      " HELLO PYTHON PROGRAMMING \n",
      "- hello python programming -\n",
      "-Hello python programming-\n",
      "-Hello python programming -\n",
      "- Hello python programming-\n",
      "False\n"
     ]
    }
   ],
   "source": [
    "# 문자열 관련 함수 : upper(), lower(), strip(), lstrip(), rstrip()\n",
    "a_str = \" Hello python programming \"\n",
    "print(a_str.upper())\n",
    "print(\"-{}-\".format(a_str.lower()))\n",
    "print(\"-{}-\".format(a_str.strip()))\n",
    "print(\"-{}-\".format(a_str.lstrip()))\n",
    "print(\"-{}-\".format(a_str.rstrip()))\n",
    "\n",
    "print(a_str.isalnum()) # alphabet or number인지 확인"
   ]
  },
  {
   "cell_type": "code",
   "execution_count": 43,
   "id": "f5af5d35",
   "metadata": {},
   "outputs": [
    {
     "name": "stdout",
     "output_type": "stream",
     "text": [
      "index :  1 H\n",
      "index :  7 H\n",
      "True\n",
      "False\n"
     ]
    },
    {
     "data": {
      "text/plain": [
       "['Hello', 'Hel', 'hel ']"
      ]
     },
     "execution_count": 43,
     "metadata": {},
     "output_type": "execute_result"
    }
   ],
   "source": [
    "# find(), rfind(), in, split() 함수 알아보기H\n",
    "\n",
    "a_str = \" Hello Hel hel \"\n",
    "print(\"index : \",a_str.find(\"Hel\"),a_str[a_str .find(\"Hel\")])\n",
    "print(\"index : \",a_str.rfind(\"Hel\"),a_str[a_str .rfind(\"Hel\")])\n",
    "\n",
    "print(\"hel\" in a_str) # 원하는 단어가 문장에 있는지 검색\n",
    "print(\"HEl\" in a_str)\n",
    "\n",
    "a_split = a_str.split() # 공백으로 문자열을 분리후 리스트로 반환\n",
    "b_str = \"Hello,Hel,hel \"\n",
    "b_str.split(',')"
   ]
  },
  {
   "cell_type": "markdown",
   "id": "487f535f",
   "metadata": {},
   "source": [
    "문) 키보드에서 두 숫자를 입력받아 두 숫자의 나눈 결과를 계산해서 화면에 출력\n",
    "자리수는 소수점 미만 2자리까지 표현해서 출력하세요\n",
    "- 입력함수 , 문자를 실수로 변환시키는 함수, 문자를 불리하는 함수"
   ]
  },
  {
   "cell_type": "code",
   "execution_count": 65,
   "id": "e2b7ae11",
   "metadata": {},
   "outputs": [
    {
     "name": "stdout",
     "output_type": "stream",
     "text": [
      " 두 수를 입력 > 20 3\n",
      "20.0  /  3.0  =    6.667\n"
     ]
    },
    {
     "data": {
      "text/plain": [
       "'20.0 / 3.0 =   6.667'"
      ]
     },
     "execution_count": 65,
     "metadata": {},
     "output_type": "execute_result"
    }
   ],
   "source": [
    "input_str = input(\" 두 수를 입력 > \")\n",
    "split_str = input_str.split()\n",
    "input_num1 = float(split_str[0])\n",
    "input_num2 = float(split_str[1])\n",
    "\n",
    "print(input_num1, \" / \", input_num2, \" = \", \"{:7.3f}\".format(input_num1/input_num2))\n",
    "\"{} / {} = {:7.3f}\".format(input_num1, input_num2, input_num1/input_num2)"
   ]
  },
  {
   "cell_type": "markdown",
   "id": "9be5d320",
   "metadata": {},
   "source": [
    "# chap3 : 조건문\n",
    "### 01 boolean\n",
    "==, !=, <, .< <=, .=, not ,and ,or"
   ]
  },
  {
   "cell_type": "code",
   "execution_count": 72,
   "id": "abd3b203",
   "metadata": {},
   "outputs": [
    {
     "name": "stdout",
     "output_type": "stream",
     "text": [
      "under_20 : True\n",
      "not unser_20: False\n"
     ]
    }
   ],
   "source": [
    "x = 10\n",
    "under_20 = x < 20\n",
    "print(\"under_20 :\", under_20)\n",
    "print(\"not unser_20:\",not under_20)"
   ]
  },
  {
   "cell_type": "code",
   "execution_count": 75,
   "id": "2b85b640",
   "metadata": {},
   "outputs": [
    {
     "name": "stdout",
     "output_type": "stream",
     "text": [
      " 두 수를 입력 > 10 5\n",
      "False\n",
      "False\n",
      "True\n"
     ]
    }
   ],
   "source": [
    "# 문) 키보드에서 두 수를 입력 받아 두수가 같으면 True를 다르면 False를 출력하세요\n",
    "input_str = input(\" 두 수를 입력 > \")\n",
    "split_num = input_str.split()\n",
    "print(split_num[0] == split_num[1])\n",
    "print(int(split_num[0]) < 10 and int(split_num[1]) < 10 ) # 둘 다 ture 면 true 아니면 false\n",
    "print(int(split_num[0]) < 10 or int(split_num[1]) < 10 ) # 둘 중의 하나만 true면 true"
   ]
  },
  {
   "cell_type": "code",
   "execution_count": 81,
   "id": "172cbdb9",
   "metadata": {},
   "outputs": [
    {
     "name": "stdout",
     "output_type": "stream",
     "text": [
      "조건문 처리\n",
      "조건문 처리111\n",
      "조건문 나옴\n",
      " or True\n"
     ]
    }
   ],
   "source": [
    "# if 조건문 :\n",
    "#    들여쓰기로 문장 처리\n",
    "if True:\n",
    "    print(\"조건문 처리\")\n",
    "    print(\"조건문 처리111\")\n",
    "if False:\n",
    "    print(\"조건문 처리222\")\n",
    "    print(\"조건문 처리333\")\n",
    "print(\"조건문 나옴\")\n",
    "\n",
    "if (10 == 100) and (20 < 100):\n",
    "    print(\" and flase\")\n",
    "if (10 == 100) or (20 <100):\n",
    "    print(\" or True\")\n",
    "\n",
    "#문) 1. 두 수를 입력받아 두 수가  0보다 크면 두 수의 합을 출력\n",
    "#문2) 두 수중 큰수에서 작은 수를 뺸 결과 출력\n",
    "#문#) 두 수중 0가 없으면 작은 수를 큰수로 나눈 나머지 값 출력"
   ]
  },
  {
   "cell_type": "code",
   "execution_count": 5,
   "id": "edaa5454",
   "metadata": {},
   "outputs": [
    {
     "name": "stdout",
     "output_type": "stream",
     "text": [
      " 숫자 입력 > 4\n",
      " 숫자 입력 > 3\n",
      "4  +  3  =  7\n",
      "4  -  3  =  1\n",
      "4  %  3  =  1\n"
     ]
    }
   ],
   "source": [
    "num1 = int(input(\" 숫자 입력 > \"))\n",
    "num2 = int(input(\" 숫자 입력 > \"))\n",
    "if num1 >0 and num2 >0 :\n",
    "    print(num1, \" + \", num2, \" = \", num1+num2)\n",
    "if num1 > num2:\n",
    "    print(num1, \" - \", num2, \" = \", num1-num2)\n",
    "if num1 < num2:\n",
    "    print(num2, \" + \", num1, \" = \", num2-num1)\n",
    "if num1 !=0 and num2 !=0 :\n",
    "    if num1 > num2:\n",
    "        print(num1, \" % \", num2, \" = \", num1%num2)\n",
    "    if num1 < num2:\n",
    "        print(num2, \" % \" ,num1, \" = \", num2%num1)"
   ]
  },
  {
   "cell_type": "code",
   "execution_count": 92,
   "id": "7357d177",
   "metadata": {},
   "outputs": [
    {
     "name": "stdout",
     "output_type": "stream",
     "text": [
      "2021 년\n",
      "9 월\n",
      "17 일\n",
      "12 시\n",
      "43 분\n",
      "40 초\n"
     ]
    }
   ],
   "source": [
    "# datetime 패키지 사용 import vozlwlaud, import 패키지명 as 약어 (alias명)\n",
    "# 패키지명 . 함수명\n",
    "import datetime as dt\n",
    "\n",
    "now = dt.datetime.now()\n",
    "print(now.year, \"년\")\n",
    "print(now.month, \"월\")\n",
    "print(now.day, \"일\")\n",
    "print(now.hour, \"시\")\n",
    "print(now.minute, \"분\")\n",
    "print(now.second, \"초\")"
   ]
  },
  {
   "cell_type": "code",
   "execution_count": 6,
   "id": "41b22b18",
   "metadata": {},
   "outputs": [
    {
     "name": "stdout",
     "output_type": "stream",
     "text": [
      " 정수 입력>13\n",
      "홀수입니다\n"
     ]
    }
   ],
   "source": [
    "# 입력을 받습니다.\n",
    "number = input (\" 정수 입력>\")\n",
    "number = int(number)\n",
    "\n",
    "# 조건문을 사용합니다\n",
    "if number % 2 == 0 :\n",
    "    print(\"짝수입니다\")\n",
    "    \n",
    "else:\n",
    "    print(\"홀수입니다\")"
   ]
  },
  {
   "cell_type": "code",
   "execution_count": 8,
   "id": "2e193d27",
   "metadata": {},
   "outputs": [
    {
     "name": "stdout",
     "output_type": "stream",
     "text": [
      " 숫자 입력 > 4\n",
      " 숫자 입력 > 3\n",
      "4  +  3  =  7\n",
      "4  -  3  =  1\n",
      "4  %  3  =  1\n"
     ]
    }
   ],
   "source": [
    "num1 = int(input(\" 숫자 입력 > \"))\n",
    "num2 = int(input(\" 숫자 입력 > \"))\n",
    "if num1 >0 and num2 >0 :\n",
    "    print(num1, \" + \", num2, \" = \", num1+num2)\n",
    "if num1 > num2:\n",
    "    print(num1, \" - \", num2, \" = \", num1-num2)\n",
    "else:\n",
    "    print(num2, \" + \", num1, \" = \", num2-num1)\n",
    "if num1 !=0 and num2 !=0 :\n",
    "    if num1 > num2:\n",
    "        print(num1, \" % \", num2, \" = \", num1%num2)\n",
    "    else:\n",
    "        print(num2, \" % \" ,num1, \" = \", num2%num1)"
   ]
  },
  {
   "cell_type": "code",
   "execution_count": 12,
   "id": "9f2be257",
   "metadata": {},
   "outputs": [
    {
     "name": "stdout",
     "output_type": "stream",
     "text": [
      "성적 입력 :67\n"
     ]
    }
   ],
   "source": [
    "# if , if ~ else, if ~ else ~, ..else\n",
    "# 성적을 입력 받아 등급을 붕여해서 출력\n",
    "# 60미만은 F,61~70 D, 71~80 C, 81~90 B, 91~100 A\n",
    "\n",
    "score = int(input(\"성적 입력 :\"))\n",
    "\n",
    "if score > 90 :\n",
    "    print(\"A\")\n",
    "elif 80 <  score:\n",
    "    print(\"B\")\n",
    "elif 70 <  score:\n",
    "    print(\"C\")\n",
    "elif 60 < score:\n",
    "    # 나중에 처리\n",
    "    pass\n",
    "else: \n",
    "    print(\"F\")\n",
    "#문) 숫자 연산지기호 숫자를 입력받아 연산지 기호가 '+'이면 두 숫자의합을\n",
    "# '-' 이면 두 수의 차를, '*'이면 두 수의 곱을, 아니면 \"기호 오류\" 문자 출력"
   ]
  },
  {
   "cell_type": "code",
   "execution_count": 29,
   "id": "7a36f72a",
   "metadata": {},
   "outputs": [
    {
     "name": "stdout",
     "output_type": "stream",
     "text": [
      "계산식 입력 :> 10 - 20\n",
      "10 - 20 =  -10\n"
     ]
    }
   ],
   "source": [
    "input_str = input(\"계산식 입력 :> \")\n",
    "num1 = int(input_str.split()[0])\n",
    "buho = input_str.split()[1]\n",
    "num2 = int(input_str.split()[2])\n",
    "como_var = \"{} {} {} = \".format(num1,buho,num2)\n",
    "if buho == '+':\n",
    "    print(como_var , num1+num2)\n",
    "elif buho == '-':\n",
    "    print(como_var, num1-num2)\n",
    "elif buho == '*':   \n",
    "    print(como_var , num1*num2)\n",
    "else:\n",
    "    print(\"기호 오류\")"
   ]
  },
  {
   "cell_type": "code",
   "execution_count": 37,
   "id": "00337c8b",
   "metadata": {},
   "outputs": [
    {
     "name": "stdout",
     "output_type": "stream",
     "text": [
      "[1, 2, 3, 4, 5, 6]\n",
      "[1, 2, 3, 1, 2, 3, 1, 2, 3]\n",
      "['abc', 'test', 123, True, 78, 'python', [1, 2, 3], 'add']\n",
      "['abc', 'test', 'insert data', 123, True, 78, 'python', [1, 2, 3], 'add']\n",
      "[1, 2, 3]\n"
     ]
    },
    {
     "data": {
      "text/plain": [
       "['abc', 'test', 'insert data', 123, True, 78, 'python', [1, 2, 3]]"
      ]
     },
     "execution_count": 37,
     "metadata": {},
     "output_type": "execute_result"
    }
   ],
   "source": [
    "a_list = [\"abc\", \"test\", 123, True, 78 ,\"python\", [1,2,3]]\n",
    "a_list[0] #\"abc\"\n",
    "a_list[0][0] # 'a'\n",
    "a_list[-1][-2] # 't', 3\n",
    "\n",
    "b_list = [1,2,3]; c_list =[4,5,6]\n",
    "print(b_list + c_list) # list 연산 + 두개의 리스트 결합 *반복\n",
    "print(b_list * 3)\n",
    "\n",
    "a_list.append(\"add\") # list의 마지막에 요소 추가\n",
    "print(a_list)\n",
    "a_list.insert(2, \"insert data\") # 원하는 위치에 데이터 추가\n",
    "print(a_list)\n",
    "len(a_list)\n",
    "print(b_list)\n",
    "b_list.extend(c_list) # b_list에 c_list의 값을 추가 기존의 데이터 변경\n",
    "b_list\n",
    "del a_list[-1]\n",
    "a_list"
   ]
  },
  {
   "cell_type": "code",
   "execution_count": 51,
   "id": "d68e2f5a",
   "metadata": {},
   "outputs": [
    {
     "ename": "KeyboardInterrupt",
     "evalue": "Interrupted by user",
     "output_type": "error",
     "traceback": [
      "\u001b[1;31m---------------------------------------------------------------------------\u001b[0m",
      "\u001b[1;31mKeyboardInterrupt\u001b[0m                         Traceback (most recent call last)",
      "\u001b[1;32m<ipython-input-51-9ab6b76fb264>\u001b[0m in \u001b[0;36m<module>\u001b[1;34m\u001b[0m\n\u001b[0;32m      9\u001b[0m \u001b[1;31m# 3. 추가로 여러 개의 데이터를 입력 받아 기존의 리스트에 추가 후 출력\u001b[0m\u001b[1;33m\u001b[0m\u001b[1;33m\u001b[0m\u001b[1;33m\u001b[0m\u001b[0m\n\u001b[0;32m     10\u001b[0m \u001b[1;31m# 4. 처음 입력한 데이터의 리스트 변수를 clear\u001b[0m\u001b[1;33m\u001b[0m\u001b[1;33m\u001b[0m\u001b[1;33m\u001b[0m\u001b[0m\n\u001b[1;32m---> 11\u001b[1;33m \u001b[0mf_list\u001b[0m \u001b[1;33m=\u001b[0m \u001b[0minput\u001b[0m\u001b[1;33m(\u001b[0m\u001b[1;34m\"input data : \"\u001b[0m\u001b[1;33m)\u001b[0m\u001b[1;33m.\u001b[0m\u001b[0msplit\u001b[0m\u001b[1;33m(\u001b[0m\u001b[1;33m)\u001b[0m  \u001b[1;31m# 자료입력\u001b[0m\u001b[1;33m\u001b[0m\u001b[1;33m\u001b[0m\u001b[0m\n\u001b[0m\u001b[0;32m     12\u001b[0m \u001b[0mprint\u001b[0m\u001b[1;33m(\u001b[0m\u001b[1;34m\"f_list 1111: \"\u001b[0m\u001b[1;33m,\u001b[0m\u001b[0mf_list\u001b[0m\u001b[1;33m,\u001b[0m \u001b[0mlen\u001b[0m\u001b[1;33m(\u001b[0m\u001b[0mf_list\u001b[0m\u001b[1;33m)\u001b[0m\u001b[1;33m)\u001b[0m \u001b[1;31m# 입력한 자료 리스트 출력, 갯수 출력\u001b[0m\u001b[1;33m\u001b[0m\u001b[1;33m\u001b[0m\u001b[0m\n\u001b[0;32m     13\u001b[0m \u001b[0mprint\u001b[0m\u001b[1;33m(\u001b[0m\u001b[0mf_list\u001b[0m\u001b[1;33m.\u001b[0m\u001b[0mpop\u001b[0m\u001b[1;33m(\u001b[0m\u001b[1;33m)\u001b[0m\u001b[1;33m)\u001b[0m \u001b[1;31m# 1. 마지막 데이터를 출력 후 삭제\u001b[0m\u001b[1;33m\u001b[0m\u001b[1;33m\u001b[0m\u001b[0m\n",
      "\u001b[1;32m~\\anaconda3\\lib\\site-packages\\ipykernel\\kernelbase.py\u001b[0m in \u001b[0;36mraw_input\u001b[1;34m(self, prompt)\u001b[0m\n\u001b[0;32m    858\u001b[0m                 \u001b[1;34m\"raw_input was called, but this frontend does not support input requests.\"\u001b[0m\u001b[1;33m\u001b[0m\u001b[1;33m\u001b[0m\u001b[0m\n\u001b[0;32m    859\u001b[0m             )\n\u001b[1;32m--> 860\u001b[1;33m         return self._input_request(str(prompt),\n\u001b[0m\u001b[0;32m    861\u001b[0m             \u001b[0mself\u001b[0m\u001b[1;33m.\u001b[0m\u001b[0m_parent_ident\u001b[0m\u001b[1;33m,\u001b[0m\u001b[1;33m\u001b[0m\u001b[1;33m\u001b[0m\u001b[0m\n\u001b[0;32m    862\u001b[0m             \u001b[0mself\u001b[0m\u001b[1;33m.\u001b[0m\u001b[0m_parent_header\u001b[0m\u001b[1;33m,\u001b[0m\u001b[1;33m\u001b[0m\u001b[1;33m\u001b[0m\u001b[0m\n",
      "\u001b[1;32m~\\anaconda3\\lib\\site-packages\\ipykernel\\kernelbase.py\u001b[0m in \u001b[0;36m_input_request\u001b[1;34m(self, prompt, ident, parent, password)\u001b[0m\n\u001b[0;32m    902\u001b[0m             \u001b[1;32mexcept\u001b[0m \u001b[0mKeyboardInterrupt\u001b[0m\u001b[1;33m:\u001b[0m\u001b[1;33m\u001b[0m\u001b[1;33m\u001b[0m\u001b[0m\n\u001b[0;32m    903\u001b[0m                 \u001b[1;31m# re-raise KeyboardInterrupt, to truncate traceback\u001b[0m\u001b[1;33m\u001b[0m\u001b[1;33m\u001b[0m\u001b[1;33m\u001b[0m\u001b[0m\n\u001b[1;32m--> 904\u001b[1;33m                 \u001b[1;32mraise\u001b[0m \u001b[0mKeyboardInterrupt\u001b[0m\u001b[1;33m(\u001b[0m\u001b[1;34m\"Interrupted by user\"\u001b[0m\u001b[1;33m)\u001b[0m \u001b[1;32mfrom\u001b[0m \u001b[1;32mNone\u001b[0m\u001b[1;33m\u001b[0m\u001b[1;33m\u001b[0m\u001b[0m\n\u001b[0m\u001b[0;32m    905\u001b[0m             \u001b[1;32mexcept\u001b[0m \u001b[0mException\u001b[0m \u001b[1;32mas\u001b[0m \u001b[0me\u001b[0m\u001b[1;33m:\u001b[0m\u001b[1;33m\u001b[0m\u001b[1;33m\u001b[0m\u001b[0m\n\u001b[0;32m    906\u001b[0m                 \u001b[0mself\u001b[0m\u001b[1;33m.\u001b[0m\u001b[0mlog\u001b[0m\u001b[1;33m.\u001b[0m\u001b[0mwarning\u001b[0m\u001b[1;33m(\u001b[0m\u001b[1;34m\"Invalid Message:\"\u001b[0m\u001b[1;33m,\u001b[0m \u001b[0mexc_info\u001b[0m\u001b[1;33m=\u001b[0m\u001b[1;32mTrue\u001b[0m\u001b[1;33m)\u001b[0m\u001b[1;33m\u001b[0m\u001b[1;33m\u001b[0m\u001b[0m\n",
      "\u001b[1;31mKeyboardInterrupt\u001b[0m: Interrupted by user"
     ]
    }
   ],
   "source": [
    "## list : [ , ....] -> 여러개의 데이터의 집합\n",
    "# list 추가 : ㅣlist명, append, list명,insert(index, 추가데이터), list명, extend(추가할리스트)\n",
    "# list 삭제 : list명, ppp(), list명,ppp(2:index), del list명[index]\n",
    "# list 값으로 삭제 : list명,remove(값)\n",
    "# list의 모든 값 삭제 : list명,clear()\n",
    "# 문) 여러개의 데이터를 입력 받아 리스트로 저장한 후\n",
    "# 1, 마지막 데이터를 출력 후 삭제\n",
    "# 2, 3번째 인덱스의 값을 출력\n",
    "# 3. 추가로 여러 개의 데이터를 입력 받아 기존의 리스트에 추가 후 출력\n",
    "# 4. 처음 입력한 데이터의 리스트 변수를 clear\n",
    "f_list = input(\"input data : \").split()  # 자료입력\n",
    "print(\"f_list 1111: \",f_list, len(f_list)) # 입력한 자료 리스트 출력, 갯수 출력\n",
    "print(f_list.pop()) # 1. 마지막 데이터를 출력 후 삭제\n",
    "print(\"f_list 2222: \",f_list)\n",
    "print(f_list[3]) # 2. 3번째 인덱스의 값을 출력\n",
    "\n",
    "f_list.extend(input(\"input data : \").split()) # 두번째 자료 입력 후 기존의 list에 추가\n",
    "print(\"f_list 3333: \",f_list)\n",
    "f_list.clear()\n",
    "print(\"f_list 4444: \",f_list)"
   ]
  },
  {
   "cell_type": "code",
   "execution_count": 52,
   "id": "a387e195",
   "metadata": {},
   "outputs": [
    {
     "name": "stdout",
     "output_type": "stream",
     "text": [
      "출력\n",
      "출력\n",
      "출력\n",
      "출력\n",
      "출력\n"
     ]
    }
   ],
   "source": [
    "for i in range(5):\n",
    "    print(\"출력\")"
   ]
  },
  {
   "cell_type": "code",
   "execution_count": 58,
   "id": "27c7f713",
   "metadata": {},
   "outputs": [
    {
     "name": "stdout",
     "output_type": "stream",
     "text": [
      "abc\n",
      "test\n",
      "123\n",
      "True\n",
      "78\n",
      "python\n",
      "[1, 2, 3]\n",
      "반복 : 0\n",
      "반복 : 1\n",
      "반복 : 2\n",
      "반복 : 3\n",
      "반복 : 4\n",
      "h  ~ \n",
      "e  ~ \n",
      "l  ~ \n",
      "l  ~ \n",
      "o  ~ \n"
     ]
    }
   ],
   "source": [
    "a_list = [\"abc\", \"test\", 123, True, 78 ,\"python\", [1,2,3]]\n",
    "# 반복문 fot 변수 in 반복자료:\n",
    "#           처리문\n",
    "for i_var in a_list:\n",
    "    print(i_var)\n",
    "    \n",
    "for i in range(5): # 5회 반복\n",
    "    print(\"반복 :\", i)\n",
    "    \n",
    "for char in \"hello\":\n",
    "    print(char,' ~ ',)"
   ]
  },
  {
   "cell_type": "code",
   "execution_count": 62,
   "id": "ab499bbd",
   "metadata": {},
   "outputs": [
    {
     "name": "stdout",
     "output_type": "stream",
     "text": [
      "리스트 자료 > 2 ss 22 33 44 ed 56\n",
      "total :  157\n"
     ]
    }
   ],
   "source": [
    "# 키보드로 입력을 받아 리스트에 저장한 후 입력한 자료가 숫자이면 합을 구해서 출력하세요\n",
    "#1 input 자료를 리스트로 추가\n",
    "#2 리스트의 자료를 하나씩 비교 ( 숫자인지 ) 반복문 실행\n",
    "#3 숫자이면 합을 구함\n",
    "#4 반복문 끝난 후 합을 출력\n",
    "g_list = input(\"리스트 자료 > \").split()\n",
    "total = 0\n",
    "for var in g_list:\n",
    "    if var.isnumeric():\n",
    "        total += int(var)\n",
    "print(\"total : \", total)"
   ]
  },
  {
   "cell_type": "code",
   "execution_count": 69,
   "id": "f6a32a29",
   "metadata": {},
   "outputs": [
    {
     "name": "stdout",
     "output_type": "stream",
     "text": [
      "input numer : 10\n",
      "10 * 1 = 10\n",
      "10 * 2 = 20\n",
      "10 * 3 = 30\n",
      "10 * 4 = 40\n",
      "10 * 5 = 50\n",
      "10 * 6 = 60\n",
      "10 * 7 = 70\n",
      "10 * 8 = 80\n",
      "10 * 9 = 90\n"
     ]
    }
   ],
   "source": [
    "# 숫자를 입력 받아 해당하는 숫자외 구구단을 출력하세요\n",
    "# 3\n",
    "# 3 * 1 = 3\n",
    "# 3 * 2 = 6\n",
    "\n",
    "input_num = int(input(\"input numer : \"))\n",
    "for i in range(9):\n",
    "    print(\"{} * {} = {}\".format( input_num, i+1 ,input_num *(i+1)))"
   ]
  },
  {
   "cell_type": "code",
   "execution_count": null,
   "id": "a64e8129",
   "metadata": {},
   "outputs": [],
   "source": [
    "9월 17일 총정리\n",
    "1, 숫자와 문자열의 다양한 기능 : format()\n",
    "2. 문자열 구성 파악하기 is함수명() -> True 또는 False\n",
    "3. 문자열 자르기 : split() -> 문자열.split()\n",
    "4. 조건문 : if 조건식:, if ~ else, if ~ elif 조건식: ~ elif ... ~ else 조건식 없음\n",
    "5  날짜, 시간 함수 : datetime , import 의미\n",
    "6. list -> 관련 함수 append(), entend(), pop(), insert(), remove(), clear(), del\n",
    "7. 반복문 -> for 변수 in 리스트"
   ]
  }
 ],
 "metadata": {
  "kernelspec": {
   "display_name": "Python 3",
   "language": "python",
   "name": "python3"
  },
  "language_info": {
   "codemirror_mode": {
    "name": "ipython",
    "version": 3
   },
   "file_extension": ".py",
   "mimetype": "text/x-python",
   "name": "python",
   "nbconvert_exporter": "python",
   "pygments_lexer": "ipython3",
   "version": "3.8.8"
  }
 },
 "nbformat": 4,
 "nbformat_minor": 5
}
