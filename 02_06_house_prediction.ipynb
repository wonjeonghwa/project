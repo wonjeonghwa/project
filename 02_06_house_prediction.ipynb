{
  "nbformat": 4,
  "nbformat_minor": 0,
  "metadata": {
    "anaconda-cloud": {},
    "kernelspec": {
      "display_name": "Python 3",
      "language": "python",
      "name": "python3"
    },
    "language_info": {
      "codemirror_mode": {
        "name": "ipython",
        "version": 3
      },
      "file_extension": ".py",
      "mimetype": "text/x-python",
      "name": "python",
      "nbconvert_exporter": "python",
      "pygments_lexer": "ipython3",
      "version": "3.6.8"
    },
    "colab": {
      "name": "02_06_house_prediction.ipynb",
      "provenance": [],
      "collapsed_sections": []
    }
  },
  "cells": [
    {
      "cell_type": "code",
      "metadata": {
        "id": "xU9C-MIbMI3T",
        "outputId": "0cf4de3a-b1fd-4627-da2a-79676f23e94f",
        "colab": {
          "base_uri": "https://localhost:8080/"
        }
      },
      "source": [
        "\n",
        "import pandas as pd\n",
        "import tensorflow as tf\n",
        "import matplotlib.pyplot as plt\n",
        "\n",
        "## 데이터 읽어오기.\n",
        "df = pd.read_csv(\"./house_price_of_unit_area.csv\")\n",
        "\n",
        "print(df.info())\n",
        "print(df.head())\n"
      ],
      "execution_count": 29,
      "outputs": [
        {
          "output_type": "stream",
          "name": "stdout",
          "text": [
            "<class 'pandas.core.frame.DataFrame'>\n",
            "RangeIndex: 414 entries, 0 to 413\n",
            "Data columns (total 6 columns):\n",
            " #   Column                               Non-Null Count  Dtype  \n",
            "---  ------                               --------------  -----  \n",
            " 0   house age                            414 non-null    float64\n",
            " 1   distance to the nearest MRT station  414 non-null    float64\n",
            " 2   number of convenience stores         414 non-null    int64  \n",
            " 3   latitude                             414 non-null    float64\n",
            " 4   longitude                            414 non-null    float64\n",
            " 5   house price of unit area             414 non-null    float64\n",
            "dtypes: float64(5), int64(1)\n",
            "memory usage: 19.5 KB\n",
            "None\n",
            "   house age  ...  house price of unit area\n",
            "0       32.0  ...                      37.9\n",
            "1       19.5  ...                      42.2\n",
            "2       13.3  ...                      47.3\n",
            "3       13.3  ...                      54.8\n",
            "4        5.0  ...                      43.1\n",
            "\n",
            "[5 rows x 6 columns]\n"
          ]
        }
      ]
    },
    {
      "cell_type": "code",
      "metadata": {
        "id": "LB8zfGsKMI3X"
      },
      "source": [
        "\n",
        "\n",
        "## key말고 해당하는 value값만 추출해서 입력과 정갑 데이터 분류\n",
        "x_data = df.copy()\n",
        "tf.random.set_seed(777) #random seed를 고정해줘서 돌릴때마다 랜덤값을 고정\n",
        "y_data = x_data.pop(\"house price of unit area\")\n"
      ],
      "execution_count": 41,
      "outputs": []
    },
    {
      "cell_type": "code",
      "metadata": {
        "id": "L1py9phzYc6R"
      },
      "source": [
        "print(y_data)"
      ],
      "execution_count": null,
      "outputs": []
    },
    {
      "cell_type": "code",
      "metadata": {
        "id": "Z9Av5WjXYnrZ",
        "outputId": "876448da-d00f-4216-9f05-a3b652351a7f",
        "colab": {
          "base_uri": "https://localhost:8080/"
        }
      },
      "source": [
        "print(x_data)"
      ],
      "execution_count": 43,
      "outputs": [
        {
          "output_type": "stream",
          "name": "stdout",
          "text": [
            "     house age  distance to the nearest MRT station  ...  latitude  longitude\n",
            "0         32.0                             84.87882  ...  24.98298  121.54024\n",
            "1         19.5                            306.59470  ...  24.98034  121.53951\n",
            "2         13.3                            561.98450  ...  24.98746  121.54391\n",
            "3         13.3                            561.98450  ...  24.98746  121.54391\n",
            "4          5.0                            390.56840  ...  24.97937  121.54245\n",
            "..         ...                                  ...  ...       ...        ...\n",
            "409       13.7                           4082.01500  ...  24.94155  121.50381\n",
            "410        5.6                             90.45606  ...  24.97433  121.54310\n",
            "411       18.8                            390.96960  ...  24.97923  121.53986\n",
            "412        8.1                            104.81010  ...  24.96674  121.54067\n",
            "413        6.5                             90.45606  ...  24.97433  121.54310\n",
            "\n",
            "[414 rows x 5 columns]\n"
          ]
        }
      ]
    },
    {
      "cell_type": "code",
      "metadata": {
        "id": "_DJQx5h6MI3Y",
        "outputId": "44b32810-96dc-4fc8-dc31-4d7262536687",
        "colab": {
          "base_uri": "https://localhost:8080/"
        }
      },
      "source": [
        "\n",
        "# 모델의 설정\n",
        "model = tf.keras.Sequential()\n",
        "model.add(tf.keras.layers.Dense(64, input_dim=5, activation='sigmoid'))\n",
        "model.add(tf.keras.layers.Dense(128, activation='sigmoid'))\n",
        "model.add(tf.keras.layers.Dense(256, activation='sigmoid'))\n",
        "model.add(tf.keras.layers.Dense(1))\n",
        "model.summary()\n",
        "\n"
      ],
      "execution_count": 53,
      "outputs": [
        {
          "output_type": "stream",
          "name": "stdout",
          "text": [
            "Model: \"sequential_3\"\n",
            "_________________________________________________________________\n",
            "Layer (type)                 Output Shape              Param #   \n",
            "=================================================================\n",
            "dense_51 (Dense)             (None, 64)                384       \n",
            "_________________________________________________________________\n",
            "dense_52 (Dense)             (None, 128)               8320      \n",
            "_________________________________________________________________\n",
            "dense_53 (Dense)             (None, 256)               33024     \n",
            "_________________________________________________________________\n",
            "dense_54 (Dense)             (None, 1)                 257       \n",
            "=================================================================\n",
            "Total params: 41,985\n",
            "Trainable params: 41,985\n",
            "Non-trainable params: 0\n",
            "_________________________________________________________________\n"
          ]
        }
      ]
    },
    {
      "cell_type": "code",
      "metadata": {
        "id": "De2dsAZLMI3Z",
        "colab": {
          "base_uri": "https://localhost:8080/"
        },
        "outputId": "6c4f4e0a-a9e5-4538-cab4-146417a95a58"
      },
      "source": [
        "\n",
        "optimizer=tf.keras.optimizers.SGD(learning_rate=0.04) ### 경사 하강법으로 global min 에 찾아가는 최적화 방법 선언.\n",
        "loss=tf.keras.losses.mean_squared_error  ## 예측값 과 정답의 오차값 정의.\n",
        "metrics=tf.keras.metrics.RootMeanSquaredError() ### 학습하면서 평가할 메트릭스 선언언\n",
        "\n",
        "model.compile(loss =loss, optimizer= optimizer, metrics=[metrics])\n",
        "\n",
        "## 모델 동작\n",
        "result= model.fit(x_data, y_data, epochs= 100, batch_size=100)"
      ],
      "execution_count": 54,
      "outputs": [
        {
          "output_type": "stream",
          "name": "stdout",
          "text": [
            "Epoch 1/100\n",
            "5/5 [==============================] - 0s 4ms/step - loss: 9746.7275 - root_mean_squared_error: 98.7255\n",
            "Epoch 2/100\n",
            "5/5 [==============================] - 0s 4ms/step - loss: 1347.0885 - root_mean_squared_error: 36.7027\n",
            "Epoch 3/100\n",
            "5/5 [==============================] - 0s 4ms/step - loss: 669.5294 - root_mean_squared_error: 25.8753\n",
            "Epoch 4/100\n",
            "5/5 [==============================] - 0s 4ms/step - loss: 386.1737 - root_mean_squared_error: 19.6513\n",
            "Epoch 5/100\n",
            "5/5 [==============================] - 0s 4ms/step - loss: 272.1414 - root_mean_squared_error: 16.4967\n",
            "Epoch 6/100\n",
            "5/5 [==============================] - 0s 3ms/step - loss: 221.9879 - root_mean_squared_error: 14.8993\n",
            "Epoch 7/100\n",
            "5/5 [==============================] - 0s 3ms/step - loss: 202.8628 - root_mean_squared_error: 14.2430\n",
            "Epoch 8/100\n",
            "5/5 [==============================] - 0s 3ms/step - loss: 193.1803 - root_mean_squared_error: 13.8989\n",
            "Epoch 9/100\n",
            "5/5 [==============================] - 0s 3ms/step - loss: 187.7177 - root_mean_squared_error: 13.7010\n",
            "Epoch 10/100\n",
            "5/5 [==============================] - 0s 3ms/step - loss: 185.9288 - root_mean_squared_error: 13.6356\n",
            "Epoch 11/100\n",
            "5/5 [==============================] - 0s 3ms/step - loss: 185.3460 - root_mean_squared_error: 13.6142\n",
            "Epoch 12/100\n",
            "5/5 [==============================] - 0s 3ms/step - loss: 185.3826 - root_mean_squared_error: 13.6155\n",
            "Epoch 13/100\n",
            "5/5 [==============================] - 0s 4ms/step - loss: 185.3343 - root_mean_squared_error: 13.6138\n",
            "Epoch 14/100\n",
            "5/5 [==============================] - 0s 3ms/step - loss: 184.9861 - root_mean_squared_error: 13.6010\n",
            "Epoch 15/100\n",
            "5/5 [==============================] - 0s 3ms/step - loss: 185.1680 - root_mean_squared_error: 13.6076\n",
            "Epoch 16/100\n",
            "5/5 [==============================] - 0s 3ms/step - loss: 184.7966 - root_mean_squared_error: 13.5940\n",
            "Epoch 17/100\n",
            "5/5 [==============================] - 0s 3ms/step - loss: 184.7798 - root_mean_squared_error: 13.5934\n",
            "Epoch 18/100\n",
            "5/5 [==============================] - 0s 4ms/step - loss: 184.7381 - root_mean_squared_error: 13.5918\n",
            "Epoch 19/100\n",
            "5/5 [==============================] - 0s 3ms/step - loss: 184.7011 - root_mean_squared_error: 13.5905\n",
            "Epoch 20/100\n",
            "5/5 [==============================] - 0s 4ms/step - loss: 184.8295 - root_mean_squared_error: 13.5952\n",
            "Epoch 21/100\n",
            "5/5 [==============================] - 0s 3ms/step - loss: 184.8503 - root_mean_squared_error: 13.5960\n",
            "Epoch 22/100\n",
            "5/5 [==============================] - 0s 4ms/step - loss: 184.8321 - root_mean_squared_error: 13.5953\n",
            "Epoch 23/100\n",
            "5/5 [==============================] - 0s 4ms/step - loss: 184.8266 - root_mean_squared_error: 13.5951\n",
            "Epoch 24/100\n",
            "5/5 [==============================] - 0s 4ms/step - loss: 184.7807 - root_mean_squared_error: 13.5934\n",
            "Epoch 25/100\n",
            "5/5 [==============================] - 0s 4ms/step - loss: 184.7883 - root_mean_squared_error: 13.5937\n",
            "Epoch 26/100\n",
            "5/5 [==============================] - 0s 6ms/step - loss: 184.8144 - root_mean_squared_error: 13.5946\n",
            "Epoch 27/100\n",
            "5/5 [==============================] - 0s 4ms/step - loss: 184.8885 - root_mean_squared_error: 13.5974\n",
            "Epoch 28/100\n",
            "5/5 [==============================] - 0s 4ms/step - loss: 184.9377 - root_mean_squared_error: 13.5992\n",
            "Epoch 29/100\n",
            "5/5 [==============================] - 0s 4ms/step - loss: 184.7522 - root_mean_squared_error: 13.5924\n",
            "Epoch 30/100\n",
            "5/5 [==============================] - 0s 4ms/step - loss: 184.9449 - root_mean_squared_error: 13.5994\n",
            "Epoch 31/100\n",
            "5/5 [==============================] - 0s 4ms/step - loss: 184.7658 - root_mean_squared_error: 13.5929\n",
            "Epoch 32/100\n",
            "5/5 [==============================] - 0s 4ms/step - loss: 184.8067 - root_mean_squared_error: 13.5944\n",
            "Epoch 33/100\n",
            "5/5 [==============================] - 0s 4ms/step - loss: 184.8217 - root_mean_squared_error: 13.5949\n",
            "Epoch 34/100\n",
            "5/5 [==============================] - 0s 4ms/step - loss: 184.7506 - root_mean_squared_error: 13.5923\n",
            "Epoch 35/100\n",
            "5/5 [==============================] - 0s 4ms/step - loss: 184.8690 - root_mean_squared_error: 13.5967\n",
            "Epoch 36/100\n",
            "5/5 [==============================] - 0s 4ms/step - loss: 184.9824 - root_mean_squared_error: 13.6008\n",
            "Epoch 37/100\n",
            "5/5 [==============================] - 0s 4ms/step - loss: 184.7861 - root_mean_squared_error: 13.5936\n",
            "Epoch 38/100\n",
            "5/5 [==============================] - 0s 3ms/step - loss: 184.8023 - root_mean_squared_error: 13.5942\n",
            "Epoch 39/100\n",
            "5/5 [==============================] - 0s 3ms/step - loss: 184.7230 - root_mean_squared_error: 13.5913\n",
            "Epoch 40/100\n",
            "5/5 [==============================] - 0s 3ms/step - loss: 184.7960 - root_mean_squared_error: 13.5940\n",
            "Epoch 41/100\n",
            "5/5 [==============================] - 0s 3ms/step - loss: 185.0071 - root_mean_squared_error: 13.6017\n",
            "Epoch 42/100\n",
            "5/5 [==============================] - 0s 4ms/step - loss: 184.8366 - root_mean_squared_error: 13.5955\n",
            "Epoch 43/100\n",
            "5/5 [==============================] - 0s 4ms/step - loss: 184.8154 - root_mean_squared_error: 13.5947\n",
            "Epoch 44/100\n",
            "5/5 [==============================] - 0s 3ms/step - loss: 184.9634 - root_mean_squared_error: 13.6001\n",
            "Epoch 45/100\n",
            "5/5 [==============================] - 0s 3ms/step - loss: 184.9944 - root_mean_squared_error: 13.6013\n",
            "Epoch 46/100\n",
            "5/5 [==============================] - 0s 3ms/step - loss: 184.9852 - root_mean_squared_error: 13.6009\n",
            "Epoch 47/100\n",
            "5/5 [==============================] - 0s 4ms/step - loss: 185.1985 - root_mean_squared_error: 13.6088\n",
            "Epoch 48/100\n",
            "5/5 [==============================] - 0s 4ms/step - loss: 185.0048 - root_mean_squared_error: 13.6016\n",
            "Epoch 49/100\n",
            "5/5 [==============================] - 0s 3ms/step - loss: 184.8198 - root_mean_squared_error: 13.5948\n",
            "Epoch 50/100\n",
            "5/5 [==============================] - 0s 5ms/step - loss: 185.0554 - root_mean_squared_error: 13.6035\n",
            "Epoch 51/100\n",
            "5/5 [==============================] - 0s 4ms/step - loss: 185.1638 - root_mean_squared_error: 13.6075\n",
            "Epoch 52/100\n",
            "5/5 [==============================] - 0s 4ms/step - loss: 184.8596 - root_mean_squared_error: 13.5963\n",
            "Epoch 53/100\n",
            "5/5 [==============================] - 0s 4ms/step - loss: 184.8913 - root_mean_squared_error: 13.5975\n",
            "Epoch 54/100\n",
            "5/5 [==============================] - 0s 3ms/step - loss: 185.1119 - root_mean_squared_error: 13.6056\n",
            "Epoch 55/100\n",
            "5/5 [==============================] - 0s 4ms/step - loss: 185.0615 - root_mean_squared_error: 13.6037\n",
            "Epoch 56/100\n",
            "5/5 [==============================] - 0s 4ms/step - loss: 185.0156 - root_mean_squared_error: 13.6020\n",
            "Epoch 57/100\n",
            "5/5 [==============================] - 0s 3ms/step - loss: 184.7491 - root_mean_squared_error: 13.5922\n",
            "Epoch 58/100\n",
            "5/5 [==============================] - 0s 4ms/step - loss: 184.8086 - root_mean_squared_error: 13.5944\n",
            "Epoch 59/100\n",
            "5/5 [==============================] - 0s 4ms/step - loss: 184.8257 - root_mean_squared_error: 13.5951\n",
            "Epoch 60/100\n",
            "5/5 [==============================] - 0s 3ms/step - loss: 184.8023 - root_mean_squared_error: 13.5942\n",
            "Epoch 61/100\n",
            "5/5 [==============================] - 0s 5ms/step - loss: 184.7772 - root_mean_squared_error: 13.5933\n",
            "Epoch 62/100\n",
            "5/5 [==============================] - 0s 4ms/step - loss: 185.1888 - root_mean_squared_error: 13.6084\n",
            "Epoch 63/100\n",
            "5/5 [==============================] - 0s 4ms/step - loss: 184.7705 - root_mean_squared_error: 13.5930\n",
            "Epoch 64/100\n",
            "5/5 [==============================] - 0s 4ms/step - loss: 184.8029 - root_mean_squared_error: 13.5942\n",
            "Epoch 65/100\n",
            "5/5 [==============================] - 0s 4ms/step - loss: 185.0304 - root_mean_squared_error: 13.6026\n",
            "Epoch 66/100\n",
            "5/5 [==============================] - 0s 4ms/step - loss: 184.7024 - root_mean_squared_error: 13.5905\n",
            "Epoch 67/100\n",
            "5/5 [==============================] - 0s 6ms/step - loss: 184.7697 - root_mean_squared_error: 13.5930\n",
            "Epoch 68/100\n",
            "5/5 [==============================] - 0s 5ms/step - loss: 184.7005 - root_mean_squared_error: 13.5905\n",
            "Epoch 69/100\n",
            "5/5 [==============================] - 0s 3ms/step - loss: 184.9202 - root_mean_squared_error: 13.5985\n",
            "Epoch 70/100\n",
            "5/5 [==============================] - 0s 4ms/step - loss: 185.3630 - root_mean_squared_error: 13.6148\n",
            "Epoch 71/100\n",
            "5/5 [==============================] - 0s 4ms/step - loss: 185.3289 - root_mean_squared_error: 13.6136\n",
            "Epoch 72/100\n",
            "5/5 [==============================] - 0s 3ms/step - loss: 184.9842 - root_mean_squared_error: 13.6009\n",
            "Epoch 73/100\n",
            "5/5 [==============================] - 0s 3ms/step - loss: 184.9936 - root_mean_squared_error: 13.6012\n",
            "Epoch 74/100\n",
            "5/5 [==============================] - 0s 3ms/step - loss: 184.9580 - root_mean_squared_error: 13.5999\n",
            "Epoch 75/100\n",
            "5/5 [==============================] - 0s 4ms/step - loss: 184.7404 - root_mean_squared_error: 13.5919\n",
            "Epoch 76/100\n",
            "5/5 [==============================] - 0s 4ms/step - loss: 184.8307 - root_mean_squared_error: 13.5952\n",
            "Epoch 77/100\n",
            "5/5 [==============================] - 0s 4ms/step - loss: 184.7485 - root_mean_squared_error: 13.5922\n",
            "Epoch 78/100\n",
            "5/5 [==============================] - 0s 3ms/step - loss: 184.8257 - root_mean_squared_error: 13.5951\n",
            "Epoch 79/100\n",
            "5/5 [==============================] - 0s 4ms/step - loss: 184.7695 - root_mean_squared_error: 13.5930\n",
            "Epoch 80/100\n",
            "5/5 [==============================] - 0s 4ms/step - loss: 184.8248 - root_mean_squared_error: 13.5950\n",
            "Epoch 81/100\n",
            "5/5 [==============================] - 0s 4ms/step - loss: 184.9208 - root_mean_squared_error: 13.5986\n",
            "Epoch 82/100\n",
            "5/5 [==============================] - 0s 4ms/step - loss: 184.9712 - root_mean_squared_error: 13.6004\n",
            "Epoch 83/100\n",
            "5/5 [==============================] - 0s 4ms/step - loss: 184.8112 - root_mean_squared_error: 13.5945\n",
            "Epoch 84/100\n",
            "5/5 [==============================] - 0s 3ms/step - loss: 185.1643 - root_mean_squared_error: 13.6075\n",
            "Epoch 85/100\n",
            "5/5 [==============================] - 0s 4ms/step - loss: 184.8036 - root_mean_squared_error: 13.5942\n",
            "Epoch 86/100\n",
            "5/5 [==============================] - 0s 3ms/step - loss: 184.7519 - root_mean_squared_error: 13.5923\n",
            "Epoch 87/100\n",
            "5/5 [==============================] - 0s 3ms/step - loss: 184.8695 - root_mean_squared_error: 13.5967\n",
            "Epoch 88/100\n",
            "5/5 [==============================] - 0s 3ms/step - loss: 184.8353 - root_mean_squared_error: 13.5954\n",
            "Epoch 89/100\n",
            "5/5 [==============================] - 0s 3ms/step - loss: 184.8335 - root_mean_squared_error: 13.5953\n",
            "Epoch 90/100\n",
            "5/5 [==============================] - 0s 3ms/step - loss: 184.8859 - root_mean_squared_error: 13.5973\n",
            "Epoch 91/100\n",
            "5/5 [==============================] - 0s 3ms/step - loss: 184.9530 - root_mean_squared_error: 13.5997\n",
            "Epoch 92/100\n",
            "5/5 [==============================] - 0s 4ms/step - loss: 184.9084 - root_mean_squared_error: 13.5981\n",
            "Epoch 93/100\n",
            "5/5 [==============================] - 0s 4ms/step - loss: 185.0670 - root_mean_squared_error: 13.6039\n",
            "Epoch 94/100\n",
            "5/5 [==============================] - 0s 3ms/step - loss: 184.7922 - root_mean_squared_error: 13.5938\n",
            "Epoch 95/100\n",
            "5/5 [==============================] - 0s 3ms/step - loss: 184.8652 - root_mean_squared_error: 13.5965\n",
            "Epoch 96/100\n",
            "5/5 [==============================] - 0s 5ms/step - loss: 184.8056 - root_mean_squared_error: 13.5943\n",
            "Epoch 97/100\n",
            "5/5 [==============================] - 0s 4ms/step - loss: 184.7912 - root_mean_squared_error: 13.5938\n",
            "Epoch 98/100\n",
            "5/5 [==============================] - 0s 7ms/step - loss: 184.8044 - root_mean_squared_error: 13.5943\n",
            "Epoch 99/100\n",
            "5/5 [==============================] - 0s 4ms/step - loss: 184.8073 - root_mean_squared_error: 13.5944\n",
            "Epoch 100/100\n",
            "5/5 [==============================] - 0s 3ms/step - loss: 184.9386 - root_mean_squared_error: 13.5992\n"
          ]
        }
      ]
    },
    {
      "cell_type": "code",
      "metadata": {
        "id": "Mv8WnFE8aK_x",
        "outputId": "da97d5f3-923d-4840-9055-f8804c56e3de",
        "colab": {
          "base_uri": "https://localhost:8080/"
        }
      },
      "source": [
        "print(result.history.keys())"
      ],
      "execution_count": 48,
      "outputs": [
        {
          "output_type": "stream",
          "name": "stdout",
          "text": [
            "dict_keys(['loss', 'root_mean_squared_error'])\n"
          ]
        }
      ]
    },
    {
      "cell_type": "code",
      "metadata": {
        "id": "hgORvqH9MI3Z",
        "outputId": "851ecf92-4eb9-4b4b-d4a2-8f024ea89095",
        "colab": {
          "base_uri": "https://localhost:8080/",
          "height": 313
        }
      },
      "source": [
        "loss = result.history['loss']\n",
        "\n",
        "# loss 그래프\n",
        "epochs = range(1, len(loss)+1)\n",
        "plt.subplot(211)\n",
        "plt.plot(epochs, loss, 'bo', label='Training loss')\n",
        "plt.title('Training loss')\n",
        "plt.xlabel('Epochs')\n",
        "plt.ylabel('Loss')\n",
        "plt.legend()\n",
        "\n",
        "mae = result.history['root_mean_squared_error']\n",
        "epochs = range(1, len(mae)+1)\n",
        "\n",
        "# mean absolute error 그래프화\n",
        "plt.subplot(212)\n",
        "plt.plot(epochs, mae, 'ro', label='Training mae')\n",
        "plt.title('Training rmse')\n",
        "plt.xlabel('Epochs')\n",
        "plt.ylabel('rmse')\n",
        "plt.legend()"
      ],
      "execution_count": 57,
      "outputs": [
        {
          "output_type": "execute_result",
          "data": {
            "text/plain": [
              "<matplotlib.legend.Legend at 0x7f063461ced0>"
            ]
          },
          "metadata": {},
          "execution_count": 57
        },
        {
          "output_type": "display_data",
          "data": {
            "image/png": "[encoded data removed]",
            "text/plain": [
              "<Figure size 432x288 with 2 Axes>"
            ]
          },
          "metadata": {
            "needs_background": "light"
          }
        }
      ]
    },
    {
      "cell_type": "code",
      "metadata": {
        "id": "uqkPrqNLac-j",
        "outputId": "c3d5cf89-a869-4948-fcb3-904e0dace4e4",
        "colab": {
          "base_uri": "https://localhost:8080/"
        }
      },
      "source": [
        "# x_data -> model -> predict값 - y_data값을 추출\n",
        "\n",
        "print(model.evaluate(x_data, y_data))\n",
        "print(\"\\n Test rmse : %.4f\" % (model.evaluate(x_data, y_data)[1]))"
      ],
      "execution_count": 56,
      "outputs": [
        {
          "output_type": "stream",
          "name": "stdout",
          "text": [
            "13/13 [==============================] - 0s 2ms/step - loss: 184.7025 - root_mean_squared_error: 13.5905\n",
            "[184.70254516601562, 13.590531349182129]\n",
            "13/13 [==============================] - 0s 1ms/step - loss: 184.7025 - root_mean_squared_error: 13.5905\n",
            "\n",
            " Test rmse : 13.5905\n"
          ]
        }
      ]
    }
  ]
}