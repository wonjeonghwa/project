{
  "nbformat": 4,
  "nbformat_minor": 0,
  "metadata": {
    "anaconda-cloud": {},
    "colab": {
      "name": "02_01_tensor_multi_regression_keras.ipynb",
      "provenance": [],
      "collapsed_sections": []
    },
    "kernelspec": {
      "display_name": "Python 3",
      "language": "python",
      "name": "python3"
    },
    "language_info": {
      "codemirror_mode": {
        "name": "ipython",
        "version": 3
      },
      "file_extension": ".py",
      "mimetype": "text/x-python",
      "name": "python",
      "nbconvert_exporter": "python",
      "pygments_lexer": "ipython3",
      "version": "3.6.8"
    }
  },
  "cells": [
    {
      "cell_type": "code",
      "metadata": {
        "colab": {
          "base_uri": "https://localhost:8080/"
        },
        "id": "EpOYWC-pvCST",
        "outputId": "e534ca6f-7543-4557-f8b6-447df094d174"
      },
      "source": [
        "\n",
        "import tensorflow as tf\n",
        "\n",
        "## data 선언\n",
        "x_data = [[2.,0.,7.], [6.,4.,2.], [5.,2.,4.],[8.,4.,1]]\n",
        "y_data = [[75], [95], [91], [97]]\n",
        "test_data=[[5.,5.,5.]]\n",
        "print(len(x_data),len(x_data[1]))  # 행크기 , 열크기"
      ],
      "execution_count": 3,
      "outputs": [
        {
          "output_type": "stream",
          "name": "stdout",
          "text": [
            "4 3\n"
          ]
        }
      ]
    },
    {
      "cell_type": "code",
      "metadata": {
        "colab": {
          "base_uri": "https://localhost:8080/"
        },
        "id": "0K_slC9CvDKK",
        "outputId": "e5e50c96-6ca3-47d0-fd98-586017d1980b"
      },
      "source": [
        "## tf.keras를 활용한 perceptron 모델 구현.\n",
        "model = tf.keras.Sequential()\n",
        "model.add(tf.keras.layers.Dense (1, input_dim=3)) # 선언된 모델에 add를 통해 쌓아감. , 현재는 입력 변수 갯수 3, perceptron 1개.\n",
        "model.summary() ## 설계한 모델 프린트"
      ],
      "execution_count": 4,
      "outputs": [
        {
          "output_type": "stream",
          "name": "stdout",
          "text": [
            "Model: \"sequential\"\n",
            "_________________________________________________________________\n",
            "Layer (type)                 Output Shape              Param #   \n",
            "=================================================================\n",
            "dense (Dense)                (None, 1)                 4         \n",
            "=================================================================\n",
            "Total params: 4\n",
            "Trainable params: 4\n",
            "Non-trainable params: 0\n",
            "_________________________________________________________________\n"
          ]
        }
      ]
    },
    {
      "cell_type": "code",
      "metadata": {
        "id": "c0vySqGrvEKx",
        "colab": {
          "base_uri": "https://localhost:8080/"
        },
        "outputId": "bcb9c1f1-71fd-4b0e-866d-816d04515528"
      },
      "source": [
        "# 모델 loss, 학습 방법 결정하기\n",
        "optimizer= tf.keras.optimizers.SGD(lr=0.01)       ### 경사 하강법으로 global min 에 찾아가는 최적화 방법 선언.\n",
        "loss= tf.keras.losses.mse            ## 예측값 과 정답의 오차값 정의. mse는 mean squre error로 (예측값 - 정답)^2 를 의미\n",
        "metrics= tf.keras.metrics.mae        ### 학습하면서 평가할 메트릭스 선언 mse는 mean_absolute_error |예측값 - 정답| 를 의미\n",
        "\n",
        "# 모델 컴파일하기\n",
        "model.compile(loss=loss, optimizer=optimizer, metrics=[metrics] )\n",
        "\n",
        "# 모델 동작하기\n",
        "model.fit(x_data, y_data,   epochs=20,   batch_size=2)  # epochs 몇번 모델을 동작할것인지 , batch_size를 2로하면 사이즈 4개짜리를 2번 봐야되므로 2로표시됨"
      ],
      "execution_count": 5,
      "outputs": [
        {
          "output_type": "stream",
          "name": "stderr",
          "text": [
            "/usr/local/lib/python3.7/dist-packages/keras/optimizer_v2/optimizer_v2.py:356: UserWarning: The `lr` argument is deprecated, use `learning_rate` instead.\n",
            "  \"The `lr` argument is deprecated, use `learning_rate` instead.\")\n"
          ]
        },
        {
          "output_type": "stream",
          "name": "stdout",
          "text": [
            "Epoch 1/20\n",
            "2/2 [==============================] - 1s 5ms/step - loss: 4602.7534 - mean_absolute_error: 62.5943\n",
            "Epoch 2/20\n",
            "2/2 [==============================] - 0s 7ms/step - loss: 124.2946 - mean_absolute_error: 10.3880\n",
            "Epoch 3/20\n",
            "2/2 [==============================] - 0s 10ms/step - loss: 32.4876 - mean_absolute_error: 4.6919\n",
            "Epoch 4/20\n",
            "2/2 [==============================] - 0s 4ms/step - loss: 31.0976 - mean_absolute_error: 4.8158\n",
            "Epoch 5/20\n",
            "2/2 [==============================] - 0s 4ms/step - loss: 32.6812 - mean_absolute_error: 5.1277\n",
            "Epoch 6/20\n",
            "2/2 [==============================] - 0s 6ms/step - loss: 31.9507 - mean_absolute_error: 5.3649\n",
            "Epoch 7/20\n",
            "2/2 [==============================] - 0s 8ms/step - loss: 21.4168 - mean_absolute_error: 3.5283\n",
            "Epoch 8/20\n",
            "2/2 [==============================] - 0s 4ms/step - loss: 38.5348 - mean_absolute_error: 5.9169\n",
            "Epoch 9/20\n",
            "2/2 [==============================] - 0s 6ms/step - loss: 24.1341 - mean_absolute_error: 3.7072\n",
            "Epoch 10/20\n",
            "2/2 [==============================] - 0s 6ms/step - loss: 14.4104 - mean_absolute_error: 3.3719\n",
            "Epoch 11/20\n",
            "2/2 [==============================] - 0s 4ms/step - loss: 23.7824 - mean_absolute_error: 4.0354\n",
            "Epoch 12/20\n",
            "2/2 [==============================] - 0s 4ms/step - loss: 15.9413 - mean_absolute_error: 2.8609\n",
            "Epoch 13/20\n",
            "2/2 [==============================] - 0s 8ms/step - loss: 12.6996 - mean_absolute_error: 3.0083\n",
            "Epoch 14/20\n",
            "2/2 [==============================] - 0s 7ms/step - loss: 14.3558 - mean_absolute_error: 3.3441\n",
            "Epoch 15/20\n",
            "2/2 [==============================] - 0s 4ms/step - loss: 17.1249 - mean_absolute_error: 3.2114\n",
            "Epoch 16/20\n",
            "2/2 [==============================] - 0s 4ms/step - loss: 20.1292 - mean_absolute_error: 3.4479\n",
            "Epoch 17/20\n",
            "2/2 [==============================] - 0s 3ms/step - loss: 33.2428 - mean_absolute_error: 5.5053\n",
            "Epoch 18/20\n",
            "2/2 [==============================] - 0s 6ms/step - loss: 15.0013 - mean_absolute_error: 2.8034\n",
            "Epoch 19/20\n",
            "2/2 [==============================] - 0s 4ms/step - loss: 11.8691 - mean_absolute_error: 2.9456\n",
            "Epoch 20/20\n",
            "2/2 [==============================] - 0s 6ms/step - loss: 16.9725 - mean_absolute_error: 3.2809\n"
          ]
        },
        {
          "output_type": "execute_result",
          "data": {
            "text/plain": [
              "<keras.callbacks.History at 0x7f637c69b510>"
            ]
          },
          "metadata": {},
          "execution_count": 5
        }
      ]
    },
    {
      "cell_type": "code",
      "metadata": {
        "id": "m85zGO-9vFFR",
        "colab": {
          "base_uri": "https://localhost:8080/"
        },
        "outputId": "d4b6e41c-18ca-4475-8f27-46e4dde9cd5b"
      },
      "source": [
        "# 결과를 출력합니다.\n",
        "print(model.weights)\n",
        "print(\" test data [5.,5.,5.] 예측 값 : \", model.predict(test_data))"
      ],
      "execution_count": 6,
      "outputs": [
        {
          "output_type": "stream",
          "name": "stdout",
          "text": [
            "[<tf.Variable 'dense/kernel:0' shape=(3, 1) dtype=float32, numpy=\n",
            "array([[8.883559],\n",
            "       [4.378199],\n",
            "       [7.953858]], dtype=float32)>, <tf.Variable 'dense/bias:0' shape=(1,) dtype=float32, numpy=array([2.1306183], dtype=float32)>]\n",
            " test data [5.,5.,5.] 예측 값 :  [[108.208694]]\n"
          ]
        }
      ]
    },
    {
      "cell_type": "code",
      "metadata": {
        "id": "WCMNK8P0aLAA"
      },
      "source": [
        ""
      ],
      "execution_count": null,
      "outputs": []
    }
  ]
}