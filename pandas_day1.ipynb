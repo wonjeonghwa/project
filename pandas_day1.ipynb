{
 "cells": [
  {
   "cell_type": "code",
   "execution_count": null,
   "id": "0f80ac8e",
   "metadata": {},
   "outputs": [],
   "source": [
    "# pandas를 활욜하여 데이터 처리\n",
    "import pandas as pd\n",
    "\n",
    "dict_data = {'a' : 1, 'b' : 2, 'c' : 3}  # 인덱스와 데이터값을 둘다표시가능\n",
    "\n",
    "ar = pd.Series(dict_data)\n",
    "\n",
    "print(type(ar))\n",
    "print(\"\\n\")\n",
    "print(ar)\n",
    "\n",
    "print(dict_data['a'],\" : \",ar['a'],\" : \",ar[0])  # ar에서 'a' 인덱스명\n",
    "print(ar[['a','c']])\n",
    "ar[1:2]  # 인뎃스 첨자로 접근하면 마지막 첨자 위치 데이터 불포함 (숫자로가면 미포함)\n",
    "ar['a' : 'c'] #인덱스명으로 접근하면 마지막 데이터 포함\n",
    "# 딕셔너리를 시리즈로 변경 : 딕셔너리의 키가 시리즈의 인덱명이 됨\n",
    "# 접근은 인덱스명 또는 인덱스 첨자로 접근 가능"
   ]
  },
  {
   "cell_type": "code",
   "execution_count": 3,
   "id": "b47efbfd",
   "metadata": {},
   "outputs": [
    {
     "name": "stdout",
     "output_type": "stream",
     "text": [
      "   a  b  c\n",
      "0  1  4  7\n",
      "1  2  5  8\n",
      "2  3  6  9\n",
      "df1 :        a  b  c\n",
      "idx1  1  4  7\n",
      "idx2  2  5  8\n",
      "idx3  3  6  9\n"
     ]
    },
    {
     "data": {
      "text/html": [
       "<div>\n",
       "<style scoped>\n",
       "    .dataframe tbody tr th:only-of-type {\n",
       "        vertical-align: middle;\n",
       "    }\n",
       "\n",
       "    .dataframe tbody tr th {\n",
       "        vertical-align: top;\n",
       "    }\n",
       "\n",
       "    .dataframe thead th {\n",
       "        text-align: right;\n",
       "    }\n",
       "</style>\n",
       "<table border=\"1\" class=\"dataframe\">\n",
       "  <thead>\n",
       "    <tr style=\"text-align: right;\">\n",
       "      <th></th>\n",
       "      <th>a1</th>\n",
       "      <th>b1</th>\n",
       "      <th>c1</th>\n",
       "    </tr>\n",
       "  </thead>\n",
       "  <tbody>\n",
       "    <tr>\n",
       "      <th>ix1</th>\n",
       "      <td>1</td>\n",
       "      <td>2</td>\n",
       "      <td>3</td>\n",
       "    </tr>\n",
       "    <tr>\n",
       "      <th>ix2</th>\n",
       "      <td>4</td>\n",
       "      <td>5</td>\n",
       "      <td>6</td>\n",
       "    </tr>\n",
       "    <tr>\n",
       "      <th>ix3</th>\n",
       "      <td>7</td>\n",
       "      <td>8</td>\n",
       "      <td>9</td>\n",
       "    </tr>\n",
       "  </tbody>\n",
       "</table>\n",
       "</div>"
      ],
      "text/plain": [
       "     a1  b1  c1\n",
       "ix1   1   2   3\n",
       "ix2   4   5   6\n",
       "ix3   7   8   9"
      ]
     },
     "execution_count": 3,
     "metadata": {},
     "output_type": "execute_result"
    }
   ],
   "source": [
    "dict_data = {'a' : [1,2,3], 'b' : [4,5,6], 'c' : [7,8,9]}  # 인덱스와 데이터값을 둘다표시가능\n",
    "\n",
    "df = pd.DataFrame(dict_data)\n",
    "print(df)\n",
    "\n",
    "#index명을 부여\n",
    "df1 = pd.DataFrame(dict_data, index=[\"idx1\",\"idx2\",\"idx3\"], columns=['a','b','c'])\n",
    "print(\"df1 : \",df1)\n",
    "\n",
    "a_var = [[1,2,3],[4,5,6],[7,8,9]]\n",
    "df2 = pd.DataFrame(a_var,index=[\"idx1\",\"idx2\",\"idx3\"],columns=['a1','b1','c1'])\n",
    "df2  # index와 columns 명을 줄려면 리스트여야된다 자료값이 만이필요하므로\n",
    "\n",
    "df2.rename(index={'idx1':'ix1','idx2':'ix2','idx3':'ix3'}, inplace=True)\n",
    "df2"
   ]
  },
  {
   "cell_type": "code",
   "execution_count": 4,
   "id": "d51a38e2",
   "metadata": {},
   "outputs": [
    {
     "ename": "SyntaxError",
     "evalue": "unexpected EOF while parsing (<ipython-input-4-8c8b6fef3319>, line 18)",
     "output_type": "error",
     "traceback": [
      "\u001b[1;36m  File \u001b[1;32m\"<ipython-input-4-8c8b6fef3319>\"\u001b[1;36m, line \u001b[1;32m18\u001b[0m\n\u001b[1;33m    print(df1.drop(ida, axis=0, inplace=True) # axis=0\u001b[0m\n\u001b[1;37m                                                      ^\u001b[0m\n\u001b[1;31mSyntaxError\u001b[0m\u001b[1;31m:\u001b[0m unexpected EOF while parsing\n"
     ]
    }
   ],
   "source": [
    "#행인뎃스명 변경   : object.index = 새로운 행 인덱스 배열\n",
    "#컬럼 인뎃스명 변경 : object.columns = 새로운 컬럼명 배열\n",
    "import pandas as pd\n",
    "a_var = [[1,2,3],[4,5,6],[7,8,9]]\n",
    "df = pd.DataFrame(a_var)\n",
    "df\n",
    "\n",
    "df.index = ['a','b','c']\n",
    "df.columns = ['c1','c2','c3']\n",
    "df1 = df\n",
    "print(\"df1 : \",df1)\n",
    "df1.rename(index = {'a':'ida','b':'idb'}, inplace=True)\n",
    "print(\"df1 : :\")\n",
    "print(df1)\n",
    "\n",
    "#행 삭제 axis = 0 , 열 삭제 axis =1\n",
    "df2 = df1\n",
    "print(df1.drop(ida, axis=0, inplace=True) # axis=0"
   ]
  },
  {
   "cell_type": "code",
   "execution_count": null,
   "id": "863c5070",
   "metadata": {},
   "outputs": [],
   "source": [
    "df1 = df #df의 주소를 복사\n",
    "df2 = df[:] #df 값을 복사, df와 df2가 각기 다른 자료로 처리 가능\n",
    "df.drop(0, axis=0, inplace=True)\n",
    "df"
   ]
  },
  {
   "cell_type": "code",
   "execution_count": null,
   "id": "a8579f22",
   "metadata": {},
   "outputs": [],
   "source": [
    "import pandas as pd\n",
    "exam_data = {'수학' : [90, 80, 70], '영어' : [98, 89, 95],\n",
    "             '음악' : [85, 95, 100], '체육' : [100, 90, 90]}\n",
    "\n",
    "df = pd.DataFrame(exam_data, index=['서준', '우현', '인아'])\n",
    "print(df)\n",
    "print('\\n')\n",
    "\n",
    "df2 = df[:]\n",
    "df2.drop('우현', inplace=True)\n",
    "print(df2)\n",
    "print('\\n')\n",
    "\n",
    "df3 = df[:]\n",
    "df3.drop(['우현', '인아'], axis=0, inplace=True)\n",
    "print(df3)"
   ]
  },
  {
   "cell_type": "code",
   "execution_count": null,
   "id": "3293c140",
   "metadata": {},
   "outputs": [],
   "source": [
    "import pandas as pd\n",
    "exam_data = {'수학' : [90, 80, 70], '영어' : [98, 89, 95],\n",
    "             '음악' : [85, 95, 100], '체육' : [100, 90, 90]}\n",
    "\n",
    "df = pd.DataFrame(exam_data, index=['서준', '우현', '인아'])\n",
    "print(df)\n",
    "print('\\n')\n",
    "\n",
    "#df2 = df[:]\n",
    "df2 =df.copy()\n",
    "df2.drop('우현', inplace=True)\n",
    "print(df2)\n",
    "print('\\n')\n",
    "\n",
    "#df3 = df[:]\n",
    "df3 =df.copy()\n",
    "df3.drop(['우현', '인아'], axis=0, inplace=True)\n",
    "print(df3)"
   ]
  },
  {
   "cell_type": "code",
   "execution_count": null,
   "id": "e2f83e99",
   "metadata": {},
   "outputs": [],
   "source": [
    "exam_data = {'수학' : [90, 80, 70], '영어' : [98, 89, 95],\n",
    "             '음악' : [85, 95, 100], '체육' : [100, 90, 90]}\n",
    "\n",
    "df = pd.DataFrame(exam_data, index=['서준', '우현', '인아'])\n",
    "\n",
    "print(df.loc[\"서준\"])\n",
    "print(df.iloc[0])\n",
    "\n",
    "print(df.loc['서준':'인아']) #['인아']의 자료도 포함\n",
    "print(df.iloc[0:2]) # 첨자 인데스 2의 자료는 포함하지 않음\n",
    "\n",
    "print(df['수학'])  # 컬럼 인뎃스로 검색\n",
    "print(df.수학)\n",
    "print(df[['수학','영어']]) #여러가지 찾을때는 [[]] 두번 사용한다 #컬럼 인뎃스로 검색\n",
    "\n",
    "df.loc[\"과학\"] = [100,90,80,88] #row로 데이터를 추가하는경우 df.loc[인덱스명] = [값, ...]\n",
    "df"
   ]
  },
  {
   "cell_type": "code",
   "execution_count": null,
   "id": "be8c5918",
   "metadata": {},
   "outputs": [],
   "source": [
    "#문 키보드에서 이름과 국어 영어 수학 점수를 입력받아 이름을 인덱스로 정장하는 score dataframe릏생성\n",
    "#결과를 화면에 출력 d\\이름에 'quit'입력되면 입력 종료"
   ]
  },
  {
   "cell_type": "code",
   "execution_count": null,
   "id": "0135df45",
   "metadata": {},
   "outputs": [],
   "source": [
    "def input_score():\n",
    "    scores = input(\"국어 영어 수학 점수 입력 > \").split()\n",
    "    for i, score in enumerate(scores):\n",
    "        scores[i] = int(score)\n",
    "    return scores"
   ]
  },
  {
   "cell_type": "code",
   "execution_count": 2,
   "id": "3785dfb0",
   "metadata": {},
   "outputs": [
    {
     "name": "stdout",
     "output_type": "stream",
     "text": [
      "이름 입렵 quit 종료 > 이수만\n",
      "국어 영어 수학 점수 입력 > 80 90 100\n",
      "이름 입렵 quit 종료 > 김민종\n",
      "국어 영어 수학 점수 입력 > 70 80 90\n",
      "이름 입렵 quit 종료 > quit\n"
     ]
    },
    {
     "data": {
      "text/html": [
       "<div>\n",
       "<style scoped>\n",
       "    .dataframe tbody tr th:only-of-type {\n",
       "        vertical-align: middle;\n",
       "    }\n",
       "\n",
       "    .dataframe tbody tr th {\n",
       "        vertical-align: top;\n",
       "    }\n",
       "\n",
       "    .dataframe thead th {\n",
       "        text-align: right;\n",
       "    }\n",
       "</style>\n",
       "<table border=\"1\" class=\"dataframe\">\n",
       "  <thead>\n",
       "    <tr style=\"text-align: right;\">\n",
       "      <th></th>\n",
       "      <th>국어</th>\n",
       "      <th>영어</th>\n",
       "      <th>수학</th>\n",
       "    </tr>\n",
       "  </thead>\n",
       "  <tbody>\n",
       "    <tr>\n",
       "      <th>이수만</th>\n",
       "      <td>80</td>\n",
       "      <td>90</td>\n",
       "      <td>100</td>\n",
       "    </tr>\n",
       "    <tr>\n",
       "      <th>김민종</th>\n",
       "      <td>70</td>\n",
       "      <td>80</td>\n",
       "      <td>90</td>\n",
       "    </tr>\n",
       "  </tbody>\n",
       "</table>\n",
       "</div>"
      ],
      "text/plain": [
       "     국어  영어   수학\n",
       "이수만  80  90  100\n",
       "김민종  70  80   90"
      ]
     },
     "execution_count": 2,
     "metadata": {},
     "output_type": "execute_result"
    }
   ],
   "source": [
    "import pandas as pd\n",
    "\n",
    "df = pd.DataFrame(columns=[\"국어\",\"영어\",\"수학\"]) #컴럼명만 부여한 데이터프레임 생성\n",
    "\n",
    "while True:\n",
    "    name = input(\"이름 입렵 quit 종료 > \")\n",
    "    if name == \"quit\":\n",
    "        break\n",
    "        \n",
    "    score = input_score()\n",
    "    df.loc[name] = score #입력된 name 인덱스로 점수 추가\n",
    "    \n",
    "df \n",
    "\n",
    "#검색하고자 하는 이름을 입력받아 성적과 성적의 합계 출력\n",
    "#데이타 출력\n",
    "# 컴럼을 접근하는 방법 df.컬럼명 또는 df[컬럼명]\n",
    "# row를 접근하는 방법 df.iloc[인덱스], df.iloc[[1,3,5]] df.iloc[0:3], \n",
    "#           df.loc['aa':'cc'] df.loc['aa','cc']\n",
    "# df.iloc[시작 : 끝  : 간격 ]\n",
    "# df.loc['인덱스명, 컬럼명],      df.iloc[index 번호, col 열번호]"
   ]
  },
  {
   "cell_type": "code",
   "execution_count": 11,
   "id": "24f59fa2",
   "metadata": {},
   "outputs": [
    {
     "name": "stdout",
     "output_type": "stream",
     "text": [
      "이름 입렵 quit 종료 > 이수만\n",
      "국어 영어 수학 점수 입력 > 80 90 100\n",
      "이름 입렵 quit 종료 > 김민종\n",
      "국어 영어 수학 점수 입력 > 50 60 70\n",
      "이름 입렵 quit 종료 > quit\n"
     ]
    },
    {
     "data": {
      "text/html": [
       "<div>\n",
       "<style scoped>\n",
       "    .dataframe tbody tr th:only-of-type {\n",
       "        vertical-align: middle;\n",
       "    }\n",
       "\n",
       "    .dataframe tbody tr th {\n",
       "        vertical-align: top;\n",
       "    }\n",
       "\n",
       "    .dataframe thead th {\n",
       "        text-align: right;\n",
       "    }\n",
       "</style>\n",
       "<table border=\"1\" class=\"dataframe\">\n",
       "  <thead>\n",
       "    <tr style=\"text-align: right;\">\n",
       "      <th></th>\n",
       "      <th>국어</th>\n",
       "      <th>영어</th>\n",
       "      <th>수학</th>\n",
       "    </tr>\n",
       "  </thead>\n",
       "  <tbody>\n",
       "    <tr>\n",
       "      <th>이수만</th>\n",
       "      <td>80</td>\n",
       "      <td>90</td>\n",
       "      <td>100</td>\n",
       "    </tr>\n",
       "    <tr>\n",
       "      <th>김민종</th>\n",
       "      <td>50</td>\n",
       "      <td>60</td>\n",
       "      <td>70</td>\n",
       "    </tr>\n",
       "  </tbody>\n",
       "</table>\n",
       "</div>"
      ],
      "text/plain": [
       "     국어  영어   수학\n",
       "이수만  80  90  100\n",
       "김민종  50  60   70"
      ]
     },
     "execution_count": 11,
     "metadata": {},
     "output_type": "execute_result"
    }
   ],
   "source": [
    "def input_score():\n",
    "    scores = input(\"국어 영어 수학 점수 입력 > \").split()\n",
    "    for i, score in enumerate(scores):\n",
    "        scores[i] = int(score)\n",
    "    return scores\n",
    "\n",
    "import pandas as pd\n",
    "\n",
    "df = pd.DataFrame(columns=[\"국어\",\"영어\",\"수학\"]) #컴럼명만 부여한 데이터프레임 생성\n",
    "\n",
    "while True:\n",
    "    name = input(\"이름 입렵 quit 종료 > \")\n",
    "    if name == \"quit\":\n",
    "        break\n",
    "        \n",
    "    score = input_score()\n",
    "    df.loc[name] = score #입력된 name 인덱스로 점수 추가\n",
    "    \n",
    "df "
   ]
  },
  {
   "cell_type": "code",
   "execution_count": 12,
   "id": "32b87e28",
   "metadata": {},
   "outputs": [
    {
     "name": "stdout",
     "output_type": "stream",
     "text": [
      "검색할 이름 입력 :김민종\n",
      "김민종 : 50, 60, 70, total = 180\n"
     ]
    }
   ],
   "source": [
    "search_name = input(\"검색할 이름 입력 :\")\n",
    "\n",
    "for name in list(df.index):\n",
    "    if search_name == name:\n",
    "        kor = df.loc[search_name, '국어']\n",
    "        eng = df.loc[search_name, '영어']\n",
    "        math = df.loc[search_name, '수학']\n",
    "        print(\"{} : {}, {}, {}, total = {}\".format(search_name,kor,eng,math,kor+eng+math))"
   ]
  },
  {
   "cell_type": "code",
   "execution_count": 13,
   "id": "acf30a49",
   "metadata": {},
   "outputs": [
    {
     "data": {
      "text/html": [
       "<div>\n",
       "<style scoped>\n",
       "    .dataframe tbody tr th:only-of-type {\n",
       "        vertical-align: middle;\n",
       "    }\n",
       "\n",
       "    .dataframe tbody tr th {\n",
       "        vertical-align: top;\n",
       "    }\n",
       "\n",
       "    .dataframe thead th {\n",
       "        text-align: right;\n",
       "    }\n",
       "</style>\n",
       "<table border=\"1\" class=\"dataframe\">\n",
       "  <thead>\n",
       "    <tr style=\"text-align: right;\">\n",
       "      <th></th>\n",
       "      <th>이름</th>\n",
       "      <th>수학</th>\n",
       "      <th>영어</th>\n",
       "      <th>음악</th>\n",
       "      <th>체육</th>\n",
       "    </tr>\n",
       "  </thead>\n",
       "  <tbody>\n",
       "    <tr>\n",
       "      <th>0</th>\n",
       "      <td>서준</td>\n",
       "      <td>90</td>\n",
       "      <td>98</td>\n",
       "      <td>85</td>\n",
       "      <td>100</td>\n",
       "    </tr>\n",
       "    <tr>\n",
       "      <th>1</th>\n",
       "      <td>우현</td>\n",
       "      <td>80</td>\n",
       "      <td>89</td>\n",
       "      <td>95</td>\n",
       "      <td>90</td>\n",
       "    </tr>\n",
       "    <tr>\n",
       "      <th>2</th>\n",
       "      <td>인아</td>\n",
       "      <td>70</td>\n",
       "      <td>95</td>\n",
       "      <td>100</td>\n",
       "      <td>90</td>\n",
       "    </tr>\n",
       "  </tbody>\n",
       "</table>\n",
       "</div>"
      ],
      "text/plain": [
       "   이름  수학  영어   음악   체육\n",
       "0  서준  90  98   85  100\n",
       "1  우현  80  89   95   90\n",
       "2  인아  70  95  100   90"
      ]
     },
     "execution_count": 13,
     "metadata": {},
     "output_type": "execute_result"
    }
   ],
   "source": [
    "import pandas as pd\n",
    "\n",
    "# DataFrame() 함수로 데이터프레임 변환. 변수 df에 저장 \n",
    "exam_data = {'이름' : [ '서준', '우현', '인아'],\n",
    "             '수학' : [ 90, 80, 70],\n",
    "             '영어' : [ 98, 89, 95],\n",
    "             '음악' : [ 85, 95, 100],\n",
    "             '체육' : [ 100, 90, 90]}\n",
    "df = pd.DataFrame(exam_data)\n",
    "df"
   ]
  },
  {
   "cell_type": "code",
   "execution_count": 14,
   "id": "d546d44b",
   "metadata": {},
   "outputs": [
    {
     "name": "stdout",
     "output_type": "stream",
     "text": [
      "    수학  영어   음악   체육\n",
      "이름                  \n",
      "서준  90  98   85  100\n",
      "우현  80  89   95   90\n",
      "인아  70  95  100   90\n",
      "\n",
      "\n"
     ]
    }
   ],
   "source": [
    "# '이름' 열을 새로운 인덱스로 지정하고, df 객체에 변경사항 반영\n",
    "df.set_index('이름', inplace=True)\n",
    "print(df)\n",
    "print('\\n')"
   ]
  },
  {
   "cell_type": "code",
   "execution_count": 15,
   "id": "540c0aed",
   "metadata": {},
   "outputs": [
    {
     "name": "stdout",
     "output_type": "stream",
     "text": [
      "85\n",
      "85\n",
      "\n",
      "\n"
     ]
    }
   ],
   "source": [
    "# 데이터프레임 df의 특정 원소 1개 선택 ('서준'의 '음악' 점수)\n",
    "a = df.loc['서준', '음악']\n",
    "print(a)\n",
    "b = df.iloc[0, 2]\n",
    "print(b)\n",
    "print('\\n')"
   ]
  },
  {
   "cell_type": "code",
   "execution_count": 21,
   "id": "012bfe7d",
   "metadata": {},
   "outputs": [
    {
     "name": "stdout",
     "output_type": "stream",
     "text": [
      "음악     85\n",
      "체육    100\n",
      "Name: 서준, dtype: int64\n",
      "음악     85\n",
      "체육    100\n",
      "Name: 서준, dtype: int64\n",
      "음악     85\n",
      "체육    100\n",
      "Name: 서준, dtype: int64\n",
      "음악     85\n",
      "체육    100\n",
      "국어     80\n",
      "Name: 서준, dtype: int64\n",
      "\n",
      "\n",
      "    수학  영어   음악   체육  국어\n",
      "이름                      \n",
      "서준  90  98   85  100  80\n",
      "우현  80  89   95   90  80\n",
      "인아  70  95  100   90  80\n"
     ]
    },
    {
     "data": {
      "text/html": [
       "<div>\n",
       "<style scoped>\n",
       "    .dataframe tbody tr th:only-of-type {\n",
       "        vertical-align: middle;\n",
       "    }\n",
       "\n",
       "    .dataframe tbody tr th {\n",
       "        vertical-align: top;\n",
       "    }\n",
       "\n",
       "    .dataframe thead th {\n",
       "        text-align: right;\n",
       "    }\n",
       "</style>\n",
       "<table border=\"1\" class=\"dataframe\">\n",
       "  <thead>\n",
       "    <tr style=\"text-align: right;\">\n",
       "      <th></th>\n",
       "      <th>수학</th>\n",
       "      <th>영어</th>\n",
       "      <th>음악</th>\n",
       "      <th>체육</th>\n",
       "      <th>국어</th>\n",
       "    </tr>\n",
       "    <tr>\n",
       "      <th>이름</th>\n",
       "      <th></th>\n",
       "      <th></th>\n",
       "      <th></th>\n",
       "      <th></th>\n",
       "      <th></th>\n",
       "    </tr>\n",
       "  </thead>\n",
       "  <tbody>\n",
       "    <tr>\n",
       "      <th>서준</th>\n",
       "      <td>90</td>\n",
       "      <td>98</td>\n",
       "      <td>85</td>\n",
       "      <td>100</td>\n",
       "      <td>80</td>\n",
       "    </tr>\n",
       "    <tr>\n",
       "      <th>우현</th>\n",
       "      <td>80</td>\n",
       "      <td>89</td>\n",
       "      <td>95</td>\n",
       "      <td>90</td>\n",
       "      <td>80</td>\n",
       "    </tr>\n",
       "    <tr>\n",
       "      <th>인아</th>\n",
       "      <td>70</td>\n",
       "      <td>95</td>\n",
       "      <td>100</td>\n",
       "      <td>90</td>\n",
       "      <td>80</td>\n",
       "    </tr>\n",
       "    <tr>\n",
       "      <th>행추가</th>\n",
       "      <td>0</td>\n",
       "      <td>0</td>\n",
       "      <td>0</td>\n",
       "      <td>0</td>\n",
       "      <td>0</td>\n",
       "    </tr>\n",
       "  </tbody>\n",
       "</table>\n",
       "</div>"
      ],
      "text/plain": [
       "     수학  영어   음악   체육  국어\n",
       "이름                       \n",
       "서준   90  98   85  100  80\n",
       "우현   80  89   95   90  80\n",
       "인아   70  95  100   90  80\n",
       "행추가   0   0    0    0   0"
      ]
     },
     "execution_count": 21,
     "metadata": {},
     "output_type": "execute_result"
    }
   ],
   "source": [
    "# 데이터프레임 df의 특정 원소 2개 이상 선택 ('서준'의 '음악', '체육' 점수) \n",
    "c = df.loc['서준', ['음악', '체육']]\n",
    "print(c)\n",
    "d = df.iloc[0, [2, 3]] # 인덱스 검색\n",
    "print(d)\n",
    "e = df.loc['서준', '음악':'체육'] #음악부터 체육까지\n",
    "print(e)\n",
    "f = df.iloc[0, 2:]\n",
    "print(f)\n",
    "print('\\n')\n",
    "df[\"국어\"] = 80\n",
    "print(df)\n",
    "df.loc[\"행추가\"] = 0\n",
    "df"
   ]
  },
  {
   "cell_type": "code",
   "execution_count": 22,
   "id": "8d6bf495",
   "metadata": {},
   "outputs": [
    {
     "name": "stdout",
     "output_type": "stream",
     "text": [
      "    음악   체육\n",
      "이름         \n",
      "서준  85  100\n",
      "우현  95   90\n"
     ]
    }
   ],
   "source": [
    "# df의 2개 이상의 행과 열로부터 원소 선택 ('서준', '우현'의 '음악', '체육' 점수) \n",
    "g = df.loc['서준':'우현','음악':'체육']\n",
    "print(g)"
   ]
  },
  {
   "cell_type": "code",
   "execution_count": null,
   "id": "5c2413ef",
   "metadata": {},
   "outputs": [],
   "source": [
    "g = df.loc[['서준', '우현'], ['음악', '체육']]\n",
    "print(g)\n",
    "h = df.iloc[[0, 1], [2, 3]]\n",
    "print(h)\n",
    "i = df.loc['서준':'우현', '음악':'체육']\n",
    "print(i)\n",
    "j = df.iloc[0:2, 2:]\n",
    "print(j"
   ]
  },
  {
   "cell_type": "code",
   "execution_count": null,
   "id": "ceede21d",
   "metadata": {},
   "outputs": [],
   "source": [
    "문)1. 이름을 입력받아 데이터프레임의 인덱스로 저장하고\n",
    "      키와 몸무게를 입력 받아 저장합니다\n",
    "      키와 몸무게가 float이 입력되지 않으면 다시 입력 하시고\n",
    "      이름에 'q'가 입력되면 입력 종료\n",
    "   2. 찾고자 하는 이름을 입력받아 키와 몸무게를 출력하고\n",
    "      키와 몸무게를 다시 입력받아 기존의 값을 변경하세요\n",
    "   3. 평균보다 적은 키를 가진 사람의 이름과 키를 출력하세요"
   ]
  },
  {
   "cell_type": "code",
   "execution_count": 29,
   "id": "9c7a893d",
   "metadata": {},
   "outputs": [
    {
     "name": "stdout",
     "output_type": "stream",
     "text": [
      "이름 입력 q 종료 > 김덕배\n",
      "키 몸무게 입력 > 160.5 65.5\n",
      "이름 입력 q 종료 > 김나희\n",
      "키 몸무게 입력 > 155.5 45.5\n",
      "이름 입력 q 종료 > 김수미\n",
      "키 몸무게 입력 > 157.5 47.5\n",
      "이름 입력 q 종료 > q\n"
     ]
    },
    {
     "data": {
      "text/html": [
       "<div>\n",
       "<style scoped>\n",
       "    .dataframe tbody tr th:only-of-type {\n",
       "        vertical-align: middle;\n",
       "    }\n",
       "\n",
       "    .dataframe tbody tr th {\n",
       "        vertical-align: top;\n",
       "    }\n",
       "\n",
       "    .dataframe thead th {\n",
       "        text-align: right;\n",
       "    }\n",
       "</style>\n",
       "<table border=\"1\" class=\"dataframe\">\n",
       "  <thead>\n",
       "    <tr style=\"text-align: right;\">\n",
       "      <th></th>\n",
       "      <th>키</th>\n",
       "      <th>몸무게</th>\n",
       "    </tr>\n",
       "  </thead>\n",
       "  <tbody>\n",
       "    <tr>\n",
       "      <th>김덕배</th>\n",
       "      <td>160.5</td>\n",
       "      <td>65.5</td>\n",
       "    </tr>\n",
       "    <tr>\n",
       "      <th>김나희</th>\n",
       "      <td>155.5</td>\n",
       "      <td>45.5</td>\n",
       "    </tr>\n",
       "    <tr>\n",
       "      <th>김수미</th>\n",
       "      <td>157.5</td>\n",
       "      <td>47.5</td>\n",
       "    </tr>\n",
       "  </tbody>\n",
       "</table>\n",
       "</div>"
      ],
      "text/plain": [
       "         키   몸무게\n",
       "김덕배  160.5  65.5\n",
       "김나희  155.5  45.5\n",
       "김수미  157.5  47.5"
      ]
     },
     "execution_count": 29,
     "metadata": {},
     "output_type": "execute_result"
    }
   ],
   "source": [
    "def input_score():\n",
    "    scores = input(\"키 몸무게 입력 > \").split()\n",
    "    for i, score in enumerate(scores):\n",
    "        scores[i] = float(score)\n",
    "    return scores\n",
    "\n",
    "import pandas as pd\n",
    "\n",
    "df = pd.DataFrame(columns=[\"키\",\"몸무게\"])\n",
    "\n",
    "while True:\n",
    "    name = input(\"이름 입력 q 종료 > \")\n",
    "    if name == \"q\":\n",
    "        break\n",
    "        \n",
    "    score = input_score()\n",
    "    df.loc[name] = score \n",
    "    \n",
    "df"
   ]
  },
  {
   "cell_type": "code",
   "execution_count": 32,
   "id": "96146957",
   "metadata": {},
   "outputs": [
    {
     "name": "stdout",
     "output_type": "stream",
     "text": [
      "         키   몸무게\n",
      "김덕배  160.5  65.5\n",
      "김나희  155.5  45.5\n"
     ]
    }
   ],
   "source": [
    "a = df.loc['김덕배':'김나희','키':'몸무게']\n",
    "print(a)"
   ]
  },
  {
   "cell_type": "code",
   "execution_count": 38,
   "id": "9b4d55ec",
   "metadata": {},
   "outputs": [],
   "source": [
    "def input_dataframe(df):\n",
    "    while True:\n",
    "        name = input(\"이름 입력 quit 종료 >  \")\n",
    "        if name == \"quit\":\n",
    "            break\n",
    "\n",
    "        data = input_data()\n",
    "        df.loc[name] = data  # 입력된 name 인덱스로 데이터 추가"
   ]
  },
  {
   "cell_type": "code",
   "execution_count": 39,
   "id": "90728595",
   "metadata": {},
   "outputs": [],
   "source": [
    "def input_data():\n",
    "    while True:\n",
    "        values = input(\"키와 몸무게 ex) 170 51.2 > \").split()\n",
    "        if len(values) == 2:\n",
    "           break\n",
    "        else:\n",
    "            print(\"키와 몸무게를 형식에 맞게 입력하세요 \")\n",
    "           \n",
    "    for i, value in enumerate(values):\n",
    "        values[i] = float(value)\n",
    "    return values"
   ]
  },
  {
   "cell_type": "code",
   "execution_count": 40,
   "id": "0181a46c",
   "metadata": {},
   "outputs": [],
   "source": [
    "def search_data(name, df):\n",
    "    for i, idx_name in enumerate(list(df.index)):\n",
    "        if name == idx_name:\n",
    "            return i\n",
    "\n",
    "def print_data(idx, df):\n",
    "    print(\"{} : {}, {}\".format(df.iloc[idx], df.iloc[idx,0], df.iloc[idx,1]))"
   ]
  },
  {
   "cell_type": "code",
   "execution_count": 41,
   "id": "2dafefc0",
   "metadata": {},
   "outputs": [
    {
     "name": "stdout",
     "output_type": "stream",
     "text": [
      "이름 입력 quit 종료 >  김덕배\n",
      "키와 몸무게 ex) 170 51.2 > 170 52.2\n",
      "이름 입력 quit 종료 >  김수미\n",
      "키와 몸무게 ex) 170 51.2 > 165 52.4\n",
      "이름 입력 quit 종료 >  김장수\n",
      "키와 몸무게 ex) 170 51.2 > 175 65.4\n",
      "이름 입력 quit 종료 >  quit\n",
      "1 : \n",
      "         키   몸무게\n",
      "김덕배  170.0  52.2\n",
      "김수미  165.0  52.4\n",
      "김장수  175.0  65.4\n"
     ]
    }
   ],
   "source": [
    "import pandas as pd\n",
    "\n",
    "df = pd.DataFrame(columns=[\"키\",\"몸무게\"])\n",
    "\n",
    "input_dataframe(df)  # 자료 입력\n",
    "print(\"1 : \")\n",
    "print(df)"
   ]
  },
  {
   "cell_type": "code",
   "execution_count": 43,
   "id": "7906ada9",
   "metadata": {},
   "outputs": [
    {
     "name": "stdout",
     "output_type": "stream",
     "text": [
      "검색할 이름 입력 : 김덕배\n",
      "키      165.0\n",
      "몸무게     52.4\n",
      "Name: 김덕배, dtype: float64 : 165.0, 52.4\n",
      "키와 몸무게 ex) 170 51.2 > 180 65.5\n",
      "2 : \n"
     ]
    },
    {
     "data": {
      "text/html": [
       "<div>\n",
       "<style scoped>\n",
       "    .dataframe tbody tr th:only-of-type {\n",
       "        vertical-align: middle;\n",
       "    }\n",
       "\n",
       "    .dataframe tbody tr th {\n",
       "        vertical-align: top;\n",
       "    }\n",
       "\n",
       "    .dataframe thead th {\n",
       "        text-align: right;\n",
       "    }\n",
       "</style>\n",
       "<table border=\"1\" class=\"dataframe\">\n",
       "  <thead>\n",
       "    <tr style=\"text-align: right;\">\n",
       "      <th></th>\n",
       "      <th>키</th>\n",
       "      <th>몸무게</th>\n",
       "    </tr>\n",
       "  </thead>\n",
       "  <tbody>\n",
       "    <tr>\n",
       "      <th>김덕배</th>\n",
       "      <td>180.0</td>\n",
       "      <td>65.5</td>\n",
       "    </tr>\n",
       "    <tr>\n",
       "      <th>김수미</th>\n",
       "      <td>165.0</td>\n",
       "      <td>52.4</td>\n",
       "    </tr>\n",
       "    <tr>\n",
       "      <th>김장수</th>\n",
       "      <td>175.0</td>\n",
       "      <td>65.4</td>\n",
       "    </tr>\n",
       "  </tbody>\n",
       "</table>\n",
       "</div>"
      ],
      "text/plain": [
       "         키   몸무게\n",
       "김덕배  180.0  65.5\n",
       "김수미  165.0  52.4\n",
       "김장수  175.0  65.4"
      ]
     },
     "execution_count": 43,
     "metadata": {},
     "output_type": "execute_result"
    }
   ],
   "source": [
    "# 검색하고자 하는 이름 입력\n",
    "search_name = input(\"검색할 이름 입력 : \")\n",
    "idx = search_data(search_name, df)\n",
    "if idx < len(df):\n",
    "    print_data(idx, df)\n",
    "    value = input_data() #  키와 몸무게 입력\n",
    "    df.iloc[idx] = value\n",
    "print(\"2 : \")\n",
    "df"
   ]
  },
  {
   "cell_type": "code",
   "execution_count": 44,
   "id": "e1f9d945",
   "metadata": {},
   "outputs": [
    {
     "name": "stdout",
     "output_type": "stream",
     "text": [
      "173.33333333333334\n",
      "3 => 키      165.0\n",
      "몸무게     52.4\n",
      "Name: 김수미, dtype: float64 : 165.0\n"
     ]
    }
   ],
   "source": [
    "#평균키보다 검적은 키를 가진 사람의 이름과 키를 출력\n",
    "\n",
    "avg_height = sum(df.키)/len(df.키)\n",
    "print(avg_height)\n",
    "for i, height in enumerate(df.키):\n",
    "    if height < avg_height:\n",
    "        print(\"3 => {} : {}\".format(df.iloc[i], df.iloc[i,0]))"
   ]
  },
  {
   "cell_type": "code",
   "execution_count": null,
   "id": "190fd189",
   "metadata": {},
   "outputs": [],
   "source": []
  }
 ],
 "metadata": {
  "kernelspec": {
   "display_name": "Python 3",
   "language": "python",
   "name": "python3"
  },
  "language_info": {
   "codemirror_mode": {
    "name": "ipython",
    "version": 3
   },
   "file_extension": ".py",
   "mimetype": "text/x-python",
   "name": "python",
   "nbconvert_exporter": "python",
   "pygments_lexer": "ipython3",
   "version": "3.8.8"
  }
 },
 "nbformat": 4,
 "nbformat_minor": 5
}
