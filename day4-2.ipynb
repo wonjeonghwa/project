{
 "cells": [
  {
   "cell_type": "code",
   "execution_count": 4,
   "id": "dc9c2f83",
   "metadata": {},
   "outputs": [],
   "source": [
    "\n",
    "# request : url로 부터 자료를 가져옴\n",
    "# beautiflul : tag 형식으로 자료변환\n",
    "# 변환된 자료 . select(, find, find_all, select_one --> site 정보확인\n",
    "# 네이버 영화 랭킹 순위 이름 평점 출력\n",
    "# 순위 영화명 평점 출력 다음과 같은 형식으로\n",
    "#1 포드 V 페라리 : 9.56"
   ]
  },
  {
   "cell_type": "code",
   "execution_count": 5,
   "id": "c30eb05f",
   "metadata": {},
   "outputs": [],
   "source": [
    "from urllib import request\n",
    "from bs4 import BeautifulSoup\n",
    "\n",
    "url = \"https://movie.naver.com/movie/sdb/rank/rmovie.naver?sel=pnt&date=20210926\"\n",
    "\n",
    "soup = BeautifulSoup(request.urlopen(url))\n",
    "\n",
    "\n",
    "movie_title, movie_point = [],[]  # 영화 제목과 평점을 저장할 리스트 선언\n",
    "for line in soup.select('tr'): # select == findAll\n",
    "    title = line.find('div',class_=\"tit5\")\n",
    "    if title:  # 자료가 존재하면 MOVIE_TITLE 리스트에 추가\n",
    "        movie_title.append(title.get_text().strip(\"\\n\")) # title.get_text()=== tilte.text  # title.get_text()\n",
    "        \n",
    "    point = line.find('td',class_='point')\n",
    "    if point:       # 평점이 있으면 처리\n",
    "        movie_point.append(point.text)"
   ]
  },
  {
   "cell_type": "code",
   "execution_count": 6,
   "id": "e22cf548",
   "metadata": {},
   "outputs": [
    {
     "name": "stdout",
     "output_type": "stream",
     "text": [
      "1 밥정  :  9.63\n",
      "2 그린 북  :  9.59\n",
      "3 가버나움  :  9.59\n",
      "4 디지몬 어드벤처 라스트 에볼루션 : 인연  :  9.54\n",
      "5 원더  :  9.53\n",
      "6 베일리 어게인  :  9.52\n",
      "7 그대, 고맙소 : 김호중 생애 첫 팬미팅 무비  :  9.51\n",
      "8 아일라  :  9.51\n",
      "9 먼 훗날 우리  :  9.50\n",
      "10 당갈  :  9.49\n",
      "11 극장판 바이올렛 에버가든  :  9.49\n",
      "12 포드 V 페라리  :  9.48\n",
      "13 주전장  :  9.47\n",
      "14 쇼생크 탈출  :  9.45\n",
      "15 터미네이터 2:오리지널  :  9.44\n",
      "16 나 홀로 집에  :  9.43\n",
      "17 라이언 일병 구하기  :  9.43\n",
      "18 덕구  :  9.43\n",
      "19 클래식  :  9.42\n",
      "20 월-E  :  9.42\n",
      "21 잭 스나이더의 저스티스 리그  :  9.42\n",
      "22 보헤미안 랩소디  :  9.42\n",
      "23 사운드 오브 뮤직  :  9.42\n",
      "24 빽 투 더 퓨쳐  :  9.41\n",
      "25 포레스트 검프  :  9.41\n",
      "26 위대한 쇼맨  :  9.41\n",
      "27 글래디에이터  :  9.41\n",
      "28 타이타닉  :  9.40\n",
      "29 헬프  :  9.40\n",
      "30 인생은 아름다워  :  9.40\n",
      "31 매트릭스  :  9.40\n",
      "32 살인의 추억  :  9.40\n",
      "33 센과 치히로의 행방불명  :  9.40\n",
      "34 가나의 혼인잔치: 언약  :  9.39\n",
      "35 토이 스토리 3  :  9.39\n",
      "36 헌터 킬러  :  9.39\n",
      "37 캐스트 어웨이  :  9.38\n",
      "38 집으로...  :  9.38\n",
      "39 반지의 제왕: 왕의 귀환  :  9.38\n",
      "40 죽은 시인의 사회  :  9.38\n",
      "41 히든 피겨스  :  9.38\n",
      "42 알라딘  :  9.38\n",
      "43 어벤져스: 엔드게임  :  9.38\n",
      "44 레옹  :  9.38\n",
      "45 쉰들러 리스트  :  9.37\n",
      "46 아이 캔 스피크  :  9.37\n",
      "47 동주  :  9.37\n",
      "48 안녕 베일리  :  9.37\n",
      "49 클레멘타인  :  9.37\n",
      "50 여인의 향기  :  9.37\n"
     ]
    }
   ],
   "source": [
    "for i,(title,point) in enumerate(zip(movie_title,movie_point)):\n",
    "    print(i+1, title, ' : ', point)"
   ]
  },
  {
   "cell_type": "code",
   "execution_count": 9,
   "id": "6c9009c7",
   "metadata": {},
   "outputs": [
    {
     "name": "stdout",
     "output_type": "stream",
     "text": [
      "<class 'str'>\n",
      "{'message': {'@type': 'response', '@service': 'naverservice.nmt.proxy', '@version': '1.0.0', 'result': {'srcLangType': 'en', 'tarLangType': 'ko', 'translatedText': '어제\\n내 모든 시름들이 멀리 사라져버린듯 했다\\n이제 그들은 이곳에 머물기 위해 온 것 같다.\\n오, 나는 어제를 다시 그리게 돼.\\n갑자기\\n예전의 나의 반도 안 되는구나.\\n그림자가 내 몸에 드리워져 있어\\n오, 어제는 갑자기 찾아왔어.\\n왜 그녀가 가야 했는지, 나도 몰라.\\n그녀는 말하지 않았다.\\n내가 틀린 말을 했다.\\n이제 나는 어제를 그리워한다.\\n어제\\n사랑은 정말 하기 쉬운 게임이었다.\\n이제 난 숨을 곳이 필요해\\n오, 나는 어제를 다시 그리게 돼.\\n왜 그녀는', 'engineType': 'UNDEF_MULTI_SENTENCE', 'pivot': None}}}\n",
      "\n",
      "어제\n",
      "내 모든 시름들이 멀리 사라져버린듯 했다\n",
      "이제 그들은 이곳에 머물기 위해 온 것 같다.\n",
      "오, 나는 어제를 다시 그리게 돼.\n",
      "갑자기\n",
      "예전의 나의 반도 안 되는구나.\n",
      "그림자가 내 몸에 드리워져 있어\n",
      "오, 어제는 갑자기 찾아왔어.\n",
      "왜 그녀가 가야 했는지, 나도 몰라.\n",
      "그녀는 말하지 않았다.\n",
      "내가 틀린 말을 했다.\n",
      "이제 나는 어제를 그리워한다.\n",
      "어제\n",
      "사랑은 정말 하기 쉬운 게임이었다.\n",
      "이제 난 숨을 곳이 필요해\n",
      "오, 나는 어제를 다시 그리게 돼.\n",
      "왜 그녀는\n"
     ]
    }
   ],
   "source": [
    "import requests\n",
    "\n",
    "text='''Yesterday\n",
    "All my troubles seemed so far away\n",
    "Now it looks as though they're here to stay\n",
    "Oh, I believe in yesterday\n",
    "Suddenly\n",
    "I'm not half the man I used to be\n",
    "There's a shadow hanging over me\n",
    "Oh, yesterday came suddenly\n",
    "Why she had to go, I don't know\n",
    "She wouldn't say\n",
    "I said something wrong\n",
    "Now I long for yesterday\n",
    "Yesterday\n",
    "Love was such an easy game to play\n",
    "Now I need a place to hide away\n",
    "Oh, I believe in yesterday\n",
    "Why she'''\n",
    "import requests\n",
    "request_url = \"https://openapi.naver.com/v1/papago/n2mt\"\n",
    "\n",
    "headers= {\"X-Naver-Client-Id\": \"f1QfNITXAPyMl5M1l4_n\", \n",
    "          \"X-Naver-Client-Secret\":\"FE28AQFMFj\"}\n",
    "params = {\"source\": \"en\", \"target\": \"ko\", \"text\": text}\n",
    "\n",
    "response = requests.post(request_url, headers=headers, data=params)\n",
    "print(type(response.text))\n",
    "result = response.json()\n",
    "print(result)\n",
    "print()\n",
    "print(result['message']['result']['translatedText']) # 각각의 값을 찾아서 리스트화시킴"
   ]
  },
  {
   "cell_type": "code",
   "execution_count": 11,
   "id": "a40e79cc",
   "metadata": {},
   "outputs": [
    {
     "name": "stdout",
     "output_type": "stream",
     "text": [
      "번역할 한글 입력 >한글\n",
      "Hangul\n",
      "번역할 한글 입력 >한국어\n",
      "Korean.\n",
      "번역할 한글 입력 >종료\n"
     ]
    }
   ],
   "source": [
    "while True:\n",
    "    text = input(\"번역할 한글 입력 >\")\n",
    "    if text == '종료':\n",
    "        break\n",
    "    params = {\"source\": \"ko\", \"target\": \"en\", \"text\": text}\n",
    "    response = requests.post(request_url, headers=headers, data=params)\n",
    "    \n",
    "    result = response.json()\n",
    "    print(result['message']['result']['translatedText']) # 각각의 값을 찾아서 리스트화시킴"
   ]
  },
  {
   "cell_type": "code",
   "execution_count": 13,
   "id": "21260699",
   "metadata": {},
   "outputs": [
    {
     "name": "stdout",
     "output_type": "stream",
     "text": [
      "인사가 시작되었습니다.\n",
      "hello\n",
      "인사가 종료되었습니다\n"
     ]
    }
   ],
   "source": [
    "# 함수 데코레이터를 생성합니다. # test 가 데코\n",
    "def test(function):\n",
    "    def wrapper():\n",
    "        print(\"인사가 시작되었습니다.\")\n",
    "        function()\n",
    "        print(\"인사가 종료되었습니다\")\n",
    "    return wrapper\n",
    "\n",
    "@test\n",
    "def hello():\n",
    "    print(\"hello\")\n",
    "    \n",
    "hello()"
   ]
  },
  {
   "cell_type": "code",
   "execution_count": null,
   "id": "f38fb07f",
   "metadata": {},
   "outputs": [],
   "source": []
  }
 ],
 "metadata": {
  "kernelspec": {
   "display_name": "Python 3",
   "language": "python",
   "name": "python3"
  },
  "language_info": {
   "codemirror_mode": {
    "name": "ipython",
    "version": 3
   },
   "file_extension": ".py",
   "mimetype": "text/x-python",
   "name": "python",
   "nbconvert_exporter": "python",
   "pygments_lexer": "ipython3",
   "version": "3.8.8"
  }
 },
 "nbformat": 4,
 "nbformat_minor": 5
}
