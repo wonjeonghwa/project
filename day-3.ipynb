{
 "cells": [
  {
   "cell_type": "code",
   "execution_count": 1,
   "id": "865dbb78",
   "metadata": {},
   "outputs": [
    {
     "name": "stdout",
     "output_type": "stream",
     "text": [
      "- 100 이상의 수 :  273\n",
      "- 100 이상의 수 :  103\n",
      "- 100 이상의 수 :  800\n"
     ]
    }
   ],
   "source": [
    "number = [273, 103, 5 , 32 , 65, 9, 72, 800, 99]\n",
    "\n",
    "for number in number :\n",
    "    if number >= 100 :\n",
    "        print(\"- 100 이상의 수 : \", number)"
   ]
  },
  {
   "cell_type": "code",
   "execution_count": 2,
   "id": "329024bf",
   "metadata": {},
   "outputs": [
    {
     "name": "stdout",
     "output_type": "stream",
     "text": [
      "1\n",
      "2\n",
      "3\n",
      "4\n",
      "5\n",
      "6\n",
      "7\n",
      "8\n",
      "9\n"
     ]
    }
   ],
   "source": [
    "list_of_list = [ [1, 2, 3],[4, 5, 6, 7], [8, 9]]\n",
    "\n",
    "for list_item in list_of_list:\n",
    "    for item in list_item:\n",
    "        print(item)"
   ]
  },
  {
   "cell_type": "code",
   "execution_count": 3,
   "id": "f68abdc2",
   "metadata": {},
   "outputs": [
    {
     "name": "stdout",
     "output_type": "stream",
     "text": [
      "name: 7D 건조 망고\n",
      "type: 당절임\n",
      "ingredient: ['망고', '설탕', '메타중아황산나트륨', '치자황색소']\n",
      "origin: 필리핀\n"
     ]
    }
   ],
   "source": [
    "dictionary = {\n",
    "    \"name\": \"7D 건조 망고\",\n",
    "    \"type\": \"당절임\",\n",
    "    \"ingredient\":[\"망고\", \"설탕\", \"메타중아황산나트륨\", \"치자황색소\"],\n",
    "    \"origin\": \"필리핀\"\n",
    "}\n",
    "\n",
    "print(\"name:\", dictionary[\"name\"])\n",
    "print(\"type:\", dictionary[\"type\"])\n",
    "print(\"ingredient:\", dictionary[\"ingredient\"])\n",
    "print(\"origin:\", dictionary[\"origin\"])"
   ]
  },
  {
   "cell_type": "code",
   "execution_count": 4,
   "id": "4bcefd73",
   "metadata": {},
   "outputs": [
    {
     "name": "stdout",
     "output_type": "stream",
     "text": [
      "name : 80 건조망고\n"
     ]
    }
   ],
   "source": [
    "dictionary[\"name\"] = '80 건조망고'\n",
    "print(\"name :\", dictionary[\"name\"])"
   ]
  },
  {
   "cell_type": "code",
   "execution_count": 5,
   "id": "5067e5dd",
   "metadata": {},
   "outputs": [
    {
     "data": {
      "text/plain": [
       "{'name': '80 건조망고',\n",
       " 'type': '당절임',\n",
       " 'ingredient': ['망고', '설탕', '메타중아황산나트륨', '치자황색소'],\n",
       " 'origin': '필리핀',\n",
       " 'new': '새로운 값 추가'}"
      ]
     },
     "execution_count": 5,
     "metadata": {},
     "output_type": "execute_result"
    }
   ],
   "source": [
    "dictionary[\"new\"]=\"새로운 값 추가\"  # 딕셔너리 새로운 값 추가\n",
    "dictionary"
   ]
  },
  {
   "cell_type": "code",
   "execution_count": 6,
   "id": "fb5d5ca9",
   "metadata": {},
   "outputs": [
    {
     "data": {
      "text/plain": [
       "{'name': '80 건조망고',\n",
       " 'type': '당절임',\n",
       " 'ingredient': ['망고', '설탕', '메타중아황산나트륨', '치자황색소'],\n",
       " 'new': '새로운 값 추가'}"
      ]
     },
     "execution_count": 6,
     "metadata": {},
     "output_type": "execute_result"
    }
   ],
   "source": [
    "# dictionary 의 값 제서 del\n",
    "del dictionary[\"origin\"]\n",
    "dictionary"
   ]
  },
  {
   "cell_type": "code",
   "execution_count": 7,
   "id": "951b56f3",
   "metadata": {},
   "outputs": [
    {
     "ename": "KeyError",
     "evalue": "'origin'",
     "output_type": "error",
     "traceback": [
      "\u001b[1;31m---------------------------------------------------------------------------\u001b[0m",
      "\u001b[1;31mKeyError\u001b[0m                                  Traceback (most recent call last)",
      "\u001b[1;32m<ipython-input-7-aea2871b9c08>\u001b[0m in \u001b[0;36m<module>\u001b[1;34m\u001b[0m\n\u001b[1;32m----> 1\u001b[1;33m \u001b[0mdictionary\u001b[0m\u001b[1;33m[\u001b[0m\u001b[1;34m\"origin\"\u001b[0m\u001b[1;33m]\u001b[0m \u001b[1;31m# key error : 딕셔너리에 키 값이 없는 경우 발생\u001b[0m\u001b[1;33m\u001b[0m\u001b[1;33m\u001b[0m\u001b[0m\n\u001b[0m",
      "\u001b[1;31mKeyError\u001b[0m: 'origin'"
     ]
    }
   ],
   "source": [
    "dictionary[\"origin\"] # key error : 딕셔너리에 키 값이 없는 경우 발생"
   ]
  },
  {
   "cell_type": "code",
   "execution_count": 8,
   "id": "a7da32e7",
   "metadata": {},
   "outputs": [],
   "source": [
    "dictionary = {\n",
    "    \"name\": \"7D 건조 망고\",\n",
    "    \"type\": \"당절임\",\n",
    "    \"ingredient\":[\"망고\", \"설탕\", \"메타중아황산나트륨\", \"치자황색소\"],\n",
    "    \"origin\": \"필리핀\"\n",
    "}\n"
   ]
  },
  {
   "cell_type": "code",
   "execution_count": 10,
   "id": "280e2d53",
   "metadata": {},
   "outputs": [
    {
     "name": "stdout",
     "output_type": "stream",
     "text": [
      " > 딕셔너리 접근 키 입력 : type\n",
      "당절임\n"
     ]
    }
   ],
   "source": [
    "key = input(\" > 딕셔너리 접근 키 입력 : \")\n",
    "\n",
    "if key in dictionary:\n",
    "    print(dictionary[key])\n",
    "else:\n",
    "    print(\"존재하지 않는 키입니다\")"
   ]
  },
  {
   "cell_type": "code",
   "execution_count": 11,
   "id": "1849aa85",
   "metadata": {},
   "outputs": [
    {
     "name": "stdout",
     "output_type": "stream",
     "text": [
      " value1 : 7D 건조 망고\n",
      " value2 : None\n",
      "None\n"
     ]
    }
   ],
   "source": [
    "value1 = dictionary .get (\"name\")\n",
    "value2 = dictionary .get (\"asdf\")\n",
    "\n",
    "print(\" value1 :\", value1)\n",
    "print(\" value2 :\", value2)\n",
    "\n",
    "if not value2:\n",
    "    print(\"None\")\n",
    "    \n"
   ]
  },
  {
   "cell_type": "code",
   "execution_count": 12,
   "id": "7b36a199",
   "metadata": {},
   "outputs": [
    {
     "name": "stdout",
     "output_type": "stream",
     "text": [
      "name  :  7D 건조 망고\n",
      "type  :  당절임\n",
      "ingredient  :  ['망고', '설탕', '메타중아황산나트륨', '치자황색소']\n",
      "origin  :  필리핀\n"
     ]
    }
   ],
   "source": [
    "# for 문장을 사용 하여 dictionary의 값을 출력\n",
    "\n",
    "for key in dictionary :\n",
    "    print(key, \" : \", dictionary[key])\n",
    "    "
   ]
  },
  {
   "cell_type": "code",
   "execution_count": 13,
   "id": "6cfbd22c",
   "metadata": {},
   "outputs": [],
   "source": [
    "### range 범위함수"
   ]
  },
  {
   "cell_type": "code",
   "execution_count": 14,
   "id": "f4152c26",
   "metadata": {},
   "outputs": [
    {
     "ename": "NameError",
     "evalue": "name 'rang' is not defined",
     "output_type": "error",
     "traceback": [
      "\u001b[1;31m---------------------------------------------------------------------------\u001b[0m",
      "\u001b[1;31mNameError\u001b[0m                                 Traceback (most recent call last)",
      "\u001b[1;32m<ipython-input-14-ad0380e9fc1a>\u001b[0m in \u001b[0;36m<module>\u001b[1;34m\u001b[0m\n\u001b[0;32m      1\u001b[0m \u001b[0ma\u001b[0m \u001b[1;33m=\u001b[0m \u001b[0mlist\u001b[0m\u001b[1;33m(\u001b[0m\u001b[0mrange\u001b[0m\u001b[1;33m(\u001b[0m\u001b[1;36m5\u001b[0m\u001b[1;33m)\u001b[0m\u001b[1;33m)\u001b[0m\u001b[1;33m\u001b[0m\u001b[1;33m\u001b[0m\u001b[0m\n\u001b[0;32m      2\u001b[0m \u001b[0ma\u001b[0m\u001b[1;33m\u001b[0m\u001b[1;33m\u001b[0m\u001b[0m\n\u001b[1;32m----> 3\u001b[1;33m \u001b[0mlist\u001b[0m\u001b[1;33m(\u001b[0m\u001b[0mrang\u001b[0m\u001b[1;33m(\u001b[0m\u001b[1;36m1\u001b[0m\u001b[1;33m,\u001b[0m \u001b[1;36m10\u001b[0m\u001b[1;33m,\u001b[0m \u001b[1;36m2\u001b[0m\u001b[1;33m)\u001b[0m\u001b[1;33m)\u001b[0m\u001b[1;33m\u001b[0m\u001b[1;33m\u001b[0m\u001b[0m\n\u001b[0m",
      "\u001b[1;31mNameError\u001b[0m: name 'rang' is not defined"
     ]
    }
   ],
   "source": [
    "a = list(range(5))\n",
    "a\n",
    "list(rang(1, 10, 2))\n"
   ]
  },
  {
   "cell_type": "code",
   "execution_count": 15,
   "id": "067fefbb",
   "metadata": {},
   "outputs": [
    {
     "name": "stdout",
     "output_type": "stream",
     "text": [
      " 1번째 반복 : 273\n",
      " 2번째 반복 : 32\n",
      " 3번째 반복 : 103\n",
      " 4번째 반복 : 57\n",
      " 5번째 반복 : 52\n",
      " 1번째 반복 : 273\n",
      " 2번째 반복 : 32\n",
      " 3번째 반복 : 103\n",
      " 4번째 반복 : 57\n",
      " 5번째 반복 : 52\n",
      " 5번째 반복 : 52\n",
      " 4번째 반복 : 57\n",
      " 3번째 반복 : 103\n",
      " 2번째 반복 : 32\n",
      " 1번째 반복 : 273\n"
     ]
    },
    {
     "ename": "NameError",
     "evalue": "name 'reverse' is not defined",
     "output_type": "error",
     "traceback": [
      "\u001b[1;31m---------------------------------------------------------------------------\u001b[0m",
      "\u001b[1;31mNameError\u001b[0m                                 Traceback (most recent call last)",
      "\u001b[1;32m<ipython-input-15-410aefb049f8>\u001b[0m in \u001b[0;36m<module>\u001b[1;34m\u001b[0m\n\u001b[0;32m     13\u001b[0m     \u001b[0mprint\u001b[0m\u001b[1;33m(\u001b[0m\u001b[1;34m\" {}번째 반복 : {}\"\u001b[0m\u001b[1;33m.\u001b[0m\u001b[0mformat\u001b[0m\u001b[1;33m(\u001b[0m\u001b[0mi\u001b[0m\u001b[1;33m,\u001b[0m \u001b[0marray\u001b[0m\u001b[1;33m[\u001b[0m\u001b[0mi\u001b[0m\u001b[1;33m-\u001b[0m\u001b[1;36m1\u001b[0m\u001b[1;33m]\u001b[0m\u001b[1;33m)\u001b[0m\u001b[1;33m)\u001b[0m\u001b[1;33m\u001b[0m\u001b[1;33m\u001b[0m\u001b[0m\n\u001b[0;32m     14\u001b[0m \u001b[1;33m\u001b[0m\u001b[0m\n\u001b[1;32m---> 15\u001b[1;33m \u001b[1;32mfor\u001b[0m \u001b[0mi\u001b[0m \u001b[1;32min\u001b[0m \u001b[0mreverse\u001b[0m\u001b[1;33m(\u001b[0m\u001b[0mrange\u001b[0m\u001b[1;33m(\u001b[0m\u001b[0mlen\u001b[0m\u001b[1;33m(\u001b[0m\u001b[0marray\u001b[0m\u001b[1;33m)\u001b[0m\u001b[1;33m)\u001b[0m\u001b[1;33m)\u001b[0m\u001b[1;33m:\u001b[0m\u001b[1;33m\u001b[0m\u001b[1;33m\u001b[0m\u001b[0m\n\u001b[0m\u001b[0;32m     16\u001b[0m     \u001b[0mprint\u001b[0m\u001b[1;33m(\u001b[0m\u001b[1;34m\" {}번째 반복 : {}\"\u001b[0m\u001b[1;33m.\u001b[0m\u001b[0mformat\u001b[0m\u001b[1;33m(\u001b[0m\u001b[0mi\u001b[0m\u001b[1;33m,\u001b[0m \u001b[0marray\u001b[0m\u001b[1;33m[\u001b[0m\u001b[0mi\u001b[0m\u001b[1;33m]\u001b[0m\u001b[1;33m)\u001b[0m\u001b[1;33m)\u001b[0m\u001b[1;33m\u001b[0m\u001b[1;33m\u001b[0m\u001b[0m\n",
      "\u001b[1;31mNameError\u001b[0m: name 'reverse' is not defined"
     ]
    }
   ],
   "source": [
    "array = [273 ,32, 103, 57, 52]\n",
    "# 리스트에 반복문 적용\n",
    "index = 1\n",
    "for i in array:\n",
    "    print(\" {}번째 반복 : {}\".format (index , i))\n",
    "    index+=1\n",
    "#range 함수를 이용하여 범위 지정하여 반복\n",
    "for i in range(len(array)):\n",
    "    print(\" {}번째 반복 : {}\".format(i+1 , array[i])) # range는 0부터\n",
    "    \n",
    "# reverse 로 출력\n",
    "for i in range(len(array),0, -1):\n",
    "    print(\" {}번째 반복 : {}\".format(i, array[i-1]))\n",
    "\n",
    "for i in reverse(range(len(array))):\n",
    "    print(\" {}번째 반복 : {}\".format(i, array[i]))"
   ]
  },
  {
   "cell_type": "markdown",
   "id": "fa70ae20",
   "metadata": {},
   "source": [
    "### 조건식:\n",
    "    처리문"
   ]
  },
  {
   "cell_type": "code",
   "execution_count": 16,
   "id": "348c7cc5",
   "metadata": {},
   "outputs": [
    {
     "name": "stdout",
     "output_type": "stream",
     "text": [
      ".........."
     ]
    }
   ],
   "source": [
    "i = 0\n",
    "while i < 10:   #    조건식을 탈출하는 구문이 while 처리문 안에 존재해야 함\n",
    "    print('.',end=\"\")\n",
    "    i+=1  # i = i+1"
   ]
  },
  {
   "cell_type": "code",
   "execution_count": 17,
   "id": "4b844f7b",
   "metadata": {},
   "outputs": [
    {
     "name": "stdout",
     "output_type": "stream",
     "text": [
      "[273, 103, 57, 52]\n"
     ]
    }
   ],
   "source": [
    "array = [273 ,32, 103, 57, 52]\n",
    "value = 32\n",
    "\n",
    "# del array[1] : 1 인덱스의 리스트 값을 제거\n",
    "while value in array:    # 값을 list에서 모두 지우기\n",
    "    array.remove(value)  # list 의 해당하는 값을 모두 제거\n",
    "    \n",
    "print(array)"
   ]
  },
  {
   "cell_type": "code",
   "execution_count": 18,
   "id": "7b9d8501",
   "metadata": {},
   "outputs": [
    {
     "name": "stdout",
     "output_type": "stream",
     "text": [
      "현대시간 :  1632367835.0802095\n",
      "5 초 동안 23684770번 반복처리\n"
     ]
    }
   ],
   "source": [
    "import time   #  시간 관련 패키지함수 사용시 import 함\n",
    "number=0\n",
    "print(\"현대시간 : \", time.time())\n",
    "target_time = time.time() + 5\n",
    "while time.time() < target_time:\n",
    "    number +=1\n",
    "print(\"{} 초 동안 {}번 반복처리\".format(5,number))"
   ]
  },
  {
   "cell_type": "code",
   "execution_count": 19,
   "id": "a92a4d73",
   "metadata": {},
   "outputs": [],
   "source": [
    "#문) 기호 숫자 두개를 입력받아 계산하는 프로그램을 작성\n",
    "# 기호가 '#' 이면 프로그램 종료\n",
    "#  기호는 '+', '-', '*', '/' 실행 다른 기호는 계속해서 진행\n"
   ]
  },
  {
   "cell_type": "code",
   "execution_count": 21,
   "id": "6c715e57",
   "metadata": {},
   "outputs": [
    {
     "name": "stdout",
     "output_type": "stream",
     "text": [
      "1\n",
      "i ==  1\n",
      "3\n",
      "i ==  3\n",
      "5\n",
      "i ==  5\n"
     ]
    }
   ],
   "source": [
    "i = 0\n",
    "while i < 10:\n",
    "    i += 1\n",
    "    if i == 6:\n",
    "        break\n",
    "    elif(i%2 == 0):\n",
    "        continue\n",
    "    else:\n",
    "        print(i)\n",
    "    print(\"i == \", i)"
   ]
  },
  {
   "cell_type": "code",
   "execution_count": 29,
   "id": "e3f392ec",
   "metadata": {},
   "outputs": [
    {
     "name": "stdout",
     "output_type": "stream",
     "text": [
      "> 부호 입력 ( #이면 종료,+,-,*,/ ) >10+20=\n",
      "program end \n"
     ]
    },
    {
     "ename": "KeyboardInterrupt",
     "evalue": "Interrupted by user",
     "output_type": "error",
     "traceback": [
      "\u001b[1;31m---------------------------------------------------------------------------\u001b[0m",
      "\u001b[1;31mKeyboardInterrupt\u001b[0m                         Traceback (most recent call last)",
      "\u001b[1;32m<ipython-input-29-2308d33eeec7>\u001b[0m in \u001b[0;36m<module>\u001b[1;34m\u001b[0m\n\u001b[0;32m      1\u001b[0m \u001b[0mchar_list\u001b[0m \u001b[1;33m=\u001b[0m \u001b[1;33m[\u001b[0m\u001b[1;34m'+'\u001b[0m\u001b[1;33m,\u001b[0m\u001b[1;34m'-'\u001b[0m\u001b[1;33m,\u001b[0m\u001b[1;34m'*'\u001b[0m\u001b[1;33m,\u001b[0m\u001b[1;34m'/'\u001b[0m\u001b[1;33m]\u001b[0m\u001b[1;33m\u001b[0m\u001b[1;33m\u001b[0m\u001b[0m\n\u001b[0;32m      2\u001b[0m \u001b[1;32mwhile\u001b[0m \u001b[1;32mTrue\u001b[0m\u001b[1;33m:\u001b[0m\u001b[1;33m\u001b[0m\u001b[1;33m\u001b[0m\u001b[0m\n\u001b[1;32m----> 3\u001b[1;33m     \u001b[0minput_char\u001b[0m \u001b[1;33m=\u001b[0m \u001b[0minput\u001b[0m\u001b[1;33m(\u001b[0m\u001b[1;34m\"> 부호 입력 ( #이면 종료,+,-,*,/ ) >\"\u001b[0m\u001b[1;33m)\u001b[0m\u001b[1;33m\u001b[0m\u001b[1;33m\u001b[0m\u001b[0m\n\u001b[0m\u001b[0;32m      4\u001b[0m     \u001b[1;32mif\u001b[0m \u001b[0minput_char\u001b[0m \u001b[1;33m==\u001b[0m \u001b[1;34m'#'\u001b[0m\u001b[1;33m:\u001b[0m\u001b[1;33m\u001b[0m\u001b[1;33m\u001b[0m\u001b[0m\n\u001b[0;32m      5\u001b[0m         \u001b[1;32mbreak\u001b[0m\u001b[1;33m\u001b[0m\u001b[1;33m\u001b[0m\u001b[0m\n",
      "\u001b[1;32m~\\anaconda3\\lib\\site-packages\\ipykernel\\kernelbase.py\u001b[0m in \u001b[0;36mraw_input\u001b[1;34m(self, prompt)\u001b[0m\n\u001b[0;32m    858\u001b[0m                 \u001b[1;34m\"raw_input was called, but this frontend does not support input requests.\"\u001b[0m\u001b[1;33m\u001b[0m\u001b[1;33m\u001b[0m\u001b[0m\n\u001b[0;32m    859\u001b[0m             )\n\u001b[1;32m--> 860\u001b[1;33m         return self._input_request(str(prompt),\n\u001b[0m\u001b[0;32m    861\u001b[0m             \u001b[0mself\u001b[0m\u001b[1;33m.\u001b[0m\u001b[0m_parent_ident\u001b[0m\u001b[1;33m,\u001b[0m\u001b[1;33m\u001b[0m\u001b[1;33m\u001b[0m\u001b[0m\n\u001b[0;32m    862\u001b[0m             \u001b[0mself\u001b[0m\u001b[1;33m.\u001b[0m\u001b[0m_parent_header\u001b[0m\u001b[1;33m,\u001b[0m\u001b[1;33m\u001b[0m\u001b[1;33m\u001b[0m\u001b[0m\n",
      "\u001b[1;32m~\\anaconda3\\lib\\site-packages\\ipykernel\\kernelbase.py\u001b[0m in \u001b[0;36m_input_request\u001b[1;34m(self, prompt, ident, parent, password)\u001b[0m\n\u001b[0;32m    902\u001b[0m             \u001b[1;32mexcept\u001b[0m \u001b[0mKeyboardInterrupt\u001b[0m\u001b[1;33m:\u001b[0m\u001b[1;33m\u001b[0m\u001b[1;33m\u001b[0m\u001b[0m\n\u001b[0;32m    903\u001b[0m                 \u001b[1;31m# re-raise KeyboardInterrupt, to truncate traceback\u001b[0m\u001b[1;33m\u001b[0m\u001b[1;33m\u001b[0m\u001b[1;33m\u001b[0m\u001b[0m\n\u001b[1;32m--> 904\u001b[1;33m                 \u001b[1;32mraise\u001b[0m \u001b[0mKeyboardInterrupt\u001b[0m\u001b[1;33m(\u001b[0m\u001b[1;34m\"Interrupted by user\"\u001b[0m\u001b[1;33m)\u001b[0m \u001b[1;32mfrom\u001b[0m \u001b[1;32mNone\u001b[0m\u001b[1;33m\u001b[0m\u001b[1;33m\u001b[0m\u001b[0m\n\u001b[0m\u001b[0;32m    905\u001b[0m             \u001b[1;32mexcept\u001b[0m \u001b[0mException\u001b[0m \u001b[1;32mas\u001b[0m \u001b[0me\u001b[0m\u001b[1;33m:\u001b[0m\u001b[1;33m\u001b[0m\u001b[1;33m\u001b[0m\u001b[0m\n\u001b[0;32m    906\u001b[0m                 \u001b[0mself\u001b[0m\u001b[1;33m.\u001b[0m\u001b[0mlog\u001b[0m\u001b[1;33m.\u001b[0m\u001b[0mwarning\u001b[0m\u001b[1;33m(\u001b[0m\u001b[1;34m\"Invalid Message:\"\u001b[0m\u001b[1;33m,\u001b[0m \u001b[0mexc_info\u001b[0m\u001b[1;33m=\u001b[0m\u001b[1;32mTrue\u001b[0m\u001b[1;33m)\u001b[0m\u001b[1;33m\u001b[0m\u001b[1;33m\u001b[0m\u001b[0m\n",
      "\u001b[1;31mKeyboardInterrupt\u001b[0m: Interrupted by user"
     ]
    }
   ],
   "source": [
    "char_list = ['+','-','*','/']\n",
    "while True:\n",
    "    input_char = input(\"> 부호 입력 ( #이면 종료,+,-,*,/ ) >\")\n",
    "    if input_char == '#':\n",
    "        break\n",
    "    elif input_char in char_list:\n",
    "        while True:\n",
    "            input_num = input(\" 두 개의 숫자 입력 >\").splie()\n",
    "            if len(input_num) == 2:\n",
    "                break\n",
    "        \n",
    "        value1 = int(input_num[0])\n",
    "        value2 = int(input_num[0])\n",
    "        if input_char == '+':\n",
    "            print(\"{} {} {} = {}\".format(value1,input_char,value2,value1+value2))\n",
    "        elif input_char == '-':\n",
    "            print(\"{} {} {} = {}\".format(value1,input_char,value2,value1-value2))\n",
    "        elif input_char == '*':\n",
    "            print(\"{} {} {} = {}\".format(value1,input_char,value2,value1*value2))\n",
    "        else:\n",
    "            if value1 !=0 and value2 !=0 :\n",
    "                print(\"{} {} {} = {}\".format(value1,input_char,value2,value1/value2))\n",
    "            else:\n",
    "                print(\"0는 나누기가 안됩니다\")\n",
    "    print(\"program end \")"
   ]
  },
  {
   "cell_type": "code",
   "execution_count": 36,
   "id": "e1a18fb8",
   "metadata": {},
   "outputs": [
    {
     "data": {
      "text/plain": [
       "{'name': '기사', 'hp': 200, 'mp': 30, 'level': 5}"
      ]
     },
     "execution_count": 36,
     "metadata": {},
     "output_type": "execute_result"
    }
   ],
   "source": [
    "key_list = [\"name\", \"hp\", \"mp\", \"level\"]\n",
    "value_list = [\"기사\", 200, 30, 5]\n",
    "character = {}\n",
    "\n",
    "for i in range(len(key_list)):\n",
    "    character[key_list[i]] = value_list[i]\n",
    "\n",
    "character"
   ]
  },
  {
   "cell_type": "code",
   "execution_count": 37,
   "id": "a676d4a4",
   "metadata": {},
   "outputs": [
    {
     "ename": "TypeError",
     "evalue": "'int' object is not subscriptable",
     "output_type": "error",
     "traceback": [
      "\u001b[1;31m---------------------------------------------------------------------------\u001b[0m",
      "\u001b[1;31mTypeError\u001b[0m                                 Traceback (most recent call last)",
      "\u001b[1;32m<ipython-input-37-a3b6bf4836cd>\u001b[0m in \u001b[0;36m<module>\u001b[1;34m\u001b[0m\n\u001b[0;32m      1\u001b[0m \u001b[0mnumbers\u001b[0m \u001b[1;33m=\u001b[0m \u001b[1;33m[\u001b[0m\u001b[1;36m102\u001b[0m\u001b[1;33m,\u001b[0m\u001b[1;36m53\u001b[0m\u001b[1;33m,\u001b[0m\u001b[1;36m273\u001b[0m\u001b[1;33m,\u001b[0m\u001b[1;36m32\u001b[0m\u001b[1;33m,\u001b[0m\u001b[1;36m77\u001b[0m\u001b[1;33m,\u001b[0m\u001b[1;36m55\u001b[0m\u001b[1;33m]\u001b[0m\u001b[1;33m\u001b[0m\u001b[1;33m\u001b[0m\u001b[0m\n\u001b[0;32m      2\u001b[0m \u001b[1;33m\u001b[0m\u001b[0m\n\u001b[1;32m----> 3\u001b[1;33m \u001b[0mmin_value\u001b[0m \u001b[1;33m=\u001b[0m \u001b[0mnumber\u001b[0m\u001b[1;33m[\u001b[0m\u001b[1;36m0\u001b[0m\u001b[1;33m]\u001b[0m\u001b[1;33m\u001b[0m\u001b[1;33m\u001b[0m\u001b[0m\n\u001b[0m\u001b[0;32m      4\u001b[0m \u001b[1;32mfor\u001b[0m \u001b[0mvalue\u001b[0m \u001b[1;32min\u001b[0m \u001b[0mnumber\u001b[0m\u001b[1;33m:\u001b[0m\u001b[1;33m\u001b[0m\u001b[1;33m\u001b[0m\u001b[0m\n\u001b[0;32m      5\u001b[0m     \u001b[1;32mif\u001b[0m \u001b[0mmin_value\u001b[0m \u001b[1;33m>\u001b[0m \u001b[0mvalue\u001b[0m\u001b[1;33m:\u001b[0m\u001b[1;33m\u001b[0m\u001b[1;33m\u001b[0m\u001b[0m\n",
      "\u001b[1;31mTypeError\u001b[0m: 'int' object is not subscriptable"
     ]
    }
   ],
   "source": [
    "numbers = [102,53,273,32,77,55]\n",
    "\n",
    "min_value = number[0]\n",
    "for value in number:\n",
    "    if min_value > value:\n",
    "        min_value = value\n",
    "min_value\n",
    "sum-value"
   ]
  },
  {
   "cell_type": "code",
   "execution_count": 39,
   "id": "0055c031",
   "metadata": {},
   "outputs": [
    {
     "name": "stdout",
     "output_type": "stream",
     "text": [
      "[(0, 102), (1, 53), (2, 273), (3, 32), (4, 77), (5, 55)]\n",
      "[102, 53, 273, 32, 77, 55]\n",
      "0번째 요소 : 102\n",
      "1번째 요소 : 53\n",
      "2번째 요소 : 273\n",
      "3번째 요소 : 32\n",
      "4번째 요소 : 77\n",
      "5번째 요소 : 55\n",
      "nenumerate\n",
      "0번째 요소 : 102\n",
      "1번째 요소 : 53\n",
      "2번째 요소 : 273\n",
      "3번째 요소 : 32\n",
      "4번째 요소 : 77\n",
      "5번째 요소 : 55\n"
     ]
    }
   ],
   "source": [
    "number = [102,53,273,32,77,55]\n",
    "print(list(enumerate(numbers)))\n",
    "print(numbers)\n",
    "\n",
    "for i in range(len(numbers)):\n",
    "    print (\"{}번째 요소 : {}\".format(i, number[i]))\n",
    "print(\"nenumerate\")\n",
    "for i, value in enumerate(numbers):\n",
    "    print(\"{}번째 요소 : {}\".format(i,value))"
   ]
  },
  {
   "cell_type": "code",
   "execution_count": 40,
   "id": "166cb5fb",
   "metadata": {},
   "outputs": [
    {
     "ename": "SyntaxError",
     "evalue": "invalid syntax (<ipython-input-40-dd6386c0d98f>, line 2)",
     "output_type": "error",
     "traceback": [
      "\u001b[1;36m  File \u001b[1;32m\"<ipython-input-40-dd6386c0d98f>\"\u001b[1;36m, line \u001b[1;32m2\u001b[0m\n\u001b[1;33m    print(\"{}번째 요소 : {}\".format(i.value)) 형식으로 결과 출력\u001b[0m\n\u001b[1;37m                                          ^\u001b[0m\n\u001b[1;31mSyntaxError\u001b[0m\u001b[1;31m:\u001b[0m invalid syntax\n"
     ]
    }
   ],
   "source": [
    "# 문제 : 키보드로부터 숫자를 임의의 갯수를 입력받아 리스트에 저장 한 후\n",
    "print(\"{}번째 요소 : {}\".format(i.value)) 형식으로 결과 출력\n",
    "#전체 숫자의 최소값과 최대값, 합계를 구하세요\n",
    "#1. 문자열 space로 분리하여 리스트화, 문자를 숫자로 변환\n",
    "#2. 출력 형식대로, 합계, 최소값 최대값 구함"
   ]
  },
  {
   "cell_type": "code",
   "execution_count": 57,
   "id": "50245504",
   "metadata": {},
   "outputs": [
    {
     "name": "stdout",
     "output_type": "stream",
     "text": [
      " > 숫자 입력 구분은 space : 22 33 11 22\n",
      "0번째 요소 : 22\n",
      "1번째 요소 : 33\n",
      "2번째 요소 : 11\n",
      "3번째 요소 : 22\n",
      "최소값 ; 11\t 최대값 ; 33\t 합계 ; 88\n",
      "\n"
     ]
    }
   ],
   "source": [
    "input_value = list(input(\" > 숫자 입력 구분은 space : \").split())\n",
    "\n",
    "for i, value in enumerate(input_value):\n",
    "    input_value[i] = int(value)\n",
    "    print(\"{}번째 요소 : {}\".format(i,value))\n",
    "    \n",
    "print(\"최소값 ; {}\\t 최대값 ; {}\\t 합계 ; {}\\n\".format(min(input_value),max(input_value),sum(input_value)))"
   ]
  },
  {
   "cell_type": "code",
   "execution_count": 60,
   "id": "5e8c8c01",
   "metadata": {},
   "outputs": [
    {
     "name": "stdout",
     "output_type": "stream",
     "text": [
      "sword  :  불꽃의 검\n"
     ]
    },
    {
     "ename": "NameError",
     "evalue": "name 'ket' is not defined",
     "output_type": "error",
     "traceback": [
      "\u001b[1;31m---------------------------------------------------------------------------\u001b[0m",
      "\u001b[1;31mNameError\u001b[0m                                 Traceback (most recent call last)",
      "\u001b[1;32m<ipython-input-60-b8719866d210>\u001b[0m in \u001b[0;36m<module>\u001b[1;34m\u001b[0m\n\u001b[0;32m     16\u001b[0m         \u001b[1;32mfor\u001b[0m \u001b[0mkey1\u001b[0m \u001b[1;32min\u001b[0m \u001b[0melement\u001b[0m\u001b[1;33m:\u001b[0m\u001b[1;33m\u001b[0m\u001b[1;33m\u001b[0m\u001b[0m\n\u001b[0;32m     17\u001b[0m             \u001b[0mprint\u001b[0m\u001b[1;33m(\u001b[0m\u001b[0mkey1\u001b[0m\u001b[1;33m,\u001b[0m \u001b[1;34m\" : \"\u001b[0m\u001b[1;33m,\u001b[0m \u001b[0melement\u001b[0m\u001b[1;33m[\u001b[0m\u001b[0mkey1\u001b[0m\u001b[1;33m]\u001b[0m\u001b[1;33m)\u001b[0m\u001b[1;33m\u001b[0m\u001b[1;33m\u001b[0m\u001b[0m\n\u001b[1;32m---> 18\u001b[1;33m             \u001b[0mprint\u001b[0m\u001b[1;33m(\u001b[0m\u001b[0mket\u001b[0m\u001b[1;33m,\u001b[0m \u001b[1;34m\" : \"\u001b[0m\u001b[1;33m,\u001b[0m \u001b[0melement\u001b[0m\u001b[1;33m)\u001b[0m\u001b[1;33m\u001b[0m\u001b[1;33m\u001b[0m\u001b[0m\n\u001b[0m\u001b[0;32m     19\u001b[0m \u001b[1;33m\u001b[0m\u001b[0m\n\u001b[0;32m     20\u001b[0m \u001b[1;33m\u001b[0m\u001b[0m\n",
      "\u001b[1;31mNameError\u001b[0m: name 'ket' is not defined"
     ]
    }
   ],
   "source": [
    "character = {\n",
    "    \"name\":\"기사\",\n",
    "    \"level\":12,\n",
    "    \"items\":{\n",
    "        \"sword\": \"불꽃의 검\",\n",
    "        \"armor\": \"폴플레이트\"\n",
    "        },\n",
    "    \"skill\":[\"베기\", \"세게베기\", \"아주 세게 베기\"]\n",
    "}\n",
    "\n",
    "for key, element in character.items():\n",
    "    if type(element) == list:\n",
    "        for value in element:\n",
    "            print(key, \" : \", value)\n",
    "    elif type(element) == dict:\n",
    "        for key1 in element:\n",
    "            print(key1, \" : \", element[key1])\n",
    "            print(ket, \" : \", element)\n",
    "       \n",
    "        "
   ]
  },
  {
   "cell_type": "code",
   "execution_count": 66,
   "id": "754b7f43",
   "metadata": {},
   "outputs": [
    {
     "name": "stdout",
     "output_type": "stream",
     "text": [
      "array :  [0, 4, 16, 36, 64, 100, 144, 196, 256, 324]\n",
      "array1 :  [0, 4, 16, 36, 64, 100, 144, 196, 256, 324]\n",
      "array2 :  [0, 4, 16, 36, 64, 100, 144, 196, 256, 324]\n"
     ]
    }
   ],
   "source": [
    "# list 내포 : list 안에 for 문장 사용\n",
    "array = []\n",
    "for i in range(0,20,2):\n",
    "    array.append(i * i)\n",
    "print(\"array : \", array)\n",
    "\n",
    "#[ 처리문 for 변수 in 반복 ]\n",
    "array1 = [ i*i for i in range(0,20,2) ] # 반복 자료에서 아이템  1개를 가져와서 i에 입력후 i * i 실행\n",
    "print(\"array1 : \", array1)\n",
    "\n",
    "# 조건식을 조합\n",
    "array2 = [ i*i for i in range(0,20) if i%2 == 0 ] \n",
    "print(\"array2 : \", array2)"
   ]
  },
  {
   "cell_type": "code",
   "execution_count": 67,
   "id": "c731b53a",
   "metadata": {},
   "outputs": [],
   "source": [
    "# 여러 개릐 숫자를 입력받아 숫자가 6의 배수면 list_6 에\n",
    "# 3의 배수면 list_3, 2의 배수면 list_2에 단 각 리스트에는 공통되는 수자는 없습니다"
   ]
  },
  {
   "cell_type": "code",
   "execution_count": 73,
   "id": "5046d7fb",
   "metadata": {},
   "outputs": [
    {
     "name": "stdout",
     "output_type": "stream",
     "text": [
      " 숫자 입력 >2 3 4 24 56 78 99 66 48\n",
      "list_2[2, 4, 56], list_3[3, 99], list_6[24, 78, 66, 48]:\n",
      "\n"
     ]
    }
   ],
   "source": [
    "input_data = input(\" 숫자 입력 >\").split()\n",
    "for i, value in enumerate(input_data):\n",
    "    input_data[i] = int(value)\n",
    "    \n",
    "list_3 = [ i for i in input_data if i%6 and i%3 == 0]\n",
    "list_2 = [ i for i in input_data if i%6 and i%2 == 0]\n",
    "list_6 = [ i for i in input_data if i%6 == 0]\n",
    "\n",
    "print(\"list_2{}, list_3{}, list_6{}:\\n\".format(list_2,list_3,list_6))"
   ]
  },
  {
   "cell_type": "code",
   "execution_count": 78,
   "id": "dcc83b7b",
   "metadata": {},
   "outputs": [
    {
     "name": "stdout",
     "output_type": "stream",
     "text": [
      "b\n",
      "a_str\n",
      "입력한 문자열은True입니다\n"
     ]
    }
   ],
   "source": [
    "a = 0\n",
    "b = -10\n",
    "a_str = \"\"\n",
    "if a and b:\n",
    "    print(\"a\")\n",
    "if b or a_str:\n",
    "    print(\"b\")\n",
    "if not a_str:\n",
    "    print(\"a_str\")\n",
    "if b:\n",
    "    print((\"입력한 문자열은\"\n",
    "    \"True입니다\"))"
   ]
  },
  {
   "cell_type": "code",
   "execution_count": 79,
   "id": "f3fc588e",
   "metadata": {},
   "outputs": [],
   "source": [
    "# 함수 만들기"
   ]
  },
  {
   "cell_type": "code",
   "execution_count": 93,
   "id": "4cf3a00c",
   "metadata": {},
   "outputs": [],
   "source": [
    "def print_func(value, *values, n=3): # value:일반 매개변수, *values: 가면매개변수, n:기본 매개변수\n",
    "    for i in range(n):\n",
    "        for item in values:\n",
    "            print(value, \" : \",item)\n",
    "            return \"break\"\n",
    "    return \"end\""
   ]
  },
  {
   "cell_type": "code",
   "execution_count": 99,
   "id": "d8357700",
   "metadata": {},
   "outputs": [
    {
     "name": "stdout",
     "output_type": "stream",
     "text": [
      "Hello  :  abcd\n",
      "0\n"
     ]
    }
   ],
   "source": [
    "print_func(\"Hello\",\"abcd\",\"def\",n=2)\n",
    "print(a)"
   ]
  },
  {
   "cell_type": "code",
   "execution_count": null,
   "id": "8381354e",
   "metadata": {},
   "outputs": [],
   "source": [
    "#문) 기호 숫자 두개를 입력받아 계산하는 프로그램을 작성\n",
    "# 기호가 '#' 이면 프로그램 종료\n",
    "#  기호는 '+', '-', '*', '/' 실행 다른 기호는 계속해서 진행\n",
    "# 각가의 연산을 함수로 만들어서 호출 plus_func, minus_func,, mun_func, div_func"
   ]
  },
  {
   "cell_type": "code",
   "execution_count": 112,
   "id": "6654c452",
   "metadata": {},
   "outputs": [],
   "source": [
    "def input_func():\n",
    "    while True:\n",
    "        input_char = input(\"부호 입력 기호가 '#'이면 프로그램 종료\")\n",
    "        if input_char in buho_list:\n",
    "            return input_char\n",
    "        \n",
    "def input_number():\n",
    "    while True:\n",
    "        input_number = input(\" 두수 입력 : \").split()\n",
    "        if len(input_number) == 2:\n",
    "            return input_number\n",
    "\n",
    "def plus_func(values):\n",
    "    return(values[0] + values[1])\n",
    "\n",
    "def minus_func(values):\n",
    "    return(values[0] - values[1])\n",
    "\n",
    "def mul_func(values):\n",
    "    return(values[0] * values[1])\n",
    "\n",
    "def div_func(values):\n",
    "    return(values[0] / values[1])"
   ]
  },
  {
   "cell_type": "code",
   "execution_count": null,
   "id": "7ae52921",
   "metadata": {},
   "outputs": [
    {
     "name": "stdout",
     "output_type": "stream",
     "text": [
      "부호 입력 기호가 '#'이면 프로그램 종료/\n",
      " 두수 입력 : 20 10\n",
      "부호 입력 기호가 '#'이면 프로그램 종료+\n",
      " 두수 입력 : 20 30\n",
      "부호 입력 기호가 '#'이면 프로그램 종료-\n",
      " 두수 입력 : 20\n",
      " 두수 입력 : 30\n",
      " 두수 입력 : 20 - 30 =\n",
      " 두수 입력 : 20 30\n"
     ]
    }
   ],
   "source": [
    "buho_list = ['+','-',\"*\",'/','#']\n",
    "\n",
    "while True:\n",
    "    buho_char = input_func()\n",
    "    if buho_char ==  \"#\":\n",
    "        break\n",
    "    else:\n",
    "        values = input_number()\n",
    "        for i, vlaue in enumerate(values):\n",
    "            values[i] = int(value)\n",
    "        if buho_char == '+':\n",
    "            result = plus_func(values)\n",
    "        elif buho_char == '-':\n",
    "            result = minus_func(values)\n",
    "        elif buho_char == '*':\n",
    "            result = mul_func(values)\n",
    "        else:\n",
    "            result = div_func(values)\n",
    "            \n",
    "print(\"{} {} {} = {}\".format(values[0],buho_char,values[1],result))"
   ]
  },
  {
   "cell_type": "code",
   "execution_count": null,
   "id": "92c6083d",
   "metadata": {},
   "outputs": [],
   "source": []
  }
 ],
 "metadata": {
  "kernelspec": {
   "display_name": "Python 3",
   "language": "python",
   "name": "python3"
  },
  "language_info": {
   "codemirror_mode": {
    "name": "ipython",
    "version": 3
   },
   "file_extension": ".py",
   "mimetype": "text/x-python",
   "name": "python",
   "nbconvert_exporter": "python",
   "pygments_lexer": "ipython3",
   "version": "3.8.8"
  }
 },
 "nbformat": 4,
 "nbformat_minor": 5
}
