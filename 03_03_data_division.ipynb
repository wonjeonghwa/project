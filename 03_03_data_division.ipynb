{
  "nbformat": 4,
  "nbformat_minor": 0,
  "metadata": {
    "anaconda-cloud": {},
    "kernelspec": {
      "display_name": "Python 3",
      "language": "python",
      "name": "python3"
    },
    "language_info": {
      "codemirror_mode": {
        "name": "ipython",
        "version": 3
      },
      "file_extension": ".py",
      "mimetype": "text/x-python",
      "name": "python",
      "nbconvert_exporter": "python",
      "pygments_lexer": "ipython3",
      "version": "3.6.8"
    },
    "colab": {
      "name": "03_03_data_division.ipynb",
      "provenance": []
    }
  },
  "cells": [
    {
      "cell_type": "code",
      "metadata": {
        "id": "z3iIITXko9P0"
      },
      "source": [
        "import seaborn as sns\n",
        "import pandas as pd\n",
        "import matplotlib.pyplot as plt\n",
        "from sklearn.model_selection import train_test_split\n",
        "import tensorflow as tf"
      ],
      "execution_count": 29,
      "outputs": []
    },
    {
      "cell_type": "code",
      "metadata": {
        "id": "W6M47pW6ovpy",
        "outputId": "555e9327-a188-4bf7-ab6a-b079c1380862",
        "colab": {
          "resources": {
            "http://localhost:8080/nbextensions/google.colab/files.js": {
              "data": "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",
              "ok": true,
              "headers": [
                [
                  "content-type",
                  "application/javascript"
                ]
              ],
              "status": 200,
              "status_text": ""
            }
          },
          "base_uri": "https://localhost:8080/",
          "height": 76
        }
      },
      "source": [
        "from google.colab import files\n",
        "file_uploaded = files.upload()"
      ],
      "execution_count": 30,
      "outputs": [
        {
          "output_type": "display_data",
          "data": {
            "text/html": [
              "\n",
              "     <input type=\"file\" id=\"files-2092a96d-053a-47b3-b788-61755179aaaf\" name=\"files[]\" multiple disabled\n",
              "        style=\"border:none\" />\n",
              "     <output id=\"result-2092a96d-053a-47b3-b788-61755179aaaf\">\n",
              "      Upload widget is only available when the cell has been executed in the\n",
              "      current browser session. Please rerun this cell to enable.\n",
              "      </output>\n",
              "      <script src=\"/nbextensions/google.colab/files.js\"></script> "
            ],
            "text/plain": [
              "<IPython.core.display.HTML object>"
            ]
          },
          "metadata": {}
        },
        {
          "output_type": "stream",
          "name": "stdout",
          "text": [
            "Saving BostonHousing.csv to BostonHousing (4).csv\n"
          ]
        }
      ]
    },
    {
      "cell_type": "code",
      "metadata": {
        "id": "e5mBPj1co1n5"
      },
      "source": [
        "data = pd.read_csv('./BostonHousing.csv')"
      ],
      "execution_count": 31,
      "outputs": []
    },
    {
      "cell_type": "code",
      "metadata": {
        "id": "ac5hQgR1dpsy"
      },
      "source": [
        "x_data = data.copy()\n",
        "\n",
        "ori_y = x_data.pop('MEDV')\n"
      ],
      "execution_count": 32,
      "outputs": []
    },
    {
      "cell_type": "code",
      "metadata": {
        "id": "n_nLG8ZKdps4"
      },
      "source": [
        "\n",
        "x_train1, x_test, y_train1, y_test = train_test_split(x_data, ori_y, test_size=0.3, shuffle=True)\n",
        "x_train, x_valid, y_train, y_valid = train_test_split(x_train1, y_train1, test_size=0.2, shuffle=True)"
      ],
      "execution_count": 33,
      "outputs": []
    },
    {
      "cell_type": "code",
      "metadata": {
        "id": "8NqndYaldps5",
        "outputId": "21178526-7b2d-4d56-afcf-d22c2cd6c996",
        "colab": {
          "base_uri": "https://localhost:8080/"
        }
      },
      "source": [
        "input_layer = tf.keras.layers.Input(shape=(13,))\n",
        "x = tf.keras.layers.Dense(50, activation='sigmoid')(input_layer)\n",
        "x = tf.keras.layers.Dense(100, activation='sigmoid')(x)\n",
        "x = tf.keras.layers.Dense(300, activation='sigmoid')(x)\n",
        "out_layer = tf.keras.layers.Dense(1, activation=None)(x)\n",
        "\n",
        "model = tf.keras.Model(inputs=[input_layer], outputs=[out_layer])\n",
        "model.summary()"
      ],
      "execution_count": 34,
      "outputs": [
        {
          "output_type": "stream",
          "name": "stdout",
          "text": [
            "Model: \"model\"\n",
            "_________________________________________________________________\n",
            "Layer (type)                 Output Shape              Param #   \n",
            "=================================================================\n",
            "input_1 (InputLayer)         [(None, 13)]              0         \n",
            "_________________________________________________________________\n",
            "dense (Dense)                (None, 50)                700       \n",
            "_________________________________________________________________\n",
            "dense_1 (Dense)              (None, 100)               5100      \n",
            "_________________________________________________________________\n",
            "dense_2 (Dense)              (None, 300)               30300     \n",
            "_________________________________________________________________\n",
            "dense_3 (Dense)              (None, 1)                 301       \n",
            "=================================================================\n",
            "Total params: 36,401\n",
            "Trainable params: 36,401\n",
            "Non-trainable params: 0\n",
            "_________________________________________________________________\n"
          ]
        }
      ]
    },
    {
      "cell_type": "code",
      "metadata": {
        "id": "rhuIWIkpdps6",
        "outputId": "cdbad9dc-457f-4ccf-b2d6-ee38fb40c324",
        "colab": {
          "base_uri": "https://localhost:8080/"
        }
      },
      "source": [
        "loss = tf.keras.losses.mean_squared_error\n",
        "optimizer = tf.keras.optimizers.SGD(lr=0.0004)\n",
        "metrics = tf.keras.metrics.RootMeanSquaredError()\n",
        "model.compile(loss = loss,\n",
        "              optimizer = optimizer,\n",
        "              metrics = [metrics])"
      ],
      "execution_count": 35,
      "outputs": [
        {
          "output_type": "stream",
          "name": "stderr",
          "text": [
            "/usr/local/lib/python3.7/dist-packages/keras/optimizer_v2/optimizer_v2.py:356: UserWarning: The `lr` argument is deprecated, use `learning_rate` instead.\n",
            "  \"The `lr` argument is deprecated, use `learning_rate` instead.\")\n"
          ]
        }
      ]
    },
    {
      "cell_type": "code",
      "metadata": {
        "id": "v-fZrye8pZyW",
        "outputId": "03fe42f7-715f-4f45-9ef7-d1db5a082e54",
        "colab": {
          "base_uri": "https://localhost:8080/"
        }
      },
      "source": [
        "result = model.fit(x_train, y_train, epochs = 200, batch_size = 10, validation_data=(x_valid, y_valid))"
      ],
      "execution_count": 36,
      "outputs": [
        {
          "output_type": "stream",
          "name": "stdout",
          "text": [
            "Epoch 1/200\n",
            "29/29 [==============================] - 1s 9ms/step - loss: 222.1694 - root_mean_squared_error: 14.9053 - val_loss: 71.6373 - val_root_mean_squared_error: 8.4639\n",
            "Epoch 2/200\n",
            "29/29 [==============================] - 0s 2ms/step - loss: 89.1709 - root_mean_squared_error: 9.4430 - val_loss: 67.4059 - val_root_mean_squared_error: 8.2101\n",
            "Epoch 3/200\n",
            "29/29 [==============================] - 0s 2ms/step - loss: 88.0698 - root_mean_squared_error: 9.3846 - val_loss: 66.8835 - val_root_mean_squared_error: 8.1782\n",
            "Epoch 4/200\n",
            "29/29 [==============================] - 0s 2ms/step - loss: 87.7824 - root_mean_squared_error: 9.3692 - val_loss: 67.4162 - val_root_mean_squared_error: 8.2107\n",
            "Epoch 5/200\n",
            "29/29 [==============================] - 0s 3ms/step - loss: 88.0133 - root_mean_squared_error: 9.3815 - val_loss: 67.0061 - val_root_mean_squared_error: 8.1857\n",
            "Epoch 6/200\n",
            "29/29 [==============================] - 0s 2ms/step - loss: 87.9080 - root_mean_squared_error: 9.3759 - val_loss: 66.3723 - val_root_mean_squared_error: 8.1469\n",
            "Epoch 7/200\n",
            "29/29 [==============================] - 0s 2ms/step - loss: 87.7002 - root_mean_squared_error: 9.3648 - val_loss: 66.5569 - val_root_mean_squared_error: 8.1582\n",
            "Epoch 8/200\n",
            "29/29 [==============================] - 0s 3ms/step - loss: 87.6176 - root_mean_squared_error: 9.3604 - val_loss: 66.7753 - val_root_mean_squared_error: 8.1716\n",
            "Epoch 9/200\n",
            "29/29 [==============================] - 0s 3ms/step - loss: 87.2599 - root_mean_squared_error: 9.3413 - val_loss: 66.3666 - val_root_mean_squared_error: 8.1466\n",
            "Epoch 10/200\n",
            "29/29 [==============================] - 0s 2ms/step - loss: 87.3084 - root_mean_squared_error: 9.3439 - val_loss: 65.9838 - val_root_mean_squared_error: 8.1230\n",
            "Epoch 11/200\n",
            "29/29 [==============================] - 0s 3ms/step - loss: 87.0791 - root_mean_squared_error: 9.3316 - val_loss: 65.7025 - val_root_mean_squared_error: 8.1057\n",
            "Epoch 12/200\n",
            "29/29 [==============================] - 0s 3ms/step - loss: 86.8491 - root_mean_squared_error: 9.3193 - val_loss: 65.5711 - val_root_mean_squared_error: 8.0976\n",
            "Epoch 13/200\n",
            "29/29 [==============================] - 0s 2ms/step - loss: 86.3235 - root_mean_squared_error: 9.2910 - val_loss: 65.7477 - val_root_mean_squared_error: 8.1085\n",
            "Epoch 14/200\n",
            "29/29 [==============================] - 0s 3ms/step - loss: 86.4631 - root_mean_squared_error: 9.2986 - val_loss: 66.0317 - val_root_mean_squared_error: 8.1260\n",
            "Epoch 15/200\n",
            "29/29 [==============================] - 0s 2ms/step - loss: 86.6540 - root_mean_squared_error: 9.3088 - val_loss: 65.3257 - val_root_mean_squared_error: 8.0824\n",
            "Epoch 16/200\n",
            "29/29 [==============================] - 0s 3ms/step - loss: 86.3091 - root_mean_squared_error: 9.2903 - val_loss: 65.4421 - val_root_mean_squared_error: 8.0896\n",
            "Epoch 17/200\n",
            "29/29 [==============================] - 0s 3ms/step - loss: 86.2542 - root_mean_squared_error: 9.2873 - val_loss: 65.2314 - val_root_mean_squared_error: 8.0766\n",
            "Epoch 18/200\n",
            "29/29 [==============================] - 0s 3ms/step - loss: 86.1236 - root_mean_squared_error: 9.2803 - val_loss: 65.7486 - val_root_mean_squared_error: 8.1086\n",
            "Epoch 19/200\n",
            "29/29 [==============================] - 0s 2ms/step - loss: 85.9309 - root_mean_squared_error: 9.2699 - val_loss: 65.3279 - val_root_mean_squared_error: 8.0826\n",
            "Epoch 20/200\n",
            "29/29 [==============================] - 0s 2ms/step - loss: 86.0598 - root_mean_squared_error: 9.2768 - val_loss: 64.4737 - val_root_mean_squared_error: 8.0295\n",
            "Epoch 21/200\n",
            "29/29 [==============================] - 0s 4ms/step - loss: 85.6444 - root_mean_squared_error: 9.2544 - val_loss: 63.9876 - val_root_mean_squared_error: 7.9992\n",
            "Epoch 22/200\n",
            "29/29 [==============================] - 0s 3ms/step - loss: 85.0059 - root_mean_squared_error: 9.2199 - val_loss: 66.1656 - val_root_mean_squared_error: 8.1342\n",
            "Epoch 23/200\n",
            "29/29 [==============================] - 0s 2ms/step - loss: 85.4591 - root_mean_squared_error: 9.2444 - val_loss: 63.6716 - val_root_mean_squared_error: 7.9794\n",
            "Epoch 24/200\n",
            "29/29 [==============================] - 0s 3ms/step - loss: 84.3970 - root_mean_squared_error: 9.1868 - val_loss: 64.5017 - val_root_mean_squared_error: 8.0313\n",
            "Epoch 25/200\n",
            "29/29 [==============================] - 0s 2ms/step - loss: 84.8919 - root_mean_squared_error: 9.2137 - val_loss: 63.3884 - val_root_mean_squared_error: 7.9617\n",
            "Epoch 26/200\n",
            "29/29 [==============================] - 0s 3ms/step - loss: 84.4455 - root_mean_squared_error: 9.1894 - val_loss: 62.9374 - val_root_mean_squared_error: 7.9333\n",
            "Epoch 27/200\n",
            "29/29 [==============================] - 0s 2ms/step - loss: 84.4595 - root_mean_squared_error: 9.1902 - val_loss: 65.0084 - val_root_mean_squared_error: 8.0628\n",
            "Epoch 28/200\n",
            "29/29 [==============================] - 0s 3ms/step - loss: 84.7671 - root_mean_squared_error: 9.2069 - val_loss: 62.9698 - val_root_mean_squared_error: 7.9353\n",
            "Epoch 29/200\n",
            "29/29 [==============================] - 0s 4ms/step - loss: 84.3279 - root_mean_squared_error: 9.1830 - val_loss: 62.7733 - val_root_mean_squared_error: 7.9230\n",
            "Epoch 30/200\n",
            "29/29 [==============================] - 0s 2ms/step - loss: 84.1642 - root_mean_squared_error: 9.1741 - val_loss: 62.5107 - val_root_mean_squared_error: 7.9064\n",
            "Epoch 31/200\n",
            "29/29 [==============================] - 0s 2ms/step - loss: 83.6771 - root_mean_squared_error: 9.1475 - val_loss: 62.2849 - val_root_mean_squared_error: 7.8921\n",
            "Epoch 32/200\n",
            "29/29 [==============================] - 0s 3ms/step - loss: 83.6056 - root_mean_squared_error: 9.1436 - val_loss: 61.9475 - val_root_mean_squared_error: 7.8707\n",
            "Epoch 33/200\n",
            "29/29 [==============================] - 0s 2ms/step - loss: 83.2076 - root_mean_squared_error: 9.1218 - val_loss: 61.8291 - val_root_mean_squared_error: 7.8632\n",
            "Epoch 34/200\n",
            "29/29 [==============================] - 0s 3ms/step - loss: 83.0299 - root_mean_squared_error: 9.1121 - val_loss: 61.2334 - val_root_mean_squared_error: 7.8252\n",
            "Epoch 35/200\n",
            "29/29 [==============================] - 0s 2ms/step - loss: 82.4864 - root_mean_squared_error: 9.0822 - val_loss: 60.8037 - val_root_mean_squared_error: 7.7977\n",
            "Epoch 36/200\n",
            "29/29 [==============================] - 0s 2ms/step - loss: 82.4055 - root_mean_squared_error: 9.0778 - val_loss: 60.2120 - val_root_mean_squared_error: 7.7596\n",
            "Epoch 37/200\n",
            "29/29 [==============================] - 0s 2ms/step - loss: 81.9838 - root_mean_squared_error: 9.0545 - val_loss: 60.4155 - val_root_mean_squared_error: 7.7727\n",
            "Epoch 38/200\n",
            "29/29 [==============================] - 0s 2ms/step - loss: 81.9830 - root_mean_squared_error: 9.0544 - val_loss: 59.6220 - val_root_mean_squared_error: 7.7215\n",
            "Epoch 39/200\n",
            "29/29 [==============================] - 0s 2ms/step - loss: 81.3097 - root_mean_squared_error: 9.0172 - val_loss: 59.6140 - val_root_mean_squared_error: 7.7210\n",
            "Epoch 40/200\n",
            "29/29 [==============================] - 0s 3ms/step - loss: 81.1757 - root_mean_squared_error: 9.0098 - val_loss: 59.5246 - val_root_mean_squared_error: 7.7152\n",
            "Epoch 41/200\n",
            "29/29 [==============================] - 0s 3ms/step - loss: 80.6487 - root_mean_squared_error: 8.9805 - val_loss: 59.1975 - val_root_mean_squared_error: 7.6940\n",
            "Epoch 42/200\n",
            "29/29 [==============================] - 0s 3ms/step - loss: 80.8785 - root_mean_squared_error: 8.9932 - val_loss: 58.6085 - val_root_mean_squared_error: 7.6556\n",
            "Epoch 43/200\n",
            "29/29 [==============================] - 0s 2ms/step - loss: 80.2594 - root_mean_squared_error: 8.9588 - val_loss: 57.7256 - val_root_mean_squared_error: 7.5977\n",
            "Epoch 44/200\n",
            "29/29 [==============================] - 0s 3ms/step - loss: 79.4266 - root_mean_squared_error: 8.9122 - val_loss: 57.1599 - val_root_mean_squared_error: 7.5604\n",
            "Epoch 45/200\n",
            "29/29 [==============================] - 0s 2ms/step - loss: 79.2006 - root_mean_squared_error: 8.8995 - val_loss: 56.7730 - val_root_mean_squared_error: 7.5348\n",
            "Epoch 46/200\n",
            "29/29 [==============================] - 0s 2ms/step - loss: 79.2417 - root_mean_squared_error: 8.9018 - val_loss: 56.0553 - val_root_mean_squared_error: 7.4870\n",
            "Epoch 47/200\n",
            "29/29 [==============================] - 0s 3ms/step - loss: 78.8186 - root_mean_squared_error: 8.8780 - val_loss: 55.5008 - val_root_mean_squared_error: 7.4499\n",
            "Epoch 48/200\n",
            "29/29 [==============================] - 0s 3ms/step - loss: 78.2824 - root_mean_squared_error: 8.8477 - val_loss: 55.3559 - val_root_mean_squared_error: 7.4402\n",
            "Epoch 49/200\n",
            "29/29 [==============================] - 0s 3ms/step - loss: 77.9456 - root_mean_squared_error: 8.8287 - val_loss: 54.8917 - val_root_mean_squared_error: 7.4089\n",
            "Epoch 50/200\n",
            "29/29 [==============================] - 0s 2ms/step - loss: 77.4878 - root_mean_squared_error: 8.8027 - val_loss: 54.6625 - val_root_mean_squared_error: 7.3934\n",
            "Epoch 51/200\n",
            "29/29 [==============================] - 0s 3ms/step - loss: 76.9877 - root_mean_squared_error: 8.7743 - val_loss: 54.2530 - val_root_mean_squared_error: 7.3657\n",
            "Epoch 52/200\n",
            "29/29 [==============================] - 0s 3ms/step - loss: 76.3112 - root_mean_squared_error: 8.7356 - val_loss: 53.3910 - val_root_mean_squared_error: 7.3069\n",
            "Epoch 53/200\n",
            "29/29 [==============================] - 0s 2ms/step - loss: 76.4429 - root_mean_squared_error: 8.7432 - val_loss: 53.3498 - val_root_mean_squared_error: 7.3041\n",
            "Epoch 54/200\n",
            "29/29 [==============================] - 0s 3ms/step - loss: 75.7991 - root_mean_squared_error: 8.7063 - val_loss: 54.1167 - val_root_mean_squared_error: 7.3564\n",
            "Epoch 55/200\n",
            "29/29 [==============================] - 0s 3ms/step - loss: 76.2421 - root_mean_squared_error: 8.7317 - val_loss: 54.6588 - val_root_mean_squared_error: 7.3932\n",
            "Epoch 56/200\n",
            "29/29 [==============================] - 0s 3ms/step - loss: 76.2194 - root_mean_squared_error: 8.7304 - val_loss: 53.8234 - val_root_mean_squared_error: 7.3364\n",
            "Epoch 57/200\n",
            "29/29 [==============================] - 0s 3ms/step - loss: 75.9883 - root_mean_squared_error: 8.7171 - val_loss: 53.1381 - val_root_mean_squared_error: 7.2896\n",
            "Epoch 58/200\n",
            "29/29 [==============================] - 0s 3ms/step - loss: 76.5456 - root_mean_squared_error: 8.7490 - val_loss: 52.0887 - val_root_mean_squared_error: 7.2173\n",
            "Epoch 59/200\n",
            "29/29 [==============================] - 0s 3ms/step - loss: 75.9643 - root_mean_squared_error: 8.7157 - val_loss: 53.2107 - val_root_mean_squared_error: 7.2946\n",
            "Epoch 60/200\n",
            "29/29 [==============================] - 0s 3ms/step - loss: 75.4988 - root_mean_squared_error: 8.6890 - val_loss: 52.5284 - val_root_mean_squared_error: 7.2476\n",
            "Epoch 61/200\n",
            "29/29 [==============================] - 0s 2ms/step - loss: 74.8103 - root_mean_squared_error: 8.6493 - val_loss: 52.8189 - val_root_mean_squared_error: 7.2677\n",
            "Epoch 62/200\n",
            "29/29 [==============================] - 0s 2ms/step - loss: 74.7944 - root_mean_squared_error: 8.6484 - val_loss: 53.0238 - val_root_mean_squared_error: 7.2817\n",
            "Epoch 63/200\n",
            "29/29 [==============================] - 0s 3ms/step - loss: 75.9834 - root_mean_squared_error: 8.7168 - val_loss: 51.8627 - val_root_mean_squared_error: 7.2016\n",
            "Epoch 64/200\n",
            "29/29 [==============================] - 0s 3ms/step - loss: 75.2034 - root_mean_squared_error: 8.6720 - val_loss: 52.4842 - val_root_mean_squared_error: 7.2446\n",
            "Epoch 65/200\n",
            "29/29 [==============================] - 0s 3ms/step - loss: 74.9384 - root_mean_squared_error: 8.6567 - val_loss: 52.0144 - val_root_mean_squared_error: 7.2121\n",
            "Epoch 66/200\n",
            "29/29 [==============================] - 0s 2ms/step - loss: 75.1187 - root_mean_squared_error: 8.6671 - val_loss: 51.5446 - val_root_mean_squared_error: 7.1795\n",
            "Epoch 67/200\n",
            "29/29 [==============================] - 0s 2ms/step - loss: 74.2473 - root_mean_squared_error: 8.6167 - val_loss: 51.6659 - val_root_mean_squared_error: 7.1879\n",
            "Epoch 68/200\n",
            "29/29 [==============================] - 0s 3ms/step - loss: 75.0338 - root_mean_squared_error: 8.6622 - val_loss: 50.6936 - val_root_mean_squared_error: 7.1199\n",
            "Epoch 69/200\n",
            "29/29 [==============================] - 0s 3ms/step - loss: 73.5233 - root_mean_squared_error: 8.5746 - val_loss: 51.6142 - val_root_mean_squared_error: 7.1843\n",
            "Epoch 70/200\n",
            "29/29 [==============================] - 0s 3ms/step - loss: 73.8655 - root_mean_squared_error: 8.5945 - val_loss: 51.4576 - val_root_mean_squared_error: 7.1734\n",
            "Epoch 71/200\n",
            "29/29 [==============================] - 0s 3ms/step - loss: 74.4470 - root_mean_squared_error: 8.6283 - val_loss: 50.1450 - val_root_mean_squared_error: 7.0813\n",
            "Epoch 72/200\n",
            "29/29 [==============================] - 0s 3ms/step - loss: 73.4695 - root_mean_squared_error: 8.5714 - val_loss: 48.9624 - val_root_mean_squared_error: 6.9973\n",
            "Epoch 73/200\n",
            "29/29 [==============================] - 0s 2ms/step - loss: 73.9077 - root_mean_squared_error: 8.5970 - val_loss: 50.7163 - val_root_mean_squared_error: 7.1215\n",
            "Epoch 74/200\n",
            "29/29 [==============================] - 0s 3ms/step - loss: 73.2963 - root_mean_squared_error: 8.5613 - val_loss: 49.6874 - val_root_mean_squared_error: 7.0489\n",
            "Epoch 75/200\n",
            "29/29 [==============================] - 0s 2ms/step - loss: 73.3052 - root_mean_squared_error: 8.5618 - val_loss: 51.2684 - val_root_mean_squared_error: 7.1602\n",
            "Epoch 76/200\n",
            "29/29 [==============================] - 0s 3ms/step - loss: 72.9279 - root_mean_squared_error: 8.5398 - val_loss: 50.2697 - val_root_mean_squared_error: 7.0901\n",
            "Epoch 77/200\n",
            "29/29 [==============================] - 0s 2ms/step - loss: 72.5253 - root_mean_squared_error: 8.5162 - val_loss: 50.2496 - val_root_mean_squared_error: 7.0887\n",
            "Epoch 78/200\n",
            "29/29 [==============================] - 0s 3ms/step - loss: 72.6411 - root_mean_squared_error: 8.5230 - val_loss: 51.1841 - val_root_mean_squared_error: 7.1543\n",
            "Epoch 79/200\n",
            "29/29 [==============================] - 0s 3ms/step - loss: 71.7099 - root_mean_squared_error: 8.4682 - val_loss: 49.6443 - val_root_mean_squared_error: 7.0459\n",
            "Epoch 80/200\n",
            "29/29 [==============================] - 0s 3ms/step - loss: 72.2580 - root_mean_squared_error: 8.5005 - val_loss: 49.7569 - val_root_mean_squared_error: 7.0539\n",
            "Epoch 81/200\n",
            "29/29 [==============================] - 0s 3ms/step - loss: 72.5730 - root_mean_squared_error: 8.5190 - val_loss: 51.1766 - val_root_mean_squared_error: 7.1538\n",
            "Epoch 82/200\n",
            "29/29 [==============================] - 0s 2ms/step - loss: 73.4237 - root_mean_squared_error: 8.5688 - val_loss: 48.7277 - val_root_mean_squared_error: 6.9805\n",
            "Epoch 83/200\n",
            "29/29 [==============================] - 0s 3ms/step - loss: 71.8189 - root_mean_squared_error: 8.4746 - val_loss: 48.8932 - val_root_mean_squared_error: 6.9924\n",
            "Epoch 84/200\n",
            "29/29 [==============================] - 0s 2ms/step - loss: 71.0600 - root_mean_squared_error: 8.4297 - val_loss: 48.1376 - val_root_mean_squared_error: 6.9381\n",
            "Epoch 85/200\n",
            "29/29 [==============================] - 0s 3ms/step - loss: 72.0580 - root_mean_squared_error: 8.4887 - val_loss: 49.7505 - val_root_mean_squared_error: 7.0534\n",
            "Epoch 86/200\n",
            "29/29 [==============================] - 0s 2ms/step - loss: 71.7119 - root_mean_squared_error: 8.4683 - val_loss: 48.6660 - val_root_mean_squared_error: 6.9761\n",
            "Epoch 87/200\n",
            "29/29 [==============================] - 0s 2ms/step - loss: 71.6456 - root_mean_squared_error: 8.4644 - val_loss: 48.9887 - val_root_mean_squared_error: 6.9992\n",
            "Epoch 88/200\n",
            "29/29 [==============================] - 0s 3ms/step - loss: 70.3837 - root_mean_squared_error: 8.3895 - val_loss: 47.2560 - val_root_mean_squared_error: 6.8743\n",
            "Epoch 89/200\n",
            "29/29 [==============================] - 0s 3ms/step - loss: 69.9043 - root_mean_squared_error: 8.3609 - val_loss: 47.2017 - val_root_mean_squared_error: 6.8704\n",
            "Epoch 90/200\n",
            "29/29 [==============================] - 0s 2ms/step - loss: 70.6531 - root_mean_squared_error: 8.4055 - val_loss: 46.5805 - val_root_mean_squared_error: 6.8250\n",
            "Epoch 91/200\n",
            "29/29 [==============================] - 0s 2ms/step - loss: 69.8023 - root_mean_squared_error: 8.3548 - val_loss: 46.2604 - val_root_mean_squared_error: 6.8015\n",
            "Epoch 92/200\n",
            "29/29 [==============================] - 0s 2ms/step - loss: 69.9761 - root_mean_squared_error: 8.3652 - val_loss: 46.0748 - val_root_mean_squared_error: 6.7878\n",
            "Epoch 93/200\n",
            "29/29 [==============================] - 0s 3ms/step - loss: 69.9176 - root_mean_squared_error: 8.3617 - val_loss: 46.3280 - val_root_mean_squared_error: 6.8065\n",
            "Epoch 94/200\n",
            "29/29 [==============================] - 0s 3ms/step - loss: 70.6726 - root_mean_squared_error: 8.4067 - val_loss: 45.3424 - val_root_mean_squared_error: 6.7337\n",
            "Epoch 95/200\n",
            "29/29 [==============================] - 0s 3ms/step - loss: 69.6968 - root_mean_squared_error: 8.3485 - val_loss: 45.9875 - val_root_mean_squared_error: 6.7814\n",
            "Epoch 96/200\n",
            "29/29 [==============================] - 0s 2ms/step - loss: 69.8412 - root_mean_squared_error: 8.3571 - val_loss: 44.4547 - val_root_mean_squared_error: 6.6674\n",
            "Epoch 97/200\n",
            "29/29 [==============================] - 0s 2ms/step - loss: 70.5052 - root_mean_squared_error: 8.3967 - val_loss: 48.2448 - val_root_mean_squared_error: 6.9459\n",
            "Epoch 98/200\n",
            "29/29 [==============================] - 0s 3ms/step - loss: 70.8122 - root_mean_squared_error: 8.4150 - val_loss: 49.6529 - val_root_mean_squared_error: 7.0465\n",
            "Epoch 99/200\n",
            "29/29 [==============================] - 0s 2ms/step - loss: 71.1273 - root_mean_squared_error: 8.4337 - val_loss: 47.7290 - val_root_mean_squared_error: 6.9086\n",
            "Epoch 100/200\n",
            "29/29 [==============================] - 0s 3ms/step - loss: 70.3589 - root_mean_squared_error: 8.3880 - val_loss: 47.3957 - val_root_mean_squared_error: 6.8845\n",
            "Epoch 101/200\n",
            "29/29 [==============================] - 0s 3ms/step - loss: 70.0480 - root_mean_squared_error: 8.3695 - val_loss: 47.8684 - val_root_mean_squared_error: 6.9187\n",
            "Epoch 102/200\n",
            "29/29 [==============================] - 0s 3ms/step - loss: 70.4837 - root_mean_squared_error: 8.3955 - val_loss: 51.8000 - val_root_mean_squared_error: 7.1972\n",
            "Epoch 103/200\n",
            "29/29 [==============================] - 0s 2ms/step - loss: 71.4684 - root_mean_squared_error: 8.4539 - val_loss: 47.0365 - val_root_mean_squared_error: 6.8583\n",
            "Epoch 104/200\n",
            "29/29 [==============================] - 0s 3ms/step - loss: 70.6771 - root_mean_squared_error: 8.4070 - val_loss: 45.4240 - val_root_mean_squared_error: 6.7397\n",
            "Epoch 105/200\n",
            "29/29 [==============================] - 0s 2ms/step - loss: 69.5976 - root_mean_squared_error: 8.3425 - val_loss: 48.4562 - val_root_mean_squared_error: 6.9610\n",
            "Epoch 106/200\n",
            "29/29 [==============================] - 0s 3ms/step - loss: 70.3914 - root_mean_squared_error: 8.3900 - val_loss: 49.1651 - val_root_mean_squared_error: 7.0118\n",
            "Epoch 107/200\n",
            "29/29 [==============================] - 0s 2ms/step - loss: 70.5924 - root_mean_squared_error: 8.4019 - val_loss: 51.2812 - val_root_mean_squared_error: 7.1611\n",
            "Epoch 108/200\n",
            "29/29 [==============================] - 0s 2ms/step - loss: 70.6746 - root_mean_squared_error: 8.4068 - val_loss: 50.1415 - val_root_mean_squared_error: 7.0811\n",
            "Epoch 109/200\n",
            "29/29 [==============================] - 0s 2ms/step - loss: 70.7069 - root_mean_squared_error: 8.4087 - val_loss: 49.5262 - val_root_mean_squared_error: 7.0375\n",
            "Epoch 110/200\n",
            "29/29 [==============================] - 0s 3ms/step - loss: 69.6987 - root_mean_squared_error: 8.3486 - val_loss: 50.4719 - val_root_mean_squared_error: 7.1044\n",
            "Epoch 111/200\n",
            "29/29 [==============================] - 0s 3ms/step - loss: 72.6352 - root_mean_squared_error: 8.5226 - val_loss: 47.7907 - val_root_mean_squared_error: 6.9131\n",
            "Epoch 112/200\n",
            "29/29 [==============================] - 0s 2ms/step - loss: 70.1205 - root_mean_squared_error: 8.3738 - val_loss: 45.5247 - val_root_mean_squared_error: 6.7472\n",
            "Epoch 113/200\n",
            "29/29 [==============================] - 0s 3ms/step - loss: 71.2533 - root_mean_squared_error: 8.4412 - val_loss: 47.4751 - val_root_mean_squared_error: 6.8902\n",
            "Epoch 114/200\n",
            "29/29 [==============================] - 0s 3ms/step - loss: 69.8052 - root_mean_squared_error: 8.3550 - val_loss: 49.1130 - val_root_mean_squared_error: 7.0081\n",
            "Epoch 115/200\n",
            "29/29 [==============================] - 0s 3ms/step - loss: 70.8902 - root_mean_squared_error: 8.4196 - val_loss: 49.8946 - val_root_mean_squared_error: 7.0636\n",
            "Epoch 116/200\n",
            "29/29 [==============================] - 0s 2ms/step - loss: 70.9439 - root_mean_squared_error: 8.4228 - val_loss: 48.8339 - val_root_mean_squared_error: 6.9881\n",
            "Epoch 117/200\n",
            "29/29 [==============================] - 0s 3ms/step - loss: 72.1719 - root_mean_squared_error: 8.4954 - val_loss: 48.7091 - val_root_mean_squared_error: 6.9792\n",
            "Epoch 118/200\n",
            "29/29 [==============================] - 0s 2ms/step - loss: 71.1649 - root_mean_squared_error: 8.4359 - val_loss: 49.6859 - val_root_mean_squared_error: 7.0488\n",
            "Epoch 119/200\n",
            "29/29 [==============================] - 0s 3ms/step - loss: 69.5851 - root_mean_squared_error: 8.3418 - val_loss: 49.9220 - val_root_mean_squared_error: 7.0655\n",
            "Epoch 120/200\n",
            "29/29 [==============================] - 0s 3ms/step - loss: 69.3020 - root_mean_squared_error: 8.3248 - val_loss: 50.4527 - val_root_mean_squared_error: 7.1030\n",
            "Epoch 121/200\n",
            "29/29 [==============================] - 0s 2ms/step - loss: 71.2519 - root_mean_squared_error: 8.4411 - val_loss: 52.0806 - val_root_mean_squared_error: 7.2167\n",
            "Epoch 122/200\n",
            "29/29 [==============================] - 0s 3ms/step - loss: 71.4752 - root_mean_squared_error: 8.4543 - val_loss: 47.6100 - val_root_mean_squared_error: 6.9000\n",
            "Epoch 123/200\n",
            "29/29 [==============================] - 0s 3ms/step - loss: 71.1362 - root_mean_squared_error: 8.4342 - val_loss: 48.8491 - val_root_mean_squared_error: 6.9892\n",
            "Epoch 124/200\n",
            "29/29 [==============================] - 0s 3ms/step - loss: 68.4437 - root_mean_squared_error: 8.2731 - val_loss: 48.6540 - val_root_mean_squared_error: 6.9752\n",
            "Epoch 125/200\n",
            "29/29 [==============================] - 0s 3ms/step - loss: 71.0391 - root_mean_squared_error: 8.4285 - val_loss: 49.8383 - val_root_mean_squared_error: 7.0596\n",
            "Epoch 126/200\n",
            "29/29 [==============================] - 0s 3ms/step - loss: 71.4974 - root_mean_squared_error: 8.4556 - val_loss: 48.5707 - val_root_mean_squared_error: 6.9693\n",
            "Epoch 127/200\n",
            "29/29 [==============================] - 0s 2ms/step - loss: 72.0136 - root_mean_squared_error: 8.4861 - val_loss: 49.1052 - val_root_mean_squared_error: 7.0075\n",
            "Epoch 128/200\n",
            "29/29 [==============================] - 0s 3ms/step - loss: 71.1799 - root_mean_squared_error: 8.4368 - val_loss: 46.3076 - val_root_mean_squared_error: 6.8050\n",
            "Epoch 129/200\n",
            "29/29 [==============================] - 0s 2ms/step - loss: 72.3584 - root_mean_squared_error: 8.5064 - val_loss: 46.4513 - val_root_mean_squared_error: 6.8155\n",
            "Epoch 130/200\n",
            "29/29 [==============================] - 0s 3ms/step - loss: 71.7608 - root_mean_squared_error: 8.4712 - val_loss: 46.8246 - val_root_mean_squared_error: 6.8428\n",
            "Epoch 131/200\n",
            "29/29 [==============================] - 0s 2ms/step - loss: 72.2818 - root_mean_squared_error: 8.5019 - val_loss: 46.1452 - val_root_mean_squared_error: 6.7930\n",
            "Epoch 132/200\n",
            "29/29 [==============================] - 0s 2ms/step - loss: 70.7800 - root_mean_squared_error: 8.4131 - val_loss: 48.0518 - val_root_mean_squared_error: 6.9319\n",
            "Epoch 133/200\n",
            "29/29 [==============================] - 0s 2ms/step - loss: 71.5219 - root_mean_squared_error: 8.4571 - val_loss: 45.9994 - val_root_mean_squared_error: 6.7823\n",
            "Epoch 134/200\n",
            "29/29 [==============================] - 0s 3ms/step - loss: 70.0563 - root_mean_squared_error: 8.3700 - val_loss: 49.5882 - val_root_mean_squared_error: 7.0419\n",
            "Epoch 135/200\n",
            "29/29 [==============================] - 0s 3ms/step - loss: 71.7257 - root_mean_squared_error: 8.4691 - val_loss: 44.7712 - val_root_mean_squared_error: 6.6911\n",
            "Epoch 136/200\n",
            "29/29 [==============================] - 0s 3ms/step - loss: 70.3833 - root_mean_squared_error: 8.3895 - val_loss: 44.8947 - val_root_mean_squared_error: 6.7003\n",
            "Epoch 137/200\n",
            "29/29 [==============================] - 0s 2ms/step - loss: 70.7856 - root_mean_squared_error: 8.4134 - val_loss: 43.7852 - val_root_mean_squared_error: 6.6170\n",
            "Epoch 138/200\n",
            "29/29 [==============================] - 0s 3ms/step - loss: 69.7331 - root_mean_squared_error: 8.3506 - val_loss: 43.6597 - val_root_mean_squared_error: 6.6075\n",
            "Epoch 139/200\n",
            "29/29 [==============================] - 0s 3ms/step - loss: 70.0400 - root_mean_squared_error: 8.3690 - val_loss: 44.5164 - val_root_mean_squared_error: 6.6721\n",
            "Epoch 140/200\n",
            "29/29 [==============================] - 0s 2ms/step - loss: 69.4617 - root_mean_squared_error: 8.3344 - val_loss: 44.3807 - val_root_mean_squared_error: 6.6619\n",
            "Epoch 141/200\n",
            "29/29 [==============================] - 0s 3ms/step - loss: 70.1717 - root_mean_squared_error: 8.3769 - val_loss: 45.8093 - val_root_mean_squared_error: 6.7683\n",
            "Epoch 142/200\n",
            "29/29 [==============================] - 0s 2ms/step - loss: 69.4047 - root_mean_squared_error: 8.3309 - val_loss: 46.3652 - val_root_mean_squared_error: 6.8092\n",
            "Epoch 143/200\n",
            "29/29 [==============================] - 0s 3ms/step - loss: 71.0444 - root_mean_squared_error: 8.4288 - val_loss: 45.5533 - val_root_mean_squared_error: 6.7493\n",
            "Epoch 144/200\n",
            "29/29 [==============================] - 0s 2ms/step - loss: 70.7950 - root_mean_squared_error: 8.4140 - val_loss: 46.5679 - val_root_mean_squared_error: 6.8241\n",
            "Epoch 145/200\n",
            "29/29 [==============================] - 0s 3ms/step - loss: 71.7768 - root_mean_squared_error: 8.4721 - val_loss: 46.2811 - val_root_mean_squared_error: 6.8030\n",
            "Epoch 146/200\n",
            "29/29 [==============================] - 0s 3ms/step - loss: 71.6952 - root_mean_squared_error: 8.4673 - val_loss: 46.1836 - val_root_mean_squared_error: 6.7958\n",
            "Epoch 147/200\n",
            "29/29 [==============================] - 0s 3ms/step - loss: 71.6386 - root_mean_squared_error: 8.4640 - val_loss: 45.6950 - val_root_mean_squared_error: 6.7598\n",
            "Epoch 148/200\n",
            "29/29 [==============================] - 0s 3ms/step - loss: 71.0459 - root_mean_squared_error: 8.4289 - val_loss: 45.5952 - val_root_mean_squared_error: 6.7524\n",
            "Epoch 149/200\n",
            "29/29 [==============================] - 0s 3ms/step - loss: 71.2382 - root_mean_squared_error: 8.4403 - val_loss: 45.5232 - val_root_mean_squared_error: 6.7471\n",
            "Epoch 150/200\n",
            "29/29 [==============================] - 0s 3ms/step - loss: 71.6791 - root_mean_squared_error: 8.4664 - val_loss: 46.0378 - val_root_mean_squared_error: 6.7851\n",
            "Epoch 151/200\n",
            "29/29 [==============================] - 0s 3ms/step - loss: 70.8346 - root_mean_squared_error: 8.4163 - val_loss: 46.0438 - val_root_mean_squared_error: 6.7856\n",
            "Epoch 152/200\n",
            "29/29 [==============================] - 0s 3ms/step - loss: 71.5991 - root_mean_squared_error: 8.4616 - val_loss: 45.4749 - val_root_mean_squared_error: 6.7435\n",
            "Epoch 153/200\n",
            "29/29 [==============================] - 0s 2ms/step - loss: 71.4764 - root_mean_squared_error: 8.4544 - val_loss: 45.5723 - val_root_mean_squared_error: 6.7507\n",
            "Epoch 154/200\n",
            "29/29 [==============================] - 0s 2ms/step - loss: 71.7597 - root_mean_squared_error: 8.4711 - val_loss: 45.4415 - val_root_mean_squared_error: 6.7410\n",
            "Epoch 155/200\n",
            "29/29 [==============================] - 0s 3ms/step - loss: 71.1293 - root_mean_squared_error: 8.4338 - val_loss: 45.3649 - val_root_mean_squared_error: 6.7353\n",
            "Epoch 156/200\n",
            "29/29 [==============================] - 0s 2ms/step - loss: 71.6557 - root_mean_squared_error: 8.4650 - val_loss: 45.6254 - val_root_mean_squared_error: 6.7547\n",
            "Epoch 157/200\n",
            "29/29 [==============================] - 0s 2ms/step - loss: 71.3001 - root_mean_squared_error: 8.4439 - val_loss: 44.9560 - val_root_mean_squared_error: 6.7049\n",
            "Epoch 158/200\n",
            "29/29 [==============================] - 0s 3ms/step - loss: 71.3123 - root_mean_squared_error: 8.4447 - val_loss: 45.1985 - val_root_mean_squared_error: 6.7230\n",
            "Epoch 159/200\n",
            "29/29 [==============================] - 0s 3ms/step - loss: 71.2260 - root_mean_squared_error: 8.4396 - val_loss: 45.3484 - val_root_mean_squared_error: 6.7341\n",
            "Epoch 160/200\n",
            "29/29 [==============================] - 0s 3ms/step - loss: 71.3424 - root_mean_squared_error: 8.4464 - val_loss: 45.4500 - val_root_mean_squared_error: 6.7417\n",
            "Epoch 161/200\n",
            "29/29 [==============================] - 0s 3ms/step - loss: 71.0660 - root_mean_squared_error: 8.4301 - val_loss: 45.3040 - val_root_mean_squared_error: 6.7308\n",
            "Epoch 162/200\n",
            "29/29 [==============================] - 0s 3ms/step - loss: 70.9007 - root_mean_squared_error: 8.4203 - val_loss: 46.3071 - val_root_mean_squared_error: 6.8049\n",
            "Epoch 163/200\n",
            "29/29 [==============================] - 0s 2ms/step - loss: 71.8454 - root_mean_squared_error: 8.4762 - val_loss: 47.4176 - val_root_mean_squared_error: 6.8860\n",
            "Epoch 164/200\n",
            "29/29 [==============================] - 0s 3ms/step - loss: 71.5728 - root_mean_squared_error: 8.4601 - val_loss: 47.6175 - val_root_mean_squared_error: 6.9005\n",
            "Epoch 165/200\n",
            "29/29 [==============================] - 0s 3ms/step - loss: 71.0132 - root_mean_squared_error: 8.4269 - val_loss: 48.0384 - val_root_mean_squared_error: 6.9310\n",
            "Epoch 166/200\n",
            "29/29 [==============================] - 0s 3ms/step - loss: 70.3485 - root_mean_squared_error: 8.3874 - val_loss: 45.1533 - val_root_mean_squared_error: 6.7196\n",
            "Epoch 167/200\n",
            "29/29 [==============================] - 0s 3ms/step - loss: 69.8198 - root_mean_squared_error: 8.3558 - val_loss: 46.0292 - val_root_mean_squared_error: 6.7845\n",
            "Epoch 168/200\n",
            "29/29 [==============================] - 0s 3ms/step - loss: 70.2181 - root_mean_squared_error: 8.3796 - val_loss: 44.4120 - val_root_mean_squared_error: 6.6642\n",
            "Epoch 169/200\n",
            "29/29 [==============================] - 0s 3ms/step - loss: 70.1083 - root_mean_squared_error: 8.3731 - val_loss: 46.8896 - val_root_mean_squared_error: 6.8476\n",
            "Epoch 170/200\n",
            "29/29 [==============================] - 0s 3ms/step - loss: 70.4756 - root_mean_squared_error: 8.3950 - val_loss: 45.0518 - val_root_mean_squared_error: 6.7121\n",
            "Epoch 171/200\n",
            "29/29 [==============================] - 0s 3ms/step - loss: 69.7088 - root_mean_squared_error: 8.3492 - val_loss: 47.2876 - val_root_mean_squared_error: 6.8766\n",
            "Epoch 172/200\n",
            "29/29 [==============================] - 0s 3ms/step - loss: 69.3514 - root_mean_squared_error: 8.3277 - val_loss: 46.8925 - val_root_mean_squared_error: 6.8478\n",
            "Epoch 173/200\n",
            "29/29 [==============================] - 0s 2ms/step - loss: 71.0326 - root_mean_squared_error: 8.4281 - val_loss: 47.4496 - val_root_mean_squared_error: 6.8884\n",
            "Epoch 174/200\n",
            "29/29 [==============================] - 0s 3ms/step - loss: 71.7106 - root_mean_squared_error: 8.4682 - val_loss: 47.9394 - val_root_mean_squared_error: 6.9238\n",
            "Epoch 175/200\n",
            "29/29 [==============================] - 0s 3ms/step - loss: 71.8038 - root_mean_squared_error: 8.4737 - val_loss: 47.2218 - val_root_mean_squared_error: 6.8718\n",
            "Epoch 176/200\n",
            "29/29 [==============================] - 0s 2ms/step - loss: 72.0063 - root_mean_squared_error: 8.4857 - val_loss: 46.6928 - val_root_mean_squared_error: 6.8332\n",
            "Epoch 177/200\n",
            "29/29 [==============================] - 0s 2ms/step - loss: 70.9092 - root_mean_squared_error: 8.4208 - val_loss: 51.2029 - val_root_mean_squared_error: 7.1556\n",
            "Epoch 178/200\n",
            "29/29 [==============================] - 0s 3ms/step - loss: 69.8117 - root_mean_squared_error: 8.3553 - val_loss: 46.5117 - val_root_mean_squared_error: 6.8200\n",
            "Epoch 179/200\n",
            "29/29 [==============================] - 0s 3ms/step - loss: 70.7333 - root_mean_squared_error: 8.4103 - val_loss: 47.4652 - val_root_mean_squared_error: 6.8895\n",
            "Epoch 180/200\n",
            "29/29 [==============================] - 0s 3ms/step - loss: 71.7786 - root_mean_squared_error: 8.4722 - val_loss: 47.4875 - val_root_mean_squared_error: 6.8911\n",
            "Epoch 181/200\n",
            "29/29 [==============================] - 0s 2ms/step - loss: 72.0657 - root_mean_squared_error: 8.4892 - val_loss: 47.4228 - val_root_mean_squared_error: 6.8864\n",
            "Epoch 182/200\n",
            "29/29 [==============================] - 0s 3ms/step - loss: 71.3318 - root_mean_squared_error: 8.4458 - val_loss: 47.3640 - val_root_mean_squared_error: 6.8821\n",
            "Epoch 183/200\n",
            "29/29 [==============================] - 0s 3ms/step - loss: 70.7187 - root_mean_squared_error: 8.4094 - val_loss: 46.7367 - val_root_mean_squared_error: 6.8364\n",
            "Epoch 184/200\n",
            "29/29 [==============================] - 0s 3ms/step - loss: 69.7396 - root_mean_squared_error: 8.3510 - val_loss: 48.0942 - val_root_mean_squared_error: 6.9350\n",
            "Epoch 185/200\n",
            "29/29 [==============================] - 0s 2ms/step - loss: 70.1196 - root_mean_squared_error: 8.3737 - val_loss: 49.3930 - val_root_mean_squared_error: 7.0280\n",
            "Epoch 186/200\n",
            "29/29 [==============================] - 0s 3ms/step - loss: 69.7097 - root_mean_squared_error: 8.3492 - val_loss: 43.3437 - val_root_mean_squared_error: 6.5836\n",
            "Epoch 187/200\n",
            "29/29 [==============================] - 0s 3ms/step - loss: 68.4721 - root_mean_squared_error: 8.2748 - val_loss: 44.8615 - val_root_mean_squared_error: 6.6979\n",
            "Epoch 188/200\n",
            "29/29 [==============================] - 0s 3ms/step - loss: 69.6439 - root_mean_squared_error: 8.3453 - val_loss: 45.5120 - val_root_mean_squared_error: 6.7463\n",
            "Epoch 189/200\n",
            "29/29 [==============================] - 0s 3ms/step - loss: 70.2427 - root_mean_squared_error: 8.3811 - val_loss: 44.0649 - val_root_mean_squared_error: 6.6381\n",
            "Epoch 190/200\n",
            "29/29 [==============================] - 0s 3ms/step - loss: 71.2532 - root_mean_squared_error: 8.4412 - val_loss: 45.6317 - val_root_mean_squared_error: 6.7551\n",
            "Epoch 191/200\n",
            "29/29 [==============================] - 0s 3ms/step - loss: 71.9720 - root_mean_squared_error: 8.4836 - val_loss: 44.4423 - val_root_mean_squared_error: 6.6665\n",
            "Epoch 192/200\n",
            "29/29 [==============================] - 0s 3ms/step - loss: 70.9043 - root_mean_squared_error: 8.4205 - val_loss: 48.2310 - val_root_mean_squared_error: 6.9449\n",
            "Epoch 193/200\n",
            "29/29 [==============================] - 0s 3ms/step - loss: 72.1042 - root_mean_squared_error: 8.4914 - val_loss: 44.4555 - val_root_mean_squared_error: 6.6675\n",
            "Epoch 194/200\n",
            "29/29 [==============================] - 0s 3ms/step - loss: 71.8975 - root_mean_squared_error: 8.4792 - val_loss: 44.4988 - val_root_mean_squared_error: 6.6707\n",
            "Epoch 195/200\n",
            "29/29 [==============================] - 0s 3ms/step - loss: 71.8406 - root_mean_squared_error: 8.4759 - val_loss: 44.5548 - val_root_mean_squared_error: 6.6749\n",
            "Epoch 196/200\n",
            "29/29 [==============================] - 0s 4ms/step - loss: 71.8341 - root_mean_squared_error: 8.4755 - val_loss: 44.5394 - val_root_mean_squared_error: 6.6738\n",
            "Epoch 197/200\n",
            "29/29 [==============================] - 0s 2ms/step - loss: 72.0621 - root_mean_squared_error: 8.4889 - val_loss: 44.4866 - val_root_mean_squared_error: 6.6698\n",
            "Epoch 198/200\n",
            "29/29 [==============================] - 0s 3ms/step - loss: 71.8835 - root_mean_squared_error: 8.4784 - val_loss: 44.6678 - val_root_mean_squared_error: 6.6834\n",
            "Epoch 199/200\n",
            "29/29 [==============================] - 0s 3ms/step - loss: 72.2415 - root_mean_squared_error: 8.4995 - val_loss: 44.5908 - val_root_mean_squared_error: 6.6776\n",
            "Epoch 200/200\n",
            "29/29 [==============================] - 0s 2ms/step - loss: 71.3107 - root_mean_squared_error: 8.4446 - val_loss: 45.7558 - val_root_mean_squared_error: 6.7643\n"
          ]
        }
      ]
    },
    {
      "cell_type": "code",
      "metadata": {
        "id": "sZ3IFY2hpcUe"
      },
      "source": [
        "print(result.history.keys())"
      ],
      "execution_count": null,
      "outputs": []
    },
    {
      "cell_type": "code",
      "metadata": {
        "id": "m_azPdNGpdmI"
      },
      "source": [
        "loss = result.history['loss']\n",
        "val_loss = result.history['val_loss']"
      ],
      "execution_count": 38,
      "outputs": []
    },
    {
      "cell_type": "code",
      "metadata": {
        "id": "FWS1Dmmidps7",
        "outputId": "cf2de286-2681-469b-9c73-9007fbdc863a",
        "colab": {
          "base_uri": "https://localhost:8080/",
          "height": 348
        }
      },
      "source": [
        "### loss와 val_loss를 그래프화\n",
        "epochs = range(1, len(loss) + 1)\n",
        "plt.subplot(211)  ## 2x1 개의 그래프 중에 1번째\n",
        "plt.plot(epochs, loss, 'b-', label='Training loss')\n",
        "plt.plot(epochs, val_loss, 'r', label='Validation loss')\n",
        "plt.title('Training and validation loss')\n",
        "plt.xlabel('Epochs')\n",
        "plt.ylabel('Loss')\n",
        "plt.legend()\n",
        "\n",
        "### history에서 mean_absolute_error val_mean_absolute_error key를 가지는 값들만 추출\n",
        "rmse = result.history['root_mean_squared_error']\n",
        "val_rmse = result.history['val_root_mean_squared_error']\n",
        "epochs = range(1, len(rmse) + 1)\n",
        "### mean_absolute_error val_mean_absolute_error key를 그래프화\n",
        "plt.subplot(212)  ## 2x1 개의 그래프 중에 2번째\n",
        "plt.plot(epochs, rmse, 'b-', label='Training rmse')\n",
        "plt.plot(epochs, val_rmse, 'r', label='Validation rmse')\n",
        "plt.title('Training and validation rmse')\n",
        "plt.xlabel('Epochs')\n",
        "plt.ylabel('rmse')\n",
        "plt.legend()\n",
        "\n",
        "print(\"\\n Test rmse: %.4f\" % (model.evaluate(x_test, y_test)[1]))\n",
        "\n",
        "plt.show()"
      ],
      "execution_count": 39,
      "outputs": [
        {
          "output_type": "stream",
          "name": "stdout",
          "text": [
            "5/5 [==============================] - 0s 2ms/step - loss: 74.6753 - root_mean_squared_error: 8.6415\n",
            "\n",
            " Test rmse: 8.6415\n"
          ]
        },
        {
          "output_type": "display_data",
          "data": {
            "image/png": "[encoded data removed]",
            "text/plain": [
              "<Figure size 432x288 with 2 Axes>"
            ]
          },
          "metadata": {
            "needs_background": "light"
          }
        }
      ]
    }
  ]
}