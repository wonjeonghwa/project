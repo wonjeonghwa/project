{
  "nbformat": 4,
  "nbformat_minor": 0,
  "metadata": {
    "colab": {
      "name": "9_29_teachable_rock_scissors_paper_answer.ipynb",
      "provenance": [],
      "collapsed_sections": [
        "f7nYSO2KCCb3"
      ]
    },
    "kernelspec": {
      "name": "python3",
      "display_name": "Python 3"
    },
    "language_info": {
      "name": "python"
    },
    "accelerator": "GPU"
  },
  "cells": [
    {
      "cell_type": "markdown",
      "metadata": {
        "id": "wPrvdLeGq393"
      },
      "source": [
        "## 가위바위보 분류기 만들기"
      ]
    },
    {
      "cell_type": "markdown",
      "metadata": {
        "id": "rQ8WUFfPq7F1"
      },
      "source": [
        "웹캠을 사용하여 데이터를 준비해봅시다!  \n",
        "\n",
        "1) 데이터 만들기\n",
        "노트북 전면 카메라를 활용하여 가위, 바위, 보 이미지를 각각 100장을 만들어봅시다.  \n",
        "\n",
        "- https://teachablemachine.withgoogle.com/\n",
        "\n",
        "2) 가위 이미지 데이터 만들기\n",
        "\n",
        "웹캠 앞에서 포즈를 가위 포즈를 취한 후, <Hold to Record>버튼을 누르면 이미지가 캡쳐됩니다. \n",
        "- 여러 각도에서 찍기\n",
        "- 여러 크기로 찍기\n",
        "- 배경이 깔끔할 수록 좋음 (단색배경)"
      ]
    },
    {
      "cell_type": "markdown",
      "metadata": {
        "id": "fbI_kQB7rxNe"
      },
      "source": [
        "![](https://d3s0tskafalll9.cloudfront.net/media/images/E-1-9.max-800x600.png)"
      ]
    },
    {
      "cell_type": "markdown",
      "metadata": {
        "id": "Yw--ok1tr0HE"
      },
      "source": [
        "![](https://d3s0tskafalll9.cloudfront.net/media/images/E-1-10.max-800x600.png)"
      ]
    },
    {
      "cell_type": "markdown",
      "metadata": {
        "id": "7yvNUimjr2w0"
      },
      "source": [
        "3) 100장의 가위 이미지를 캡쳐했다면, 우상단의 메뉴 아이콘을 눌러 다운로드 합니다."
      ]
    },
    {
      "cell_type": "markdown",
      "metadata": {
        "id": "7iVPWnVir8zr"
      },
      "source": [
        "![](https://d3s0tskafalll9.cloudfront.net/media/original_images/E-1-11.png)"
      ]
    },
    {
      "cell_type": "markdown",
      "metadata": {
        "id": "b0gdgc47r-7Q"
      },
      "source": [
        "4) 가위 이미지들을 \"scissor.zip\"이라는 파일 이름으로 본인 컴퓨터에 저장해봅시다.\n",
        "바위와 보 이미지들에 대해서도 위 과정을 진행해주세요!  \n",
        "(각각, \"rock.zip\", \"paper.zip\", 이름을 저장해주세요!)"
      ]
    },
    {
      "cell_type": "markdown",
      "metadata": {
        "id": "kSuV1TSxsaC2"
      },
      "source": [
        "- 이미지 예시  \n",
        "`ock_scissor_paper/paper` 폴더 내 이미지들은 아래와 같이 저장이 되어 있을 것입니다.\n",
        "\n"
      ]
    },
    {
      "cell_type": "markdown",
      "metadata": {
        "id": "TYsclz9GsY0K"
      },
      "source": [
        "![](https://d3s0tskafalll9.cloudfront.net/media/images/E-1-12.max-800x600.png)"
      ]
    },
    {
      "cell_type": "markdown",
      "metadata": {
        "id": "XKM9wCUVsg5c"
      },
      "source": [
        "5) 데이터불러오기 + Resize하기  \n",
        "\n",
        "숫자 손글씨의 경우 이미지 크기가 28x28 이었기 때문에, 우리의 가위, 바위, 보 이미지도 28x28로 만들어야 합니다. 이를 위해서는 PIL 라이브러리를 사용해봅시다"
      ]
    },
    {
      "cell_type": "code",
      "metadata": {
        "colab": {
          "base_uri": "https://localhost:8080/"
        },
        "id": "G3abZxcSo35g",
        "outputId": "fcc3f31b-8407-48d7-8f41-703350d63b33"
      },
      "source": [
        "## 구글 드라이브 마운트\n",
        "from google.colab import drive\n",
        "drive.mount('/content/drive', force_remount=True)"
      ],
      "execution_count": 3,
      "outputs": [
        {
          "output_type": "stream",
          "name": "stdout",
          "text": [
            "Mounted at /content/drive\n"
          ]
        }
      ]
    },
    {
      "cell_type": "code",
      "metadata": {
        "id": "rf0A3OtQpOQh"
      },
      "source": [
        "# ## 학습데이터.zip 업로드\n",
        "# from google.colab import files\n",
        "# file_uploaded = files.upload()"
      ],
      "execution_count": null,
      "outputs": []
    },
    {
      "cell_type": "code",
      "metadata": {
        "id": "P8f7n0WPpYUi",
        "colab": {
          "base_uri": "https://localhost:8080/"
        },
        "outputId": "7f1b721c-1e6e-4f60-a5bb-0ef2c5561570"
      },
      "source": [
        "# https://learn.akamai.com/en-us/webhelp/netstorage/netstorage-user-guide/GUID-80C7B749-F9BB-4271-A138-AEEED1070D11.html\n",
        "!unzip \"Class1-samples.zip\" -d \"./Class1-samples\" # 안에 있는 폴더 나옴\n",
        "\n",
        "#!unzip \"scissor.zip\" -d \"./scissor\"\n",
        "#!unzip \"paper.zip\" -d \"./paper\"\n",
        "#!unzip \"rock.zip\" -d \"./rock\""
      ],
      "execution_count": null,
      "outputs": [
        {
          "output_type": "stream",
          "name": "stdout",
          "text": [
            "unzip:  cannot find or open Class1-samples.zip, Class1-samples.zip.zip or Class1-samples.zip.ZIP.\n"
          ]
        }
      ]
    },
    {
      "cell_type": "code",
      "metadata": {
        "id": "8NT5-rhdCg7t"
      },
      "source": [
        "import os, glob\n",
        "\n",
        "import random\n",
        "\n",
        "import numpy as np\n",
        "import matplotlib.pyplot as plt\n",
        "\n",
        "from tqdm import tqdm\n",
        "from PIL import Image"
      ],
      "execution_count": 2,
      "outputs": []
    },
    {
      "cell_type": "code",
      "metadata": {
        "id": "lNJFZPdaXdSr"
      },
      "source": [
        "# def new_idxing(file_path):\n",
        "#     papers = glob.glob(file_path + \"/paper/*/*.jpg\")\n",
        "#     rocks = glob.glob(file_path + \"/rock/*/*.jpg\")\n",
        "#     scissors = glob.glob(file_path + \"/scissor/*/*.jpg\")\n",
        "#     p_size = len(papers)\n",
        "#     r_size = len(rocks)\n",
        "#     s_size = len(scissors)\n",
        "\n",
        "#     save_path = file_path + \"Papers/\"\n",
        "#     for i, img in tqdm(enumerate(papers)):\n",
        "#         image = Image.open(img)\n",
        "#         image.save(save_path + f\"{i}.jpg\", \"JPEG\")\n",
        "    \n",
        "#     save_path = file_path + \"Rocks/\"\n",
        "#     for i, img in tqdm(enumerate(rocks)):\n",
        "#         image = Image.open(img)\n",
        "#         image.save(save_path + f\"{i}.jpg\", \"JPEG\")\n",
        "\n",
        "#     save_path = file_path + \"Scissiors/\"\n",
        "#     for i, img in tqdm(enumerate(scissors)):\n",
        "#         image = Image.open(img)\n",
        "#         image.save(save_path + f\"{i}.jpg\", \"JPEG\")\n",
        "\n",
        "# file_path = '/content/drive/MyDrive/data/rsp2/'\n",
        "# new_idxing(file_path)"
      ],
      "execution_count": 15,
      "outputs": []
    },
    {
      "cell_type": "code",
      "metadata": {
        "id": "e3I6HypEm85h"
      },
      "source": [
        "def resize_images(img_path):  # 224 x 224 -> 28 x 28\t\n",
        "\timages=glob.glob(img_path + \"/*/*.jpg\")\n",
        "\tprint(len(images), \" images to be resized.\")\n",
        "\t\n",
        "\t# 파일마다 모두 28x28 사이즈로 바꾸어 저장합니다.\n",
        "\ttarget_size=(28,28)\n",
        "\tfor img in tqdm(images):\n",
        "\t\told_img=Image.open(img)\n",
        "\t\tnew_img=old_img.resize(target_size,Image.ANTIALIAS)\n",
        "\t\tnew_img.save(img, \"JPEG\")\n",
        "\t\t\n",
        "\tprint(len(images), f\" images resized.\")"
      ],
      "execution_count": 6,
      "outputs": []
    },
    {
      "cell_type": "code",
      "metadata": {
        "id": "iKuuyF72_mA7",
        "colab": {
          "base_uri": "https://localhost:8080/"
        },
        "outputId": "fd304a85-0c59-4984-8dc1-ffaa7dea9e7e"
      },
      "source": [
        "image_dir_path = '/content/drive/MyDrive/data/rsp'\n",
        "glob.iglob(image_dir_path + '/*/*.jpg')\n",
        "glob.glob(image_dir_path + '/*/*.jpg')"
      ],
      "execution_count": 39,
      "outputs": [
        {
          "output_type": "execute_result",
          "data": {
            "text/plain": [
              "['/content/drive/MyDrive/data/rsp/rock/15.jpg',\n",
              " '/content/drive/MyDrive/data/rsp/rock/71.jpg',\n",
              " '/content/drive/MyDrive/data/rsp/rock/61.jpg',\n",
              " '/content/drive/MyDrive/data/rsp/rock/8.jpg',\n",
              " '/content/drive/MyDrive/data/rsp/rock/70.jpg',\n",
              " '/content/drive/MyDrive/data/rsp/rock/59.jpg',\n",
              " '/content/drive/MyDrive/data/rsp/rock/75.jpg',\n",
              " '/content/drive/MyDrive/data/rsp/rock/66.jpg',\n",
              " '/content/drive/MyDrive/data/rsp/rock/58.jpg',\n",
              " '/content/drive/MyDrive/data/rsp/rock/64.jpg',\n",
              " '/content/drive/MyDrive/data/rsp/rock/65.jpg',\n",
              " '/content/drive/MyDrive/data/rsp/rock/49.jpg',\n",
              " '/content/drive/MyDrive/data/rsp/rock/60.jpg',\n",
              " '/content/drive/MyDrive/data/rsp/rock/62.jpg',\n",
              " '/content/drive/MyDrive/data/rsp/rock/88.jpg',\n",
              " '/content/drive/MyDrive/data/rsp/rock/76.jpg',\n",
              " '/content/drive/MyDrive/data/rsp/rock/74.jpg',\n",
              " '/content/drive/MyDrive/data/rsp/rock/89.jpg',\n",
              " '/content/drive/MyDrive/data/rsp/rock/63.jpg',\n",
              " '/content/drive/MyDrive/data/rsp/rock/77.jpg',\n",
              " '/content/drive/MyDrive/data/rsp/rock/48.jpg',\n",
              " '/content/drive/MyDrive/data/rsp/rock/24.jpg',\n",
              " '/content/drive/MyDrive/data/rsp/rock/31.jpg',\n",
              " '/content/drive/MyDrive/data/rsp/rock/22.jpg',\n",
              " '/content/drive/MyDrive/data/rsp/rock/42.jpg',\n",
              " '/content/drive/MyDrive/data/rsp/rock/32.jpg',\n",
              " '/content/drive/MyDrive/data/rsp/rock/18.jpg',\n",
              " '/content/drive/MyDrive/data/rsp/rock/23.jpg',\n",
              " '/content/drive/MyDrive/data/rsp/rock/37.jpg',\n",
              " '/content/drive/MyDrive/data/rsp/rock/81.jpg',\n",
              " '/content/drive/MyDrive/data/rsp/rock/33.jpg',\n",
              " '/content/drive/MyDrive/data/rsp/rock/36.jpg',\n",
              " '/content/drive/MyDrive/data/rsp/rock/21.jpg',\n",
              " '/content/drive/MyDrive/data/rsp/rock/34.jpg',\n",
              " '/content/drive/MyDrive/data/rsp/rock/27.jpg',\n",
              " '/content/drive/MyDrive/data/rsp/rock/35.jpg',\n",
              " '/content/drive/MyDrive/data/rsp/rock/20.jpg',\n",
              " '/content/drive/MyDrive/data/rsp/rock/13.jpg',\n",
              " '/content/drive/MyDrive/data/rsp/rock/38.jpg',\n",
              " '/content/drive/MyDrive/data/rsp/rock/39.jpg',\n",
              " '/content/drive/MyDrive/data/rsp/rock/12.jpg',\n",
              " '/content/drive/MyDrive/data/rsp/rock/11.jpg',\n",
              " '/content/drive/MyDrive/data/rsp/rock/67.jpg',\n",
              " '/content/drive/MyDrive/data/rsp/rock/10.jpg',\n",
              " '/content/drive/MyDrive/data/rsp/rock/16.jpg',\n",
              " '/content/drive/MyDrive/data/rsp/rock/28.jpg',\n",
              " '/content/drive/MyDrive/data/rsp/rock/73.jpg',\n",
              " '/content/drive/MyDrive/data/rsp/rock/14.jpg',\n",
              " '/content/drive/MyDrive/data/rsp/rock/72.jpg',\n",
              " '/content/drive/MyDrive/data/rsp/rock/17.jpg',\n",
              " '/content/drive/MyDrive/data/rsp/rock/29.jpg',\n",
              " '/content/drive/MyDrive/data/rsp/rock/99.jpg',\n",
              " '/content/drive/MyDrive/data/rsp/rock/98.jpg',\n",
              " '/content/drive/MyDrive/data/rsp/rock/85.jpg',\n",
              " '/content/drive/MyDrive/data/rsp/rock/51.jpg',\n",
              " '/content/drive/MyDrive/data/rsp/rock/9.jpg',\n",
              " '/content/drive/MyDrive/data/rsp/rock/45.jpg',\n",
              " '/content/drive/MyDrive/data/rsp/rock/79.jpg',\n",
              " '/content/drive/MyDrive/data/rsp/rock/86.jpg',\n",
              " '/content/drive/MyDrive/data/rsp/rock/93.jpg',\n",
              " '/content/drive/MyDrive/data/rsp/rock/92.jpg',\n",
              " '/content/drive/MyDrive/data/rsp/rock/3.jpg',\n",
              " '/content/drive/MyDrive/data/rsp/rock/87.jpg',\n",
              " '/content/drive/MyDrive/data/rsp/rock/44.jpg',\n",
              " '/content/drive/MyDrive/data/rsp/rock/50.jpg',\n",
              " '/content/drive/MyDrive/data/rsp/rock/54.jpg',\n",
              " '/content/drive/MyDrive/data/rsp/rock/68.jpg',\n",
              " '/content/drive/MyDrive/data/rsp/rock/2.jpg',\n",
              " '/content/drive/MyDrive/data/rsp/rock/26.jpg',\n",
              " '/content/drive/MyDrive/data/rsp/rock/6.jpg',\n",
              " '/content/drive/MyDrive/data/rsp/rock/78.jpg',\n",
              " '/content/drive/MyDrive/data/rsp/rock/40.jpg',\n",
              " '/content/drive/MyDrive/data/rsp/rock/96.jpg',\n",
              " '/content/drive/MyDrive/data/rsp/rock/83.jpg',\n",
              " '/content/drive/MyDrive/data/rsp/rock/43.jpg',\n",
              " '/content/drive/MyDrive/data/rsp/rock/82.jpg',\n",
              " '/content/drive/MyDrive/data/rsp/rock/97.jpg',\n",
              " '/content/drive/MyDrive/data/rsp/rock/7.jpg',\n",
              " '/content/drive/MyDrive/data/rsp/rock/41.jpg',\n",
              " '/content/drive/MyDrive/data/rsp/rock/5.jpg',\n",
              " '/content/drive/MyDrive/data/rsp/rock/57.jpg',\n",
              " '/content/drive/MyDrive/data/rsp/rock/94.jpg',\n",
              " '/content/drive/MyDrive/data/rsp/rock/69.jpg',\n",
              " '/content/drive/MyDrive/data/rsp/rock/95.jpg',\n",
              " '/content/drive/MyDrive/data/rsp/rock/55.jpg',\n",
              " '/content/drive/MyDrive/data/rsp/rock/30.jpg',\n",
              " '/content/drive/MyDrive/data/rsp/rock/19.jpg',\n",
              " '/content/drive/MyDrive/data/rsp/rock/80.jpg',\n",
              " '/content/drive/MyDrive/data/rsp/rock/56.jpg',\n",
              " '/content/drive/MyDrive/data/rsp/rock/4.jpg',\n",
              " '/content/drive/MyDrive/data/rsp/rock/25.jpg',\n",
              " '/content/drive/MyDrive/data/rsp/rock/90.jpg',\n",
              " '/content/drive/MyDrive/data/rsp/rock/46.jpg',\n",
              " '/content/drive/MyDrive/data/rsp/rock/0.jpg',\n",
              " '/content/drive/MyDrive/data/rsp/rock/52.jpg',\n",
              " '/content/drive/MyDrive/data/rsp/rock/91.jpg',\n",
              " '/content/drive/MyDrive/data/rsp/rock/1.jpg',\n",
              " '/content/drive/MyDrive/data/rsp/rock/84.jpg',\n",
              " '/content/drive/MyDrive/data/rsp/rock/53.jpg',\n",
              " '/content/drive/MyDrive/data/rsp/rock/47.jpg',\n",
              " '/content/drive/MyDrive/data/rsp/paper/29.jpg',\n",
              " '/content/drive/MyDrive/data/rsp/paper/99.jpg',\n",
              " '/content/drive/MyDrive/data/rsp/paper/15.jpg',\n",
              " '/content/drive/MyDrive/data/rsp/paper/28.jpg',\n",
              " '/content/drive/MyDrive/data/rsp/paper/14.jpg',\n",
              " '/content/drive/MyDrive/data/rsp/paper/98.jpg',\n",
              " '/content/drive/MyDrive/data/rsp/paper/67.jpg',\n",
              " '/content/drive/MyDrive/data/rsp/paper/9.jpg',\n",
              " '/content/drive/MyDrive/data/rsp/paper/73.jpg',\n",
              " '/content/drive/MyDrive/data/rsp/paper/72.jpg',\n",
              " '/content/drive/MyDrive/data/rsp/paper/8.jpg',\n",
              " '/content/drive/MyDrive/data/rsp/paper/70.jpg',\n",
              " '/content/drive/MyDrive/data/rsp/paper/75.jpg',\n",
              " '/content/drive/MyDrive/data/rsp/paper/65.jpg',\n",
              " '/content/drive/MyDrive/data/rsp/paper/64.jpg',\n",
              " '/content/drive/MyDrive/data/rsp/paper/66.jpg',\n",
              " '/content/drive/MyDrive/data/rsp/paper/59.jpg',\n",
              " '/content/drive/MyDrive/data/rsp/paper/71.jpg',\n",
              " '/content/drive/MyDrive/data/rsp/paper/74.jpg',\n",
              " '/content/drive/MyDrive/data/rsp/paper/61.jpg',\n",
              " '/content/drive/MyDrive/data/rsp/paper/60.jpg',\n",
              " '/content/drive/MyDrive/data/rsp/paper/48.jpg',\n",
              " '/content/drive/MyDrive/data/rsp/paper/89.jpg',\n",
              " '/content/drive/MyDrive/data/rsp/paper/62.jpg',\n",
              " '/content/drive/MyDrive/data/rsp/paper/58.jpg',\n",
              " '/content/drive/MyDrive/data/rsp/paper/77.jpg',\n",
              " '/content/drive/MyDrive/data/rsp/paper/49.jpg',\n",
              " '/content/drive/MyDrive/data/rsp/paper/76.jpg',\n",
              " '/content/drive/MyDrive/data/rsp/paper/41.jpg',\n",
              " '/content/drive/MyDrive/data/rsp/paper/63.jpg',\n",
              " '/content/drive/MyDrive/data/rsp/paper/88.jpg',\n",
              " '/content/drive/MyDrive/data/rsp/paper/95.jpg',\n",
              " '/content/drive/MyDrive/data/rsp/paper/5.jpg',\n",
              " '/content/drive/MyDrive/data/rsp/paper/69.jpg',\n",
              " '/content/drive/MyDrive/data/rsp/paper/55.jpg',\n",
              " '/content/drive/MyDrive/data/rsp/paper/94.jpg',\n",
              " '/content/drive/MyDrive/data/rsp/paper/7.jpg',\n",
              " '/content/drive/MyDrive/data/rsp/paper/43.jpg',\n",
              " '/content/drive/MyDrive/data/rsp/paper/80.jpg',\n",
              " '/content/drive/MyDrive/data/rsp/paper/24.jpg',\n",
              " '/content/drive/MyDrive/data/rsp/paper/57.jpg',\n",
              " '/content/drive/MyDrive/data/rsp/paper/19.jpg',\n",
              " '/content/drive/MyDrive/data/rsp/paper/31.jpg',\n",
              " '/content/drive/MyDrive/data/rsp/paper/4.jpg',\n",
              " '/content/drive/MyDrive/data/rsp/paper/25.jpg',\n",
              " '/content/drive/MyDrive/data/rsp/paper/81.jpg',\n",
              " '/content/drive/MyDrive/data/rsp/paper/42.jpg',\n",
              " '/content/drive/MyDrive/data/rsp/paper/30.jpg',\n",
              " '/content/drive/MyDrive/data/rsp/paper/20.jpg',\n",
              " '/content/drive/MyDrive/data/rsp/paper/56.jpg',\n",
              " '/content/drive/MyDrive/data/rsp/paper/18.jpg',\n",
              " '/content/drive/MyDrive/data/rsp/paper/34.jpg',\n",
              " '/content/drive/MyDrive/data/rsp/paper/32.jpg',\n",
              " '/content/drive/MyDrive/data/rsp/paper/27.jpg',\n",
              " '/content/drive/MyDrive/data/rsp/paper/26.jpg',\n",
              " '/content/drive/MyDrive/data/rsp/paper/36.jpg',\n",
              " '/content/drive/MyDrive/data/rsp/paper/37.jpg',\n",
              " '/content/drive/MyDrive/data/rsp/paper/23.jpg',\n",
              " '/content/drive/MyDrive/data/rsp/paper/21.jpg',\n",
              " '/content/drive/MyDrive/data/rsp/paper/33.jpg',\n",
              " '/content/drive/MyDrive/data/rsp/paper/22.jpg',\n",
              " '/content/drive/MyDrive/data/rsp/paper/10.jpg',\n",
              " '/content/drive/MyDrive/data/rsp/paper/39.jpg',\n",
              " '/content/drive/MyDrive/data/rsp/paper/38.jpg',\n",
              " '/content/drive/MyDrive/data/rsp/paper/11.jpg',\n",
              " '/content/drive/MyDrive/data/rsp/paper/12.jpg',\n",
              " '/content/drive/MyDrive/data/rsp/paper/17.jpg',\n",
              " '/content/drive/MyDrive/data/rsp/paper/13.jpg',\n",
              " '/content/drive/MyDrive/data/rsp/paper/16.jpg',\n",
              " '/content/drive/MyDrive/data/rsp/paper/35.jpg',\n",
              " '/content/drive/MyDrive/data/rsp/paper/0.jpg',\n",
              " '/content/drive/MyDrive/data/rsp/paper/52.jpg',\n",
              " '/content/drive/MyDrive/data/rsp/paper/90.jpg',\n",
              " '/content/drive/MyDrive/data/rsp/paper/91.jpg',\n",
              " '/content/drive/MyDrive/data/rsp/paper/1.jpg',\n",
              " '/content/drive/MyDrive/data/rsp/paper/46.jpg',\n",
              " '/content/drive/MyDrive/data/rsp/paper/53.jpg',\n",
              " '/content/drive/MyDrive/data/rsp/paper/47.jpg',\n",
              " '/content/drive/MyDrive/data/rsp/paper/85.jpg',\n",
              " '/content/drive/MyDrive/data/rsp/paper/45.jpg',\n",
              " '/content/drive/MyDrive/data/rsp/paper/84.jpg',\n",
              " '/content/drive/MyDrive/data/rsp/paper/87.jpg',\n",
              " '/content/drive/MyDrive/data/rsp/paper/44.jpg',\n",
              " '/content/drive/MyDrive/data/rsp/paper/51.jpg',\n",
              " '/content/drive/MyDrive/data/rsp/paper/93.jpg',\n",
              " '/content/drive/MyDrive/data/rsp/paper/92.jpg',\n",
              " '/content/drive/MyDrive/data/rsp/paper/3.jpg',\n",
              " '/content/drive/MyDrive/data/rsp/paper/50.jpg',\n",
              " '/content/drive/MyDrive/data/rsp/paper/79.jpg',\n",
              " '/content/drive/MyDrive/data/rsp/paper/2.jpg',\n",
              " '/content/drive/MyDrive/data/rsp/paper/86.jpg',\n",
              " '/content/drive/MyDrive/data/rsp/paper/6.jpg',\n",
              " '/content/drive/MyDrive/data/rsp/paper/68.jpg',\n",
              " '/content/drive/MyDrive/data/rsp/paper/78.jpg',\n",
              " '/content/drive/MyDrive/data/rsp/paper/97.jpg',\n",
              " '/content/drive/MyDrive/data/rsp/paper/54.jpg',\n",
              " '/content/drive/MyDrive/data/rsp/paper/96.jpg',\n",
              " '/content/drive/MyDrive/data/rsp/paper/82.jpg',\n",
              " '/content/drive/MyDrive/data/rsp/paper/83.jpg',\n",
              " '/content/drive/MyDrive/data/rsp/paper/40.jpg',\n",
              " '/content/drive/MyDrive/data/rsp/scissor/49.jpg',\n",
              " '/content/drive/MyDrive/data/rsp/scissor/48.jpg',\n",
              " '/content/drive/MyDrive/data/rsp/scissor/62.jpg',\n",
              " '/content/drive/MyDrive/data/rsp/scissor/60.jpg',\n",
              " '/content/drive/MyDrive/data/rsp/scissor/74.jpg',\n",
              " '/content/drive/MyDrive/data/rsp/scissor/76.jpg',\n",
              " '/content/drive/MyDrive/data/rsp/scissor/77.jpg',\n",
              " '/content/drive/MyDrive/data/rsp/scissor/88.jpg',\n",
              " '/content/drive/MyDrive/data/rsp/scissor/89.jpg',\n",
              " '/content/drive/MyDrive/data/rsp/scissor/63.jpg',\n",
              " '/content/drive/MyDrive/data/rsp/scissor/32.jpg',\n",
              " '/content/drive/MyDrive/data/rsp/scissor/22.jpg',\n",
              " '/content/drive/MyDrive/data/rsp/scissor/26.jpg',\n",
              " '/content/drive/MyDrive/data/rsp/scissor/36.jpg',\n",
              " '/content/drive/MyDrive/data/rsp/scissor/8.jpg',\n",
              " '/content/drive/MyDrive/data/rsp/scissor/27.jpg',\n",
              " '/content/drive/MyDrive/data/rsp/scissor/34.jpg',\n",
              " '/content/drive/MyDrive/data/rsp/scissor/37.jpg',\n",
              " '/content/drive/MyDrive/data/rsp/scissor/38.jpg',\n",
              " '/content/drive/MyDrive/data/rsp/scissor/10.jpg',\n",
              " '/content/drive/MyDrive/data/rsp/scissor/21.jpg',\n",
              " '/content/drive/MyDrive/data/rsp/scissor/13.jpg',\n",
              " '/content/drive/MyDrive/data/rsp/scissor/35.jpg',\n",
              " '/content/drive/MyDrive/data/rsp/scissor/16.jpg',\n",
              " '/content/drive/MyDrive/data/rsp/scissor/17.jpg',\n",
              " '/content/drive/MyDrive/data/rsp/scissor/11.jpg',\n",
              " '/content/drive/MyDrive/data/rsp/scissor/12.jpg',\n",
              " '/content/drive/MyDrive/data/rsp/scissor/99.jpg',\n",
              " '/content/drive/MyDrive/data/rsp/scissor/39.jpg',\n",
              " '/content/drive/MyDrive/data/rsp/scissor/29.jpg',\n",
              " '/content/drive/MyDrive/data/rsp/scissor/73.jpg',\n",
              " '/content/drive/MyDrive/data/rsp/scissor/28.jpg',\n",
              " '/content/drive/MyDrive/data/rsp/scissor/9.jpg',\n",
              " '/content/drive/MyDrive/data/rsp/scissor/98.jpg',\n",
              " '/content/drive/MyDrive/data/rsp/scissor/72.jpg',\n",
              " '/content/drive/MyDrive/data/rsp/scissor/67.jpg',\n",
              " '/content/drive/MyDrive/data/rsp/scissor/15.jpg',\n",
              " '/content/drive/MyDrive/data/rsp/scissor/14.jpg',\n",
              " '/content/drive/MyDrive/data/rsp/scissor/65.jpg',\n",
              " '/content/drive/MyDrive/data/rsp/scissor/70.jpg',\n",
              " '/content/drive/MyDrive/data/rsp/scissor/61.jpg',\n",
              " '/content/drive/MyDrive/data/rsp/scissor/64.jpg',\n",
              " '/content/drive/MyDrive/data/rsp/scissor/58.jpg',\n",
              " '/content/drive/MyDrive/data/rsp/scissor/75.jpg',\n",
              " '/content/drive/MyDrive/data/rsp/scissor/66.jpg',\n",
              " '/content/drive/MyDrive/data/rsp/scissor/59.jpg',\n",
              " '/content/drive/MyDrive/data/rsp/scissor/71.jpg',\n",
              " '/content/drive/MyDrive/data/rsp/scissor/2.jpg',\n",
              " '/content/drive/MyDrive/data/rsp/scissor/50.jpg',\n",
              " '/content/drive/MyDrive/data/rsp/scissor/68.jpg',\n",
              " '/content/drive/MyDrive/data/rsp/scissor/78.jpg',\n",
              " '/content/drive/MyDrive/data/rsp/scissor/97.jpg',\n",
              " '/content/drive/MyDrive/data/rsp/scissor/96.jpg',\n",
              " '/content/drive/MyDrive/data/rsp/scissor/40.jpg',\n",
              " '/content/drive/MyDrive/data/rsp/scissor/82.jpg',\n",
              " '/content/drive/MyDrive/data/rsp/scissor/83.jpg',\n",
              " '/content/drive/MyDrive/data/rsp/scissor/6.jpg',\n",
              " '/content/drive/MyDrive/data/rsp/scissor/54.jpg',\n",
              " '/content/drive/MyDrive/data/rsp/scissor/41.jpg',\n",
              " '/content/drive/MyDrive/data/rsp/scissor/69.jpg',\n",
              " '/content/drive/MyDrive/data/rsp/scissor/7.jpg',\n",
              " '/content/drive/MyDrive/data/rsp/scissor/43.jpg',\n",
              " '/content/drive/MyDrive/data/rsp/scissor/55.jpg',\n",
              " '/content/drive/MyDrive/data/rsp/scissor/57.jpg',\n",
              " '/content/drive/MyDrive/data/rsp/scissor/80.jpg',\n",
              " '/content/drive/MyDrive/data/rsp/scissor/95.jpg',\n",
              " '/content/drive/MyDrive/data/rsp/scissor/5.jpg',\n",
              " '/content/drive/MyDrive/data/rsp/scissor/94.jpg',\n",
              " '/content/drive/MyDrive/data/rsp/scissor/30.jpg',\n",
              " '/content/drive/MyDrive/data/rsp/scissor/24.jpg',\n",
              " '/content/drive/MyDrive/data/rsp/scissor/31.jpg',\n",
              " '/content/drive/MyDrive/data/rsp/scissor/42.jpg',\n",
              " '/content/drive/MyDrive/data/rsp/scissor/81.jpg',\n",
              " '/content/drive/MyDrive/data/rsp/scissor/4.jpg',\n",
              " '/content/drive/MyDrive/data/rsp/scissor/25.jpg',\n",
              " '/content/drive/MyDrive/data/rsp/scissor/19.jpg',\n",
              " '/content/drive/MyDrive/data/rsp/scissor/56.jpg',\n",
              " '/content/drive/MyDrive/data/rsp/scissor/18.jpg',\n",
              " '/content/drive/MyDrive/data/rsp/scissor/33.jpg',\n",
              " '/content/drive/MyDrive/data/rsp/scissor/20.jpg',\n",
              " '/content/drive/MyDrive/data/rsp/scissor/23.jpg',\n",
              " '/content/drive/MyDrive/data/rsp/scissor/0.jpg',\n",
              " '/content/drive/MyDrive/data/rsp/scissor/46.jpg',\n",
              " '/content/drive/MyDrive/data/rsp/scissor/1.jpg',\n",
              " '/content/drive/MyDrive/data/rsp/scissor/84.jpg',\n",
              " '/content/drive/MyDrive/data/rsp/scissor/52.jpg',\n",
              " '/content/drive/MyDrive/data/rsp/scissor/47.jpg',\n",
              " '/content/drive/MyDrive/data/rsp/scissor/85.jpg',\n",
              " '/content/drive/MyDrive/data/rsp/scissor/91.jpg',\n",
              " '/content/drive/MyDrive/data/rsp/scissor/90.jpg',\n",
              " '/content/drive/MyDrive/data/rsp/scissor/53.jpg',\n",
              " '/content/drive/MyDrive/data/rsp/scissor/92.jpg',\n",
              " '/content/drive/MyDrive/data/rsp/scissor/51.jpg',\n",
              " '/content/drive/MyDrive/data/rsp/scissor/79.jpg',\n",
              " '/content/drive/MyDrive/data/rsp/scissor/3.jpg',\n",
              " '/content/drive/MyDrive/data/rsp/scissor/45.jpg',\n",
              " '/content/drive/MyDrive/data/rsp/scissor/86.jpg',\n",
              " '/content/drive/MyDrive/data/rsp/scissor/87.jpg',\n",
              " '/content/drive/MyDrive/data/rsp/scissor/44.jpg',\n",
              " '/content/drive/MyDrive/data/rsp/scissor/93.jpg']"
            ]
          },
          "metadata": {},
          "execution_count": 39
        }
      ]
    },
    {
      "cell_type": "code",
      "metadata": {
        "colab": {
          "base_uri": "https://localhost:8080/"
        },
        "id": "QHkkJlTco61a",
        "outputId": "3ae758d3-643d-40d3-9866-cc9fff7d869c"
      },
      "source": [
        "# 이미지가 저장된 디렉토리 아래의 모든 jpg 파일을 읽어들여서\n",
        "resize_images(image_dir_path)"
      ],
      "execution_count": 8,
      "outputs": [
        {
          "output_type": "stream",
          "name": "stdout",
          "text": [
            "300  images to be resized.\n"
          ]
        },
        {
          "output_type": "stream",
          "name": "stderr",
          "text": [
            "100%|██████████| 300/300 [01:04<00:00,  4.62it/s]"
          ]
        },
        {
          "output_type": "stream",
          "name": "stdout",
          "text": [
            "300  images resized.\n"
          ]
        },
        {
          "output_type": "stream",
          "name": "stderr",
          "text": [
            "\n"
          ]
        }
      ]
    },
    {
      "cell_type": "code",
      "metadata": {
        "colab": {
          "base_uri": "https://localhost:8080/"
        },
        "id": "MV5B2u8lpAWo",
        "outputId": "6762e1b1-e73a-4643-8bba-6bd851afd750"
      },
      "source": [
        "def load_data(img_path, number_of_data=300):  # 가위바위보 이미지 개수 총합에 주의하세요.\n",
        "    # 가위 : 0, 바위 : 1, 보 : 2\n",
        "    img_size=28\n",
        "    color=3\n",
        "\n",
        "    #이미지 데이터와 라벨(가위 : 0, 바위 : 1, 보 : 2) 데이터를 담을 행렬(matrix) 영역을 생성합니다.\n",
        "     \n",
        "    imgs=np.zeros(number_of_data*img_size*img_size*color, dtype=np.int32).\\\n",
        "                                reshape(number_of_data,img_size,img_size,color)\n",
        "    labels=np.zeros(number_of_data,dtype=np.int32)\n",
        "\n",
        "    idx=0\n",
        "    for file in glob.iglob(img_path+'/scissor/*.jpg'):\n",
        "        img = np.array(Image.open(file),dtype=np.int32)\n",
        "        imgs[idx,:,:,:]=img    # 데이터 영역에 이미지 행렬을 복사\n",
        "        labels[idx]=0   # 가위 : 0\n",
        "        idx=idx+1\n",
        "\n",
        "    for file in glob.iglob(img_path+'/rock/*.jpg'):\n",
        "        img = np.array(Image.open(file),dtype=np.int32)\n",
        "        imgs[idx,:,:,:]=img    # 데이터 영역에 이미지 행렬을 복사\n",
        "        labels[idx]=1   # 바위 : 1\n",
        "        idx=idx+1  \n",
        "    \n",
        "    for file in glob.iglob(img_path+'/paper/*.jpg'):\n",
        "        img = np.array(Image.open(file),dtype=np.int32)\n",
        "        imgs[idx,:,:,:]=img    # 데이터 영역에 이미지 행렬을 복사\n",
        "        labels[idx]=2   # 보 : 2\n",
        "        idx=idx+1\n",
        "        \n",
        "    print(\"총 이미지 개수는\", idx,\"입니다.\")\n",
        "    return imgs, labels\n",
        "\n",
        "image_dir_path = \"./srp\"\n",
        "(x_data, y_data)=load_data(image_dir_path)\n",
        "x_train_norm = x_data/255.0   # 입력은 0~1 사이의 값으로 정규화\n",
        "\n",
        "print(\"x_train shape: {}\".format(x_data.shape))\n",
        "print(\"y_train shape: {}\".format(y_data.shape))"
      ],
      "execution_count": 16,
      "outputs": [
        {
          "output_type": "stream",
          "name": "stdout",
          "text": [
            "총 이미지 개수는 300 입니다.\n",
            "x_train shape: (300, 28, 28, 3)\n",
            "y_train shape: (300,)\n"
          ]
        }
      ]
    },
    {
      "cell_type": "code",
      "metadata": {
        "colab": {
          "base_uri": "https://localhost:8080/"
        },
        "id": "Rth-KpnX4Haj",
        "outputId": "a6e597e6-1b00-4ea0-df9c-8f7d02666c07"
      },
      "source": [
        "glob.glob(\"패스\")"
      ],
      "execution_count": 33,
      "outputs": [
        {
          "output_type": "execute_result",
          "data": {
            "text/plain": [
              "[]"
            ]
          },
          "metadata": {},
          "execution_count": 33
        }
      ]
    },
    {
      "cell_type": "markdown",
      "metadata": {
        "id": "f7nYSO2KCCb3"
      },
      "source": [
        "### Image => numpy"
      ]
    },
    {
      "cell_type": "code",
      "metadata": {
        "colab": {
          "base_uri": "https://localhost:8080/",
          "height": 45
        },
        "id": "DCV9fDtHB7PY",
        "outputId": "4f7b62b3-53f8-4fc8-ad26-03111f9df47e"
      },
      "source": [
        "Image.open('/content/drive/MyDrive/data/rsp/rock/15.jpg')"
      ],
      "execution_count": 17,
      "outputs": [
        {
          "output_type": "execute_result",
          "data": {
            "image/png": "[encoded data removed]",
            "text/plain": [
              "<PIL.JpegImagePlugin.JpegImageFile image mode=RGB size=28x28 at 0x7FF760427510>"
            ]
          },
          "metadata": {},
          "execution_count": 17
        }
      ]
    },
    {
      "cell_type": "code",
      "metadata": {
        "colab": {
          "base_uri": "https://localhost:8080/"
        },
        "id": "v4bWZnOiCBuF",
        "outputId": "61e4c6ba-db4b-47ba-a095-30915b6522c3"
      },
      "source": [
        "np.array(Image.open('/content/drive/MyDrive/data/rsp/rock/15.jpg'))"
      ],
      "execution_count": 18,
      "outputs": [
        {
          "output_type": "execute_result",
          "data": {
            "text/plain": [
              "array([[[ 91,  71,  47],\n",
              "        [ 91,  71,  47],\n",
              "        [ 90,  70,  46],\n",
              "        ...,\n",
              "        [103,  87,  62],\n",
              "        [102,  86,  63],\n",
              "        [100,  84,  61]],\n",
              "\n",
              "       [[ 89,  69,  45],\n",
              "        [ 88,  68,  44],\n",
              "        [ 88,  67,  46],\n",
              "        ...,\n",
              "        [101,  85,  62],\n",
              "        [100,  84,  61],\n",
              "        [ 99,  83,  60]],\n",
              "\n",
              "       [[ 85,  64,  43],\n",
              "        [ 85,  64,  43],\n",
              "        [ 83,  65,  43],\n",
              "        ...,\n",
              "        [ 98,  82,  59],\n",
              "        [ 97,  81,  58],\n",
              "        [ 96,  79,  59]],\n",
              "\n",
              "       ...,\n",
              "\n",
              "       [[255, 245, 243],\n",
              "        [255, 245, 243],\n",
              "        [255, 249, 247],\n",
              "        ...,\n",
              "        [106,  93,  84],\n",
              "        [ 96,  81,  74],\n",
              "        [ 89,  74,  67]],\n",
              "\n",
              "       [[240, 238, 239],\n",
              "        [239, 237, 238],\n",
              "        [239, 237, 240],\n",
              "        ...,\n",
              "        [106,  93,  85],\n",
              "        [ 97,  84,  78],\n",
              "        [ 93,  78,  73]],\n",
              "\n",
              "       [[243, 247, 248],\n",
              "        [233, 237, 240],\n",
              "        [230, 234, 237],\n",
              "        ...,\n",
              "        [ 95,  82,  76],\n",
              "        [ 88,  75,  69],\n",
              "        [ 86,  71,  66]]], dtype=uint8)"
            ]
          },
          "metadata": {},
          "execution_count": 18
        }
      ]
    },
    {
      "cell_type": "markdown",
      "metadata": {
        "id": "_fBoeOZSCKaC"
      },
      "source": [
        "### data visualization"
      ]
    },
    {
      "cell_type": "code",
      "metadata": {
        "colab": {
          "base_uri": "https://localhost:8080/",
          "height": 594
        },
        "id": "nPYHqiUgCuck",
        "outputId": "13806a74-4a0d-4c98-9eed-065e63cb6e1f"
      },
      "source": [
        "def vis(x,y):\n",
        "    # random.seed(2021)\n",
        "    fig = plt.figure(figsize=(10, 10))\n",
        "    for i in range(9):\n",
        "        idx = random.randint(0,300)\n",
        "        img = x[idx]\n",
        "        label = y[idx]\n",
        "        ax = fig.add_subplot(3, 3, i+1, xticks=[], yticks=[])\n",
        "        ax.imshow(img)\n",
        "        ax.set_title(f\"Label: {label}, Size: {img.shape}\")\n",
        "\n",
        "vis(x_train_norm, y_data)"
      ],
      "execution_count": 19,
      "outputs": [
        {
          "output_type": "display_data",
          "data": {
            "image/png": "[encoded data removed]",
            "text/plain": [
              "<Figure size 720x720 with 9 Axes>"
            ]
          },
          "metadata": {}
        }
      ]
    },
    {
      "cell_type": "markdown",
      "metadata": {
        "id": "hc2oFaFHEez4"
      },
      "source": [
        "### 데이터 shuffle"
      ]
    },
    {
      "cell_type": "code",
      "metadata": {
        "id": "bIpvuwmkEhaW"
      },
      "source": [
        "from sklearn.utils import shuffle\n",
        "x_train, y_train = shuffle(x_train_norm, y_data, random_state=0)"
      ],
      "execution_count": 20,
      "outputs": []
    },
    {
      "cell_type": "code",
      "metadata": {
        "colab": {
          "base_uri": "https://localhost:8080/",
          "height": 594
        },
        "id": "fVFt0HP7FiW9",
        "outputId": "15a1fd50-4412-4a11-d7d1-575352beef2c"
      },
      "source": [
        "vis(x_train, y_train)"
      ],
      "execution_count": 21,
      "outputs": [
        {
          "output_type": "display_data",
          "data": {
            "image/png": "[encoded data removed]",
            "text/plain": [
              "<Figure size 720x720 with 9 Axes>"
            ]
          },
          "metadata": {}
        }
      ]
    },
    {
      "cell_type": "code",
      "metadata": {
        "colab": {
          "base_uri": "https://localhost:8080/"
        },
        "id": "LDZcR9txFoWS",
        "outputId": "21b25c27-0635-4d10-9c64-7e1481665f51"
      },
      "source": [
        "y_train"
      ],
      "execution_count": 22,
      "outputs": [
        {
          "output_type": "execute_result",
          "data": {
            "text/plain": [
              "array([2, 1, 0, 2, 2, 1, 2, 2, 0, 1, 2, 0, 1, 2, 0, 0, 2, 0, 2, 1, 1, 1,\n",
              "       1, 1, 2, 1, 1, 2, 2, 2, 0, 0, 0, 1, 2, 1, 1, 1, 2, 0, 2, 0, 0, 0,\n",
              "       0, 1, 2, 0, 0, 0, 0, 2, 1, 1, 0, 2, 1, 0, 2, 1, 1, 1, 0, 2, 2, 2,\n",
              "       2, 1, 0, 0, 1, 2, 2, 0, 1, 2, 0, 0, 1, 1, 1, 1, 2, 2, 2, 0, 2, 2,\n",
              "       2, 2, 2, 0, 2, 1, 1, 1, 1, 0, 1, 0, 2, 2, 1, 1, 0, 2, 2, 2, 2, 2,\n",
              "       1, 1, 0, 0, 2, 0, 1, 2, 1, 0, 0, 1, 0, 0, 0, 1, 1, 2, 1, 0, 0, 1,\n",
              "       0, 0, 1, 1, 2, 2, 0, 2, 0, 1, 2, 0, 1, 1, 0, 0, 0, 2, 2, 0, 2, 2,\n",
              "       2, 0, 0, 0, 2, 1, 1, 0, 0, 1, 0, 0, 0, 1, 0, 2, 2, 1, 2, 0, 1, 2,\n",
              "       1, 2, 2, 0, 1, 1, 2, 2, 1, 1, 2, 0, 2, 0, 2, 1, 0, 1, 1, 0, 0, 2,\n",
              "       0, 2, 2, 2, 0, 0, 0, 0, 2, 1, 2, 0, 2, 1, 1, 0, 1, 1, 2, 1, 2, 2,\n",
              "       1, 0, 0, 2, 0, 1, 1, 1, 2, 2, 1, 2, 0, 0, 2, 0, 1, 1, 0, 0, 1, 2,\n",
              "       0, 0, 1, 2, 1, 0, 1, 1, 0, 0, 2, 2, 0, 1, 0, 2, 1, 0, 1, 1, 1, 2,\n",
              "       2, 0, 0, 1, 1, 2, 2, 1, 2, 1, 0, 1, 2, 1, 2, 0, 0, 1, 2, 1, 2, 0,\n",
              "       1, 0, 0, 0, 2, 2, 2, 0, 1, 2, 1, 1, 0, 1], dtype=int32)"
            ]
          },
          "metadata": {},
          "execution_count": 22
        }
      ]
    },
    {
      "cell_type": "markdown",
      "metadata": {
        "id": "AaiJKVeopImG"
      },
      "source": [
        "\n",
        "## 딥러닝 네트워크 설계하기"
      ]
    },
    {
      "cell_type": "code",
      "metadata": {
        "colab": {
          "base_uri": "https://localhost:8080/"
        },
        "id": "czQbTNa05a3a",
        "outputId": "01b9180c-9d69-48b5-ae82-9d3c1b0d421c"
      },
      "source": [
        "glob.glob(\"./paper-samples\")"
      ],
      "execution_count": 36,
      "outputs": [
        {
          "output_type": "execute_result",
          "data": {
            "text/plain": [
              "[]"
            ]
          },
          "metadata": {},
          "execution_count": 36
        }
      ]
    },
    {
      "cell_type": "code",
      "metadata": {
        "id": "wmBjbxg4jk2D"
      },
      "source": [
        "model_d = tf.keras.Sequential([\n",
        "    tf.keras.layers.Flatten(input_shape=(28, 28, 3)),\n",
        "    tf.keras.layers.Dense(128, activation='relu'),\n",
        "    tf.keras.layers.Dense(3)\n",
        "])"
      ],
      "execution_count": 29,
      "outputs": []
    },
    {
      "cell_type": "code",
      "metadata": {
        "id": "w1fDXwAypGgy",
        "colab": {
          "base_uri": "https://localhost:8080/"
        },
        "outputId": "bcb9a8a9-b468-45d3-f40c-ead1ec3225d2"
      },
      "source": [
        "import tensorflow as tf\n",
        "from tensorflow import keras\n",
        "\n",
        "model = keras.models.Sequential()\n",
        "model.add(keras.layers.Conv2D(16, (3, 3), padding='same',\n",
        "                              kernel_regularizer='l2',\n",
        "                              input_shape=(28, 28, 3)))\n",
        "\n",
        "model.add(keras.layers.BatchNormalization())\n",
        "model.add(keras.layers.Activation('relu'))\n",
        "\n",
        "model.add(keras.layers.MaxPool2D(2,2))\n",
        "\n",
        "model.add(keras.layers.Conv2D(16, (3, 3), padding='same',\n",
        "                              kernel_regularizer='l2'))\n",
        "model.add(keras.layers.BatchNormalization())\n",
        "model.add(keras.layers.Activation('relu'))\n",
        "model.add(keras.layers.MaxPool2D(2,2))\n",
        "\n",
        "model.add(keras.layers.Flatten())\n",
        "model.add(keras.layers.Dense(3, activation='softmax',\n",
        "                             kernel_regularizer='l2'))\n",
        "\n",
        "model.summary()"
      ],
      "execution_count": 24,
      "outputs": [
        {
          "output_type": "stream",
          "name": "stdout",
          "text": [
            "Model: \"sequential_1\"\n",
            "_________________________________________________________________\n",
            "Layer (type)                 Output Shape              Param #   \n",
            "=================================================================\n",
            "conv2d_2 (Conv2D)            (None, 28, 28, 16)        448       \n",
            "_________________________________________________________________\n",
            "batch_normalization_2 (Batch (None, 28, 28, 16)        64        \n",
            "_________________________________________________________________\n",
            "activation_2 (Activation)    (None, 28, 28, 16)        0         \n",
            "_________________________________________________________________\n",
            "max_pooling2d_2 (MaxPooling2 (None, 14, 14, 16)        0         \n",
            "_________________________________________________________________\n",
            "conv2d_3 (Conv2D)            (None, 14, 14, 16)        2320      \n",
            "_________________________________________________________________\n",
            "batch_normalization_3 (Batch (None, 14, 14, 16)        64        \n",
            "_________________________________________________________________\n",
            "activation_3 (Activation)    (None, 14, 14, 16)        0         \n",
            "_________________________________________________________________\n",
            "max_pooling2d_3 (MaxPooling2 (None, 7, 7, 16)          0         \n",
            "_________________________________________________________________\n",
            "flatten_1 (Flatten)          (None, 784)               0         \n",
            "_________________________________________________________________\n",
            "dense_1 (Dense)              (None, 3)                 2355      \n",
            "=================================================================\n",
            "Total params: 5,251\n",
            "Trainable params: 5,187\n",
            "Non-trainable params: 64\n",
            "_________________________________________________________________\n"
          ]
        }
      ]
    },
    {
      "cell_type": "markdown",
      "metadata": {
        "id": "fwlJomohpP6W"
      },
      "source": [
        "## 딥러닝 네트워크 학습시키기"
      ]
    },
    {
      "cell_type": "code",
      "metadata": {
        "id": "MoQ8keMMwyKa"
      },
      "source": [
        "(28,28,3) => test1 => model()\n",
        "model <= (Num, 28, 28, 3)\n",
        "test1.reshape(-1, 28, 28, 3) => (3, 28, 28, 3)"
      ],
      "execution_count": null,
      "outputs": []
    },
    {
      "cell_type": "code",
      "metadata": {
        "colab": {
          "base_uri": "https://localhost:8080/"
        },
        "id": "s2nV9cZmy-iU",
        "outputId": "a7968450-f857-4a78-cb24-5ba89f82e68c"
      },
      "source": [
        "print(\"Befor Reshape - x_train shape : {}\".format(x_train.shape))\n",
        "x_train_reshape = x_train.reshape(-1, 28, 28, 3)\n",
        "print(\"After Reshape - x_train_reshaped shape : {}\".format(x_train_reshape.shape))"
      ],
      "execution_count": 27,
      "outputs": [
        {
          "output_type": "stream",
          "name": "stdout",
          "text": [
            "Befor Reshape - x_train shape : (300, 28, 28, 3)\n"
          ]
        }
      ]
    },
    {
      "cell_type": "code",
      "metadata": {
        "id": "mHuSCH0CpK2h",
        "colab": {
          "base_uri": "https://localhost:8080/"
        },
        "outputId": "5504e326-d775-4830-fb4b-4843f6c9f469"
      },
      "source": [
        "# model을 학습시키는 코드를 직접 작성해 보세요.\n",
        "# Hint! model.compile()과 model.fit()을 사용해 봅시다.\n",
        "model.compile(optimizer='adam',\n",
        "              loss='sparse_categorical_crossentropy',\n",
        "              metrics=['accuracy'])\n",
        "\n",
        "model.fit(x_train, y_train, epochs=3)"
      ],
      "execution_count": 25,
      "outputs": [
        {
          "output_type": "stream",
          "name": "stdout",
          "text": [
            "Epoch 1/3\n",
            "10/10 [==============================] - 1s 6ms/step - loss: 1.1420 - accuracy: 0.6033\n",
            "Epoch 2/3\n",
            "10/10 [==============================] - 0s 6ms/step - loss: 0.4785 - accuracy: 0.9867\n",
            "Epoch 3/3\n",
            "10/10 [==============================] - 0s 7ms/step - loss: 0.3486 - accuracy: 1.0000\n"
          ]
        },
        {
          "output_type": "execute_result",
          "data": {
            "text/plain": [
              "<keras.callbacks.History at 0x7ff6eed80890>"
            ]
          },
          "metadata": {},
          "execution_count": 25
        }
      ]
    },
    {
      "cell_type": "code",
      "metadata": {
        "colab": {
          "base_uri": "https://localhost:8080/"
        },
        "id": "Bd6sHWdSREB2",
        "outputId": "2e152bf2-744e-4ad3-c272-0e474c617763"
      },
      "source": [
        "train_loss, train_acc = model.evaluate(x_train, y_train, verbose=2)\n",
        "print(\"test_loss : {}\".format(train_loss))\n",
        "print(\"test_accuracy: {}\".format(train_acc))"
      ],
      "execution_count": 26,
      "outputs": [
        {
          "output_type": "stream",
          "name": "stdout",
          "text": [
            "10/10 - 0s - loss: 1.2418 - accuracy: 0.5300\n",
            "test_loss : 1.2417806386947632\n",
            "test_accuracy: 0.5299999713897705\n"
          ]
        }
      ]
    },
    {
      "cell_type": "markdown",
      "metadata": {
        "id": "1hbEfHdapS2t"
      },
      "source": [
        "## 테스트하기"
      ]
    },
    {
      "cell_type": "code",
      "metadata": {
        "id": "cWEMAjj55DXk"
      },
      "source": [
        "from PIL import Image\n",
        "import os, glob"
      ],
      "execution_count": 27,
      "outputs": []
    },
    {
      "cell_type": "code",
      "metadata": {
        "colab": {
          "base_uri": "https://localhost:8080/"
        },
        "id": "V-Fr_kLe5Ntv",
        "outputId": "1146136d-4483-4b34-ef31-5d535790155b"
      },
      "source": [
        "image_dir_path = '/content/drive/MyDrive/data/rsp/test'\n",
        "resize_images(image_dir_path)"
      ],
      "execution_count": 28,
      "outputs": [
        {
          "output_type": "stream",
          "name": "stdout",
          "text": [
            "300  images to be resized.\n"
          ]
        },
        {
          "output_type": "stream",
          "name": "stderr",
          "text": [
            "100%|██████████| 300/300 [01:05<00:00,  4.56it/s]"
          ]
        },
        {
          "output_type": "stream",
          "name": "stdout",
          "text": [
            "300  images resized.\n"
          ]
        },
        {
          "output_type": "stream",
          "name": "stderr",
          "text": [
            "\n"
          ]
        }
      ]
    },
    {
      "cell_type": "code",
      "metadata": {
        "id": "wuPhYUBWpULz",
        "colab": {
          "base_uri": "https://localhost:8080/"
        },
        "outputId": "9ca1bc41-d718-4e81-a4df-a6ee945acaee"
      },
      "source": [
        "(x_test, y_test) = load_data(image_dir_path)\n",
        "x_test_norm = x_test/255.0\n",
        "x_test_reshape = x_test_norm.reshape(-1, 28, 28, 3)\n",
        "\n",
        "print(\"x_test: {}\".format(x_test.shape))\n",
        "print(\"y_test : {}\".format(y_test.shape))"
      ],
      "execution_count": 29,
      "outputs": [
        {
          "output_type": "stream",
          "name": "stdout",
          "text": [
            "총 이미지 개수는 300 입니다.\n",
            "x_test: (300, 28, 28, 3)\n",
            "y_test : (300,)\n"
          ]
        }
      ]
    },
    {
      "cell_type": "code",
      "metadata": {
        "colab": {
          "base_uri": "https://localhost:8080/",
          "height": 594
        },
        "id": "tW2PyOb6LZRi",
        "outputId": "3de68fe6-5d84-4286-d6c8-60e0cb20908b"
      },
      "source": [
        "vis(x_test_reshape, y_test)"
      ],
      "execution_count": 30,
      "outputs": [
        {
          "output_type": "display_data",
          "data": {
            "image/png": "[encoded data removed]",
            "text/plain": [
              "<Figure size 720x720 with 9 Axes>"
            ]
          },
          "metadata": {}
        }
      ]
    },
    {
      "cell_type": "code",
      "metadata": {
        "id": "Bf7n3MoMpVXL",
        "colab": {
          "base_uri": "https://localhost:8080/"
        },
        "outputId": "eae2de41-81ff-4c1d-cd71-f9038c2b704b"
      },
      "source": [
        "# model을 학습시키는 코드를 직접 작성해 보세요.\n",
        "# Hint! model.evaluate()을 사용해 봅시다.\n",
        "\n",
        "test_loss, test_accuracy = model.evaluate(x_test_reshape, y_test, verbose=2)\n",
        "print(\"test_loss : {}\".format(test_loss))\n",
        "print(\"test_accuracy: {}\".format(test_accuracy))"
      ],
      "execution_count": 31,
      "outputs": [
        {
          "output_type": "stream",
          "name": "stdout",
          "text": [
            "10/10 - 0s - loss: 1.4150 - accuracy: 0.2600\n",
            "test_loss : 1.4149653911590576\n",
            "test_accuracy: 0.25999999046325684\n"
          ]
        }
      ]
    },
    {
      "cell_type": "markdown",
      "metadata": {
        "id": "l81wPxBLqkGW"
      },
      "source": [
        "## 어떻게 하면 test 정확도를 높일 수 있을까?\n",
        "=> over-fitting  \n",
        "1. 모델의 복잡도를 낮춘다.\n",
        "2. train data의 양을 늘린다.\n",
        "3. 모델의 아키텍쳐를 바꾼다.\n",
        "4. 규제항을 추가한다."
      ]
    },
    {
      "cell_type": "code",
      "metadata": {
        "id": "OptyqeiRpX19"
      },
      "source": [
        "train => 모델이 파라미터를 업데이트할때 사용되는 데이터\n",
        "\n",
        "validation => 모델의 성능을 확인하기 위한 용 => 모델 학습 파이프라인을 수정할 수 있다.\n",
        "\n",
        "\n",
        "\n",
        "test => 최종적으로 모델을 배포했들때 기대되는 성능 0.82 => 딥러닝 모델을 수정"
      ],
      "execution_count": null,
      "outputs": []
    },
    {
      "cell_type": "code",
      "metadata": {
        "id": "6gyh_3Z42pqK"
      },
      "source": [
        "train, validation, test\n",
        "\n",
        "data => train / test\n",
        "train => train / validation\n",
        "\n",
        "val, test => 학습 x 평가 0\n",
        "\n",
        "고양이 / 강아지 분류기를 만들고 싶다.\n",
        "\n",
        "구글 => 고양이 강아지 사진을 쭉 크롤링 => 초고화질 고양이/강아지\n",
        "train, val => 학습\n",
        "\n",
        "사람들이 찍는 고양이 강아지 => 저화질, 분포가 다르다.\n",
        "\n",
        "모델의 성능은 떨어진다.\n",
        "\n",
        "모델의 목적은 => train < test\n",
        "모델은 핸드폰에 올라가서 사람들이 찍는 사진을 분류하는 거다.\n",
        "\n",
        "train valid <= [고화질, 저화질]\n",
        "\n",
        "\"일반화\""
      ],
      "execution_count": null,
      "outputs": []
    }
  ]
}