{
  "nbformat": 4,
  "nbformat_minor": 0,
  "metadata": {
    "anaconda-cloud": {},
    "kernelspec": {
      "display_name": "Python 3",
      "language": "python",
      "name": "python3"
    },
    "language_info": {
      "codemirror_mode": {
        "name": "ipython",
        "version": 3
      },
      "file_extension": ".py",
      "mimetype": "text/x-python",
      "name": "python",
      "nbconvert_exporter": "python",
      "pygments_lexer": "ipython3",
      "version": "3.6.1"
    },
    "colab": {
      "name": "01_02_tensor_perceptron.ipynb",
      "provenance": []
    }
  },
  "cells": [
    {
      "cell_type": "code",
      "metadata": {
        "id": "bQXxt9Agqea0"
      },
      "source": [
        "\n",
        "import tensorflow as tf\n",
        "\n",
        "## data 선언\n",
        "x_data =[[1.],[2.],[3.],[4.]]\n",
        "y_data =[[1.],[3.],[5.],[7.]]\n",
        "\n"
      ],
      "execution_count": 1,
      "outputs": []
    },
    {
      "cell_type": "code",
      "metadata": {
        "id": "M7Agc9Zpqhdy"
      },
      "source": [
        "## 평균 0, 분산 1의 파라미터의 정규분포로 부터 값을 가져옴.\n",
        "# 학습을 통해 업데이트가 되어 변화되는 모델의 파라미터인 w,b를 의미한다.\n",
        "W = tf.Variable(tf.random.normal((1,1), mean=0, stddev=1.0))\n",
        "b = tf.Variable(tf.random.normal((1,1), mean=0, stddev=1.0))"
      ],
      "execution_count": 6,
      "outputs": []
    },
    {
      "cell_type": "code",
      "metadata": {
        "id": "Sh1IGQFLqiwh",
        "outputId": "34a39c71-c726-4a3d-8e9b-fd94fabf677a",
        "colab": {
          "base_uri": "https://localhost:8080/"
        }
      },
      "source": [
        "for j in range(len(x_data)):\n",
        "    ## data * weight 작성\n",
        "    WX = tf.matmul([x_data[j]], W)\n",
        "\n",
        "    ## bias add 작성\n",
        "    y_hat = tf.add(WX, b)\n",
        "\n",
        "    ## W와 b로 예측 하기\n",
        "    print(\"y_data: , \",y_data[j], \"prediction : \", y_hat)"
      ],
      "execution_count": 12,
      "outputs": [
        {
          "output_type": "stream",
          "name": "stdout",
          "text": [
            "y_data: ,  [1.0] prediction :  tf.Tensor([[1.1104552]], shape=(1, 1), dtype=float32)\n",
            "y_data: ,  [3.0] prediction :  tf.Tensor([[2.231135]], shape=(1, 1), dtype=float32)\n",
            "y_data: ,  [5.0] prediction :  tf.Tensor([[3.3518145]], shape=(1, 1), dtype=float32)\n",
            "y_data: ,  [7.0] prediction :  tf.Tensor([[4.472494]], shape=(1, 1), dtype=float32)\n"
          ]
        }
      ]
    },
    {
      "cell_type": "code",
      "metadata": {
        "id": "E-PNe2WdbMyA",
        "outputId": "a9dfadac-2ebe-4c88-d07f-244b6d286f04",
        "colab": {
          "base_uri": "https://localhost:8080/"
        }
      },
      "source": [
        "x_data =[[1.],[2.],[3.],[4.]]\n",
        "y_data =[[1.],[3.],[5.],[7.]]\n",
        "\n",
        "print(x_data)\n",
        "print(y_data)"
      ],
      "execution_count": 11,
      "outputs": [
        {
          "output_type": "stream",
          "name": "stdout",
          "text": [
            "[[1.0], [2.0], [3.0], [4.0]]\n",
            "[[1.0], [3.0], [5.0], [7.0]]\n"
          ]
        }
      ]
    },
    {
      "cell_type": "code",
      "metadata": {
        "id": "0lSiU_GRc1xQ"
      },
      "source": [
        ""
      ],
      "execution_count": null,
      "outputs": []
    }
  ]
}