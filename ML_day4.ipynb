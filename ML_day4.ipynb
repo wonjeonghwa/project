{
 "cells": [
  {
   "cell_type": "code",
   "execution_count": 1,
   "id": "f243d761",
   "metadata": {},
   "outputs": [],
   "source": [
    "import pandas as pd\n",
    "import numpy as np\n",
    "import matplotlib.pyplot as plt"
   ]
  },
  {
   "cell_type": "code",
   "execution_count": 2,
   "id": "ff37aad6",
   "metadata": {},
   "outputs": [
    {
     "data": {
      "text/plain": [
       "Perch        56\n",
       "Bream        35\n",
       "Roach        20\n",
       "Pike         17\n",
       "Smelt        14\n",
       "Parkki       11\n",
       "Whitefish     6\n",
       "Name: Species, dtype: int64"
      ]
     },
     "execution_count": 2,
     "metadata": {},
     "output_type": "execute_result"
    }
   ],
   "source": [
    "fish = pd.read_csv('https://bit.ly/fish_csv_data')\n",
    "fish.head()\n",
    "fish[\"Species\"].value_counts()"
   ]
  },
  {
   "cell_type": "code",
   "execution_count": 3,
   "id": "f83f05ab",
   "metadata": {},
   "outputs": [],
   "source": [
    "fish_input = fish[['Weight','Length','Diagonal','Height','Width']].to_numpy()\n",
    "fish_target = fish['Species'].to_numpy()"
   ]
  },
  {
   "cell_type": "code",
   "execution_count": 4,
   "id": "b77c7fb3",
   "metadata": {},
   "outputs": [],
   "source": [
    "from sklearn.model_selection import train_test_split\n",
    "\n",
    "train_input, test_input, train_target, test_target = train_test_split(\n",
    "fish_input, fish_target)"
   ]
  },
  {
   "cell_type": "code",
   "execution_count": 5,
   "id": "1c4e480a",
   "metadata": {},
   "outputs": [],
   "source": [
    "from sklearn.preprocessing import StandardScaler\n",
    "\n",
    "ss = StandardScaler()\n",
    "\n",
    "ss.fit(train_input)\n",
    "train_scaled = ss.transform(train_input)\n",
    "test_scaled = ss.transform(test_input)"
   ]
  },
  {
   "cell_type": "code",
   "execution_count": 7,
   "id": "dee56a7c",
   "metadata": {},
   "outputs": [
    {
     "name": "stdout",
     "output_type": "stream",
     "text": [
      "0.8487394957983193\n",
      "0.65\n"
     ]
    }
   ],
   "source": [
    "from sklearn.linear_model import LogisticRegression\n",
    "lr = LogisticRegression()\n",
    "\n",
    "lr.fit(train_scaled, train_target)\n",
    "\n",
    "print(lr.score(train_scaled, train_target))\n",
    "print(lr.score(test_scaled, test_target))"
   ]
  },
  {
   "cell_type": "code",
   "execution_count": 8,
   "id": "524a995a",
   "metadata": {},
   "outputs": [
    {
     "name": "stdout",
     "output_type": "stream",
     "text": [
      "['Perch' 'Perch' 'Perch' 'Perch' 'Bream' 'Perch' 'Perch' 'Bream' 'Pike'\n",
      " 'Bream']\n",
      "['Roach' 'Perch' 'Perch' 'Perch' 'Bream' 'Perch' 'Perch' 'Bream' 'Pike'\n",
      " 'Bream']\n"
     ]
    }
   ],
   "source": [
    "print(lr.predict(test_scaled[10:20]))\n",
    "print(test_target[10:20])"
   ]
  },
  {
   "cell_type": "code",
   "execution_count": 11,
   "id": "60537f15",
   "metadata": {},
   "outputs": [
    {
     "name": "stdout",
     "output_type": "stream",
     "text": [
      "[[0.011 0.118 0.531 0.012 0.22  0.086 0.023]\n",
      " [0.904 0.015 0.031 0.009 0.01  0.    0.031]\n",
      " [0.835 0.013 0.072 0.012 0.018 0.    0.05 ]\n",
      " [0.301 0.266 0.173 0.013 0.193 0.006 0.047]\n",
      " [0.192 0.004 0.48  0.182 0.036 0.    0.106]]\n"
     ]
    }
   ],
   "source": [
    "prob = lr.predict_proba(test_scaled[:5]).round(3)\n",
    "print(prob.round(3))"
   ]
  },
  {
   "cell_type": "code",
   "execution_count": 20,
   "id": "52716a4a",
   "metadata": {},
   "outputs": [
    {
     "name": "stdout",
     "output_type": "stream",
     "text": [
      "0.9159663865546218\n",
      "0.775\n"
     ]
    }
   ],
   "source": [
    "from sklearn.linear_model import SGDClassifier\n",
    "\n",
    "sg = SGDClassifier(loss='log', max_iter=100)\n",
    "sg.fit(train_scaled, train_target)\n",
    "\n",
    "print(sg.score(train_scaled, train_target))\n",
    "print(sg.score(test_scaled, test_target))"
   ]
  },
  {
   "cell_type": "code",
   "execution_count": 21,
   "id": "a4d7bfd3",
   "metadata": {},
   "outputs": [
    {
     "name": "stdout",
     "output_type": "stream",
     "text": [
      "0.8151260504201681\n",
      "0.65\n"
     ]
    }
   ],
   "source": [
    "sg.partial_fit(train_scaled, train_target)\n",
    "\n",
    "print(sg.score(train_scaled, train_target))\n",
    "print(sg.score(test_scaled, test_target))"
   ]
  },
  {
   "cell_type": "code",
   "execution_count": null,
   "id": "e1f002ed",
   "metadata": {},
   "outputs": [],
   "source": []
  }
 ],
 "metadata": {
  "kernelspec": {
   "display_name": "Python 3",
   "language": "python",
   "name": "python3"
  },
  "language_info": {
   "codemirror_mode": {
    "name": "ipython",
    "version": 3
   },
   "file_extension": ".py",
   "mimetype": "text/x-python",
   "name": "python",
   "nbconvert_exporter": "python",
   "pygments_lexer": "ipython3",
   "version": "3.8.8"
  }
 },
 "nbformat": 4,
 "nbformat_minor": 5
}
