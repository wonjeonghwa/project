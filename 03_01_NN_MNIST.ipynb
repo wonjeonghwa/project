{
  "nbformat": 4,
  "nbformat_minor": 0,
  "metadata": {
    "colab": {
      "name": "03_01_NN_MNIST.ipynb",
      "provenance": []
    },
    "kernelspec": {
      "name": "python3",
      "display_name": "Python 3"
    },
    "language_info": {
      "name": "python"
    }
  },
  "cells": [
    {
      "cell_type": "code",
      "metadata": {
        "id": "IcyMC7JJMLjq"
      },
      "source": [
        "import pandas as pd\n",
        "import tensorflow as tf\n",
        "from sklearn.model_selection import train_test_split\n",
        "\n",
        "import matplotlib.pyplot as plt"
      ],
      "execution_count": 93,
      "outputs": []
    },
    {
      "cell_type": "code",
      "metadata": {
        "id": "6mx86bY2MNO1"
      },
      "source": [
        "# MNIST 데이터 불러오기\n",
        "(x_train, y_train), (x_test, y_test) = tf.keras.datasets.mnist.load_data()"
      ],
      "execution_count": 94,
      "outputs": []
    },
    {
      "cell_type": "code",
      "metadata": {
        "id": "4VoJCzroo2A7",
        "outputId": "690c049a-eaa2-4b16-91da-e32a0dad743b",
        "colab": {
          "base_uri": "https://localhost:8080/"
        }
      },
      "source": [
        "print(len(x_train))"
      ],
      "execution_count": 95,
      "outputs": [
        {
          "output_type": "stream",
          "name": "stdout",
          "text": [
            "60000\n"
          ]
        }
      ]
    },
    {
      "cell_type": "code",
      "metadata": {
        "id": "GgWUcj70o82z",
        "outputId": "8613471b-d1d2-4a9c-a4c0-dd2bd0ccb729",
        "colab": {
          "base_uri": "https://localhost:8080/"
        }
      },
      "source": [
        "print(len(x_train))\n",
        "print(len(y_train))\n",
        "print(x_train.shape)\n",
        "print(y_train.shape)"
      ],
      "execution_count": 96,
      "outputs": [
        {
          "output_type": "stream",
          "name": "stdout",
          "text": [
            "60000\n",
            "60000\n",
            "(60000, 28, 28)\n",
            "(60000,)\n"
          ]
        }
      ]
    },
    {
      "cell_type": "code",
      "metadata": {
        "id": "4-tWMlePpVnV",
        "outputId": "6cbbbe4a-aa50-428d-a244-c042dc8948d6",
        "colab": {
          "base_uri": "https://localhost:8080/",
          "height": 282
        }
      },
      "source": [
        "plt.imshow(x_train[500], cmap=plt.cm.binary)"
      ],
      "execution_count": 97,
      "outputs": [
        {
          "output_type": "execute_result",
          "data": {
            "text/plain": [
              "<matplotlib.image.AxesImage at 0x7fe46ac51610>"
            ]
          },
          "metadata": {},
          "execution_count": 97
        },
        {
          "output_type": "display_data",
          "data": {
            "image/png": "[encoded data removed]",
            "text/plain": [
              "<Figure size 432x288 with 1 Axes>"
            ]
          },
          "metadata": {
            "needs_background": "light"
          }
        }
      ]
    },
    {
      "cell_type": "code",
      "metadata": {
        "id": "3hCQ_Accp0dt",
        "outputId": "553a7a64-3bcd-4ba2-c651-df4918874097",
        "colab": {
          "base_uri": "https://localhost:8080/"
        }
      },
      "source": [
        "print(y_train[500])"
      ],
      "execution_count": 98,
      "outputs": [
        {
          "output_type": "stream",
          "name": "stdout",
          "text": [
            "3\n"
          ]
        }
      ]
    },
    {
      "cell_type": "code",
      "metadata": {
        "id": "sOqu25-XrHCC",
        "outputId": "a8559fb0-b1e7-4deb-e79c-667af1202017",
        "colab": {
          "base_uri": "https://localhost:8080/",
          "height": 282
        }
      },
      "source": [
        "# index에 0에서 59999사이의 숫자를 지정해보세요.\n",
        "index = 387\n",
        "plt.imshow(x_train[index], cmap=plt.cm.binary)\n",
        "plt.show()\n",
        "print((index+1), \"번째 이미지의 숫자는 바로 \", y_train[index],'입니다.')"
      ],
      "execution_count": 99,
      "outputs": [
        {
          "output_type": "display_data",
          "data": {
            "image/png": "[encoded data removed]",
            "text/plain": [
              "<Figure size 432x288 with 1 Axes>"
            ]
          },
          "metadata": {
            "needs_background": "light"
          }
        },
        {
          "output_type": "stream",
          "name": "stdout",
          "text": [
            "388 번째 이미지의 숫자는 바로  7 입니다.\n"
          ]
        }
      ]
    },
    {
      "cell_type": "code",
      "metadata": {
        "id": "5Gyil5PVogXE",
        "outputId": "f87b6eb2-3de4-43dd-fa3f-ccca17d590e1",
        "colab": {
          "base_uri": "https://localhost:8080/"
        }
      },
      "source": [
        "import numpy as np\n",
        "print( '최소값', np.min(x_train), '최대값', np.max(x_train))\n"
      ],
      "execution_count": 100,
      "outputs": [
        {
          "output_type": "stream",
          "name": "stdout",
          "text": [
            "최소값 0 최대값 255\n"
          ]
        }
      ]
    },
    {
      "cell_type": "code",
      "metadata": {
        "id": "TI0bcZRprdqx",
        "outputId": "88bace1d-a0a2-4407-f979-0d7d34e2ea2a",
        "colab": {
          "base_uri": "https://localhost:8080/"
        }
      },
      "source": [
        "x_train_norm = x_train / 255.0\n",
        "x_test_norm = x_test / 255.0\n",
        "print( '최소값', np.min(x_train_norm), '최대값', np.max(x_test_norm))"
      ],
      "execution_count": 101,
      "outputs": [
        {
          "output_type": "stream",
          "name": "stdout",
          "text": [
            "최소값 0.0 최대값 1.0\n"
          ]
        }
      ]
    },
    {
      "cell_type": "code",
      "metadata": {
        "id": "oVS9e2GYrx2w"
      },
      "source": [
        "x_train = x_train_norm.reshape(x_train.shape[0], 784).astype('float32')\n",
        "x_test = x_test_norm.reshape(x_test.shape[0], 784).astype('float32')\n",
        "\n",
        "y_train = tf.keras.utils.to_categorical(y_train, 10)\n",
        "y_test = tf.keras.utils.to_categorical(y_test, 10)"
      ],
      "execution_count": 102,
      "outputs": []
    },
    {
      "cell_type": "code",
      "metadata": {
        "id": "G_VEukhXsvXQ",
        "outputId": "ed7432c8-e479-4ac1-e959-a00cda90591d",
        "colab": {
          "base_uri": "https://localhost:8080/"
        }
      },
      "source": [
        "print(y_train[0])"
      ],
      "execution_count": 103,
      "outputs": [
        {
          "output_type": "stream",
          "name": "stdout",
          "text": [
            "[0. 0. 0. 0. 0. 1. 0. 0. 0. 0.]\n"
          ]
        }
      ]
    },
    {
      "cell_type": "code",
      "metadata": {
        "id": "-X1dc7L4sxq7",
        "outputId": "3a2aab14-d469-478d-e70f-f8a447f578bc",
        "colab": {
          "base_uri": "https://localhost:8080/"
        }
      },
      "source": [
        "from tensorflow import keras\n",
        "model = keras.models.Sequential()\n",
        "model.add(keras.layers.Dense(512, activation='relu', input_shape=(784,)))\n",
        "model.add(keras.layers.Dense(256, activation='relu'))\n",
        "model.add(keras.layers.Dense(10, activation='softmax'))\n",
        "\n",
        "model.summary()"
      ],
      "execution_count": 104,
      "outputs": [
        {
          "output_type": "stream",
          "name": "stdout",
          "text": [
            "Model: \"sequential_4\"\n",
            "_________________________________________________________________\n",
            "Layer (type)                 Output Shape              Param #   \n",
            "=================================================================\n",
            "dense_12 (Dense)             (None, 512)               401920    \n",
            "_________________________________________________________________\n",
            "dense_13 (Dense)             (None, 256)               131328    \n",
            "_________________________________________________________________\n",
            "dense_14 (Dense)             (None, 10)                2570      \n",
            "=================================================================\n",
            "Total params: 535,818\n",
            "Trainable params: 535,818\n",
            "Non-trainable params: 0\n",
            "_________________________________________________________________\n"
          ]
        }
      ]
    },
    {
      "cell_type": "code",
      "metadata": {
        "id": "ZTAAMUlit2W7",
        "outputId": "6c6ad42a-c9de-43a6-fdb5-08e9dda5489c",
        "colab": {
          "base_uri": "https://localhost:8080/"
        }
      },
      "source": [
        "model.compile(optimizer='adam',\n",
        "              loss = 'categorical_crossentropy',\n",
        "              metrics = ['accuracy'])\n",
        "\n",
        "history = model.fit(x_train, y_train, validation_split=0.1, epochs=10, batch_size=200, verbose=1)"
      ],
      "execution_count": 105,
      "outputs": [
        {
          "output_type": "stream",
          "name": "stdout",
          "text": [
            "Epoch 1/10\n",
            "270/270 [==============================] - 5s 15ms/step - loss: 0.2715 - accuracy: 0.9219 - val_loss: 0.1101 - val_accuracy: 0.9673\n",
            "Epoch 2/10\n",
            "270/270 [==============================] - 4s 15ms/step - loss: 0.0968 - accuracy: 0.9712 - val_loss: 0.0844 - val_accuracy: 0.9752\n",
            "Epoch 3/10\n",
            "270/270 [==============================] - 4s 15ms/step - loss: 0.0585 - accuracy: 0.9821 - val_loss: 0.0767 - val_accuracy: 0.9767\n",
            "Epoch 4/10\n",
            "270/270 [==============================] - 4s 15ms/step - loss: 0.0421 - accuracy: 0.9866 - val_loss: 0.0721 - val_accuracy: 0.9813\n",
            "Epoch 5/10\n",
            "270/270 [==============================] - 4s 15ms/step - loss: 0.0269 - accuracy: 0.9919 - val_loss: 0.0736 - val_accuracy: 0.9808\n",
            "Epoch 6/10\n",
            "270/270 [==============================] - 4s 14ms/step - loss: 0.0194 - accuracy: 0.9943 - val_loss: 0.0762 - val_accuracy: 0.9812\n",
            "Epoch 7/10\n",
            "270/270 [==============================] - 4s 14ms/step - loss: 0.0160 - accuracy: 0.9952 - val_loss: 0.0742 - val_accuracy: 0.9805\n",
            "Epoch 8/10\n",
            "270/270 [==============================] - 4s 15ms/step - loss: 0.0151 - accuracy: 0.9950 - val_loss: 0.0770 - val_accuracy: 0.9815\n",
            "Epoch 9/10\n",
            "270/270 [==============================] - 4s 15ms/step - loss: 0.0108 - accuracy: 0.9964 - val_loss: 0.0807 - val_accuracy: 0.9825\n",
            "Epoch 10/10\n",
            "270/270 [==============================] - 4s 14ms/step - loss: 0.0135 - accuracy: 0.9956 - val_loss: 0.0773 - val_accuracy: 0.9833\n"
          ]
        }
      ]
    },
    {
      "cell_type": "code",
      "metadata": {
        "id": "TKsOLT5vu6qQ",
        "outputId": "70a5f689-ae5f-488a-ddd4-c3430abb2964",
        "colab": {
          "base_uri": "https://localhost:8080/"
        }
      },
      "source": [
        "test_loss, test_accuracy = model.evaluate(x_test, y_test, verbose=2)\n",
        "print('test loss : {}'.format(test_loss))\n",
        "print('test_accuracy: {}'.format(test_accuracy))"
      ],
      "execution_count": 106,
      "outputs": [
        {
          "output_type": "stream",
          "name": "stdout",
          "text": [
            "313/313 - 1s - loss: 0.0697 - accuracy: 0.9809\n",
            "test loss : 0.06967885792255402\n",
            "test_accuracy: 0.98089998960495\n"
          ]
        }
      ]
    },
    {
      "cell_type": "code",
      "metadata": {
        "id": "MQN_KqCRvx5U"
      },
      "source": [
        "predicted_result = model.predict(x_test)\n",
        "predicted_labels = np.argmax(predicted_result, axis=1)"
      ],
      "execution_count": 107,
      "outputs": []
    },
    {
      "cell_type": "code",
      "metadata": {
        "id": "MfqF7E17wFBJ",
        "outputId": "4e7f7e10-a82c-48e5-aaa2-acf8e23af5a6",
        "colab": {
          "base_uri": "https://localhost:8080/"
        }
      },
      "source": [
        "idx = 0\n",
        "print('model.predict() 결과 :',predicted_result[idx])\n",
        "print('model이 추론한 가장 가능성이 높은 결과 : ',predicted_labels[idx])\n",
        "print('실제 데이터의 라벨 :',y_test[idx])"
      ],
      "execution_count": 108,
      "outputs": [
        {
          "output_type": "stream",
          "name": "stdout",
          "text": [
            "model.predict() 결과 : [3.6833427e-09 5.3805232e-10 8.1481648e-09 1.0955570e-07 1.0067402e-15\n",
            " 1.7612065e-09 4.2840987e-15 9.9999988e-01 8.4988694e-10 9.6487618e-09]\n",
            "model이 추론한 가장 가능성이 높은 결과 :  7\n",
            "실제 데이터의 라벨 : [0. 0. 0. 0. 0. 0. 0. 1. 0. 0.]\n"
          ]
        }
      ]
    },
    {
      "cell_type": "code",
      "metadata": {
        "id": "t3B0UVhhwq7r"
      },
      "source": [
        "x_test_result = x_test.reshape(x_test.shape[0], 28, 28)"
      ],
      "execution_count": 109,
      "outputs": []
    },
    {
      "cell_type": "code",
      "metadata": {
        "id": "NHsB-dkjxAtO",
        "outputId": "a3b9740f-0cd1-40d3-c2f5-b9d061c3b5ea",
        "colab": {
          "base_uri": "https://localhost:8080/"
        }
      },
      "source": [
        "x_test_result.shape"
      ],
      "execution_count": 110,
      "outputs": [
        {
          "output_type": "execute_result",
          "data": {
            "text/plain": [
              "(10000, 28, 28)"
            ]
          },
          "metadata": {},
          "execution_count": 110
        }
      ]
    },
    {
      "cell_type": "code",
      "metadata": {
        "id": "guFW7gsqwU-0",
        "outputId": "e6837280-4634-425c-b3d1-0aef7f603d6e",
        "colab": {
          "base_uri": "https://localhost:8080/",
          "height": 265
        }
      },
      "source": [
        "plt.imshow(x_test_result[idx], cmap=plt.cm.binary)\n",
        "plt.show()"
      ],
      "execution_count": 111,
      "outputs": [
        {
          "output_type": "display_data",
          "data": {
            "image/png": "[encoded data removed]",
            "text/plain": [
              "<Figure size 432x288 with 1 Axes>"
            ]
          },
          "metadata": {
            "needs_background": "light"
          }
        }
      ]
    },
    {
      "cell_type": "code",
      "metadata": {
        "id": "UoYSDsfRxH1e",
        "outputId": "92ccc2eb-73cd-414c-b02d-61800dab1785",
        "colab": {
          "base_uri": "https://localhost:8080/",
          "height": 279
        }
      },
      "source": [
        "# 테스트 셋의 오차\n",
        "y_vloss = history.history['val_loss']\n",
        "\n",
        "# 학습셋의 오차\n",
        "y_loss = history.history['loss']\n",
        "\n",
        "# 그래프로 표현\n",
        "x_len = numpy.arange(len(y_loss))\n",
        "plt.plot(x_len, y_vloss, marker='.', c=\"red\", label='Testset_loss')\n",
        "plt.plot(x_len, y_loss, marker='.', c=\"blue\", label='Trainset_loss')\n",
        "\n",
        "# 그래프에 그리드를 주고 레이블을 표시\n",
        "plt.legend(loc='upper right')\n",
        "# plt.axis([0, 20, 0, 0.35])\n",
        "plt.grid()\n",
        "plt.xlabel('epoch')\n",
        "plt.ylabel('loss')\n",
        "plt.show()"
      ],
      "execution_count": 112,
      "outputs": [
        {
          "output_type": "display_data",
          "data": {
            "image/png": "[encoded data removed]",
            "text/plain": [
              "<Figure size 432x288 with 1 Axes>"
            ]
          },
          "metadata": {
            "needs_background": "light"
          }
        }
      ]
    }
  ]
}