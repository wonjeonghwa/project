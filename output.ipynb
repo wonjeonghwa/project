{
 "cells": [
  {
   "cell_type": "code",
   "execution_count": null,
   "id": "08b3e931",
   "metadata": {},
   "outputs": [],
   "source": [
    "# 하나만 출력\n",
    "print(\" # 하나만 출력 합니다 \")\n",
    "print(\"hello python programing\")\n",
    "print()\n",
    "\n",
    "# 여러 개 출력\n",
    "print(\"#여러 개를 출력합니다\")\n",
    "print(10,20,30,40,50)\n",
    "print(\"안녕하세요\", \"저의\", \"이름은\", \"파이썬입니다\")\n",
    "print()"
   ]
  },
  {
   "cell_type": "code",
   "execution_count": null,
   "id": "aa1c7cda",
   "metadata": {},
   "outputs": [],
   "source": []
  }
 ],
 "metadata": {
  "kernelspec": {
   "display_name": "Python 3",
   "language": "python",
   "name": "python3"
  },
  "language_info": {
   "codemirror_mode": {
    "name": "ipython",
    "version": 3
   },
   "file_extension": ".py",
   "mimetype": "text/x-python",
   "name": "python",
   "nbconvert_exporter": "python",
   "pygments_lexer": "ipython3",
   "version": "3.8.8"
  }
 },
 "nbformat": 4,
 "nbformat_minor": 5
}
