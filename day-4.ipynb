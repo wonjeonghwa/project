{
 "cells": [
  {
   "cell_type": "code",
   "execution_count": null,
   "id": "3b1b5e6f",
   "metadata": {},
   "outputs": [],
   "source": [
    "import math"
   ]
  },
  {
   "cell_type": "code",
   "execution_count": null,
   "id": "17a2d360",
   "metadata": {},
   "outputs": [],
   "source": [
    "math.sin(1)"
   ]
  },
  {
   "cell_type": "code",
   "execution_count": null,
   "id": "928d74c1",
   "metadata": {},
   "outputs": [],
   "source": [
    "math.ceil(10.56)"
   ]
  },
  {
   "cell_type": "code",
   "execution_count": null,
   "id": "3ea1d779",
   "metadata": {},
   "outputs": [],
   "source": [
    "print(math.tan(1))\n",
    "print()\n",
    "print(math.floor(2.5))\n",
    "print(math.ceil(2.5))"
   ]
  },
  {
   "cell_type": "code",
   "execution_count": null,
   "id": "40fc7acb",
   "metadata": {},
   "outputs": [],
   "source": [
    "from math import sin, cos, tan, floor, ceil  #form 모듈명 import 가져오고자 하는 변수 또는 함수\n",
    "print(sin(10))\n",
    "print(cos(10))\n",
    "print(tan(10))\n",
    "print(floor(10))\n",
    "print(ceil(10))\n",
    "# from math import * 모든걸 다가져온다 # 필요한것만 가져다가 쓰는게좋다\n"
   ]
  },
  {
   "cell_type": "code",
   "execution_count": null,
   "id": "9cb36c3b",
   "metadata": {},
   "outputs": [],
   "source": [
    "# 모듈의 이름이 너무 길어 짧게 중여 사용하고 싶은경우.\n",
    "import math as m\n",
    "print(m.sin(1))\n",
    "print(m.cos(1))\n",
    "print(m.tan(1))\n",
    "print(m.floor(2.5))\n",
    "print(m.ceil(2.5))"
   ]
  },
  {
   "cell_type": "markdown",
   "id": "3c63bc6f",
   "metadata": {},
   "source": [
    "#모듈을 프로그램에 가져오는 방법\n",
    "* improt 모듈명\n",
    "* import 모듈명 as 약어\n",
    "* form 모듈명 import 변수 또는 함수, ...."
   ]
  },
  {
   "cell_type": "code",
   "execution_count": null,
   "id": "b154c80c",
   "metadata": {},
   "outputs": [],
   "source": [
    "import random # 다양한 랜덤한 값을 나타낼때 사용하는 모듈\n",
    "\n",
    "print(\"# ranaom 모듈\")\n",
    "\n",
    "print(\" ~ random():\", random.random())\n",
    "print(\" ~ uniform(10, 20):\", random.uniform(10, 20))\n",
    "print(\" ~ randrange(10):\", random.randrange(10))\n",
    "print(\" ~ choice([1, 2, 3, 4, 5]):\", random.choice([1, 2, 3, 4, 5])) # 리스트 내부에 있는 요소를 랜덤하게 선택\n",
    "print(\" ~ shuffle([1, 2, 3, 4, 5]):\", random.shuffle([1, 2, 3, 4, 5])) # 리스트의 요소들을 랜덤하게 섞습니다\n",
    "print(\" ~ sample([1, 2, 3, 4, 5], k=2):\", random.sample([1, 2, 3, 4, 5], k=2)) # 리스트의 요소 중에 k개를 뽑습니다"
   ]
  },
  {
   "cell_type": "code",
   "execution_count": null,
   "id": "3f92faba",
   "metadata": {},
   "outputs": [],
   "source": [
    "a = [1,2,3,4,5]\n",
    "print(random.shuffle(a))\n",
    "a"
   ]
  },
  {
   "cell_type": "code",
   "execution_count": null,
   "id": "61b7091b",
   "metadata": {},
   "outputs": [],
   "source": [
    "import sys\n",
    "# 명령 매개변수를 출력합니다.\n",
    "print(sys.argv)\n",
    "print(\"---\")\n",
    "\n",
    "# 컴퓨터 환경과 관련된 정보를 출력합니다.\n",
    "print(\"getwindowsversion:()\", sys.getwindowsversion())\n",
    "print(\"---\")\n",
    "print(\"copyright:\", sys.copyright)\n",
    "print(\"---\")\n",
    "print(\"version:\", sys.version)\n",
    "\n",
    "# 프로그램을 강제로 종료합니다.\n",
    "sys.exit()"
   ]
  },
  {
   "cell_type": "code",
   "execution_count": null,
   "id": "f0a0ba4e",
   "metadata": {},
   "outputs": [],
   "source": [
    "# os 모듈\n",
    "import os\n",
    "# 기본 정보를 몇 개 출력해 봅시다\n",
    "print(\"현재 운영체제:\", os.name)\n",
    "print(\"현재 폴더:\", os.getcwd())\n",
    "print(\"현재 폴더 내부의 요소:\", os.listdir())\n",
    "# 폴더를 만들고 제거 합니다(폴거다 비어있을 때만 제거 가능)\n",
    "os.mkdir(\"hello\")\n",
    "os.rmdir(\"hello\")\n",
    "# 파일을 생성하고 + 파일 이름을 변경합니다.\n",
    "with open(\"original.txt\",\"w\") as file:\n",
    "    file.write(\"hello\")\n",
    "os.rename(\"original.txt\",\"new.txt\")\n",
    "# 파일을 제거합니다\n",
    "os.remove(\"new.txt\")\n",
    "#시스템 명령어 실행\n",
    "\n",
    "\n",
    "!dir #cmd 창에서 명령어 실행과 동일한 결과 #os.system(\"dir\")"
   ]
  },
  {
   "cell_type": "code",
   "execution_count": null,
   "id": "85e9d009",
   "metadata": {},
   "outputs": [],
   "source": [
    "# datetime 모듈 : date , time 관련된 코드들\n",
    "import datetime\n",
    "print(\"현재 시간 :\", datetime.datetime.now()) # now는 object\n",
    "now = datetime.datetime.now()\n",
    "print(\"{}년 {}월 {}일 {}시 {}분 {}초\".format(now.year, now.month,\n",
    "                                              now.day, now.hour, now.minute, now.second))"
   ]
  },
  {
   "cell_type": "code",
   "execution_count": null,
   "id": "3fa4a0a4",
   "metadata": {},
   "outputs": [],
   "source": [
    "# 위에 보다 이게 더 심플한 방법이다\n",
    "out_now = now.strftime(\"%Y{} %m{} %d{} %H{} %M{} %S{}\".format(*\"년월일시분초\"))\n",
    "print(\"{}년 {}월 {}일 {}시 {}분 {}초\".format(now.year, now.month,\n",
    "                                              now.day, now.hour, now.minute, now.second))\n",
    "\n",
    "print(\"out_now :\",out_now)"
   ]
  },
  {
   "cell_type": "code",
   "execution_count": null,
   "id": "32e010ba",
   "metadata": {},
   "outputs": [],
   "source": [
    "import time\n",
    "print(\"시간 정지\")\n",
    "time.sleep(5)\n",
    "print(\"시간 정지 end\")"
   ]
  },
  {
   "cell_type": "code",
   "execution_count": null,
   "id": "dcbe9d0b",
   "metadata": {},
   "outputs": [],
   "source": [
    "# 모듈을 읽어 들입니다\n",
    "from urllib import request\n",
    "\n",
    "#urlopen() 함수로 구글의 메인 페이지를 읽습니다.\n",
    "target = request.urlopen(\"https://google.com\")\n",
    "output = target.read()\n",
    "\n",
    "print(output) # HTML 구문을 해석해야 함"
   ]
  },
  {
   "cell_type": "code",
   "execution_count": null,
   "id": "bdde0f80",
   "metadata": {},
   "outputs": [],
   "source": [
    "output = os.listdir(\"./\") # listdir(PATH) PATH: 경로 ./ 현재디렉토리\n",
    "print(\"os.listdir(): \",output)\n",
    "print()\n",
    "\n",
    "for path in output:\n",
    "    if os.path.isdir(path):\n",
    "        print(\"폴더 : \",path)\n",
    "    else:\n",
    "        print(\"파일 : \",path)\n",
    "        \n",
    "        "
   ]
  },
  {
   "cell_type": "code",
   "execution_count": null,
   "id": "04b2a661",
   "metadata": {},
   "outputs": [],
   "source": [
    "# 330page 문제3\n",
    "import os\n",
    "\n",
    "def read_folder(path):\n",
    "    output = os.listdir(path)\n",
    "    for item in output:\n",
    "        if os.path.isdir(item):\n",
    "            read_folder(item)\n",
    "        else:\n",
    "            print(\"파일 : \",item)\n",
    "            \n",
    "read_folder(input(\"검색하고자 하는 디렉토리를 입력 > \"))"
   ]
  },
  {
   "cell_type": "code",
   "execution_count": null,
   "id": "a58e5aff",
   "metadata": {},
   "outputs": [],
   "source": [
    "#외부 모듈 설치하기\n",
    "#!pip install 외부모듈 ---> cmd 창에서 실행\n",
    "from bs4 import BeautifulSoup\n",
    "from urllib import request\n",
    "\n",
    "target = request.urlopen(\"https://google.com\")\n",
    "\n",
    "output = target.read()\n",
    "\n",
    "print(output)"
   ]
  },
  {
   "cell_type": "code",
   "execution_count": 20,
   "id": "e4de7d67",
   "metadata": {},
   "outputs": [
    {
     "name": "stdout",
     "output_type": "stream",
     "text": [
      "[<p>Test contents</p>, <p>Test Test Test 1</p>, <p>Test Test Test 2</p>, <p>Test Test Test 3</p>]\n"
     ]
    },
    {
     "data": {
      "text/plain": [
       "<div class=\"test\" custom=\"good\" id=\"upper\">\n",
       "<h3 title=\"Good Content Title\">Contents Title</h3>\n",
       "<p>Test contents</p>\n",
       "</div>"
      ]
     },
     "execution_count": 20,
     "metadata": {},
     "output_type": "execute_result"
    }
   ],
   "source": [
    "from bs4 import BeautifulSoup\n",
    "html = '''\n",
    "<html>\n",
    "  <head>\n",
    "    <title>BeautifulSoup test</title>\n",
    "  </head>\n",
    "  <body>\n",
    "    <div id='upper' class='test' custom='good'>\n",
    "      <h3 title='Good Content Title'>Contents Title</h3>\n",
    "      <p>Test contents</p>\n",
    "    </div>\n",
    "    <div id='lower' class_='test' custom='nice'>\n",
    "      <p>Test Test Test 1</p>\n",
    "      <p>Test Test Test 2</p>\n",
    "      <p>Test Test Test 3</p>\n",
    "    </div>\n",
    "  </body>\n",
    "</html>'''\n",
    "\n",
    "soup = BeautifulSoup(html)\n",
    "print(soup.find_all('p')) \n",
    "soup.find('h3')   # 처음 나오는 h3 tag 검색\n",
    "soup.find('div',class_ ='test')"
   ]
  },
  {
   "cell_type": "code",
   "execution_count": 21,
   "id": "2725083e",
   "metadata": {},
   "outputs": [
    {
     "name": "stdout",
     "output_type": "stream",
     "text": [
      "[<div class=\"test\" custom=\"good\" id=\"upper\">\n",
      "<h3 title=\"Good Content Title\">Contents Title</h3>\n",
      "<p>Test contents</p>\n",
      "</div>, <div class_=\"test\" custom=\"nice\" id=\"lower\">\n",
      "<p>Test Test Test 1</p>\n",
      "<p>Test Test Test 2</p>\n",
      "<p>Test Test Test 3</p>\n",
      "</div>]\n"
     ]
    },
    {
     "data": {
      "text/plain": [
       "<div class=\"test\" custom=\"good\" id=\"upper\">\n",
       "<h3 title=\"Good Content Title\">Contents Title</h3>\n",
       "<p>Test contents</p>\n",
       "</div>"
      ]
     },
     "execution_count": 21,
     "metadata": {},
     "output_type": "execute_result"
    }
   ],
   "source": [
    "print(soup.select(\"div\"))\n",
    "soup.select_one(\"div\")"
   ]
  },
  {
   "cell_type": "code",
   "execution_count": 22,
   "id": "7ae0bd52",
   "metadata": {},
   "outputs": [
    {
     "name": "stdout",
     "output_type": "stream",
     "text": [
      "<p>Test contents</p>\n",
      "<p>Test Test Test 1</p>\n",
      "<p>Test Test Test 2</p>\n",
      "<p>Test Test Test 3</p>\n"
     ]
    }
   ],
   "source": [
    "for item in soup.select(\"div\"):\n",
    "    for value in item.select('p'):\n",
    "        print(value)"
   ]
  },
  {
   "cell_type": "code",
   "execution_count": 28,
   "id": "2d42592b",
   "metadata": {},
   "outputs": [
    {
     "name": "stdout",
     "output_type": "stream",
     "text": [
      "추석연휴 직전 대장동 의혹이 불거지며 주춤했던 이재명 경기지사의 지지율이 상승한 여론조사 결과가 나왔다.\n",
      "대장동 의혹이나 고발 사주 의혹이 지지 후보 교체에 영향을 줄 수 있다는 응답은 이 지사보다 윤석열 전 총장 지지층에서 3배 이상 높았다.\n",
      "Translated by kakao i\n",
      "\n",
      "추석연휴 직전 대장동 의혹이 불거지며 주춤했던 이재명 경기지사의 지지율이 상승한 여론조사 결과가 나왔다. 대장동 의혹이나 고발 사주 의혹이 지지 후보 교체에 영향을 줄 수 있다는 응답은 이 지사보다 윤석열 전 총장 지지층에서 3배 이상 높았다. \n",
      "한국사회여론연구소(KSOI)는 ‘차기 대선 후보 적합도’ 여론조사 결과, 이재명 지사 30%, 윤석열 전 검찰총장이 27.1%, 홍준표 의원이 16.6%, 이낙연 전 더불어민주당 대표가 12.5%를 기록했다고 27일 밝혔다. <티비에스>(TBS) 의뢰로 지난 24일∼25일 전국 만 18살 이상 성인남녀 1006명을 대상으로 물은 결과(신뢰수준 95%, 표본오차 ±3.1%포인트)다. \n",
      "이재명 지사의 적합도는 일주일 전 조사와 견줘 6.4%포인트 상승한 반면 윤 전 총장의 적합도는 1.7%포인트 하락한 것으로 나타났다. 오차범위 안쪽이긴 하지만 이 지사는 일주일 전 윤 전 총장에게 내줬던 1위를 이번에 다시 탈환했다. 한국사회여론연구소는 “이재명 후보(적합도)는 거의 3개월 만에 최고치(7월 2일∼3일 조사·30.3%)에 육박했다”고 설명했다. \n",
      "대장동 의혹을 둘러싼 국민의힘의 총공세가 계속되는 가운데 지지층 결집 등이 나타나면서 이 지사 상승세로 이어진 것으로 보인다. 이번 조사에서 ‘고발사주 문건과 성남 대장동 개발 등 논란 중인 사안이 지지후보 교체에 영향을 미칠 것인가’ 물은 결과, 전체 응답자 중 58.9%가 “영향이 있다”고 답했지만 이 지사 지지층에선 25.5%만이 “영향이 있다”고 응답했다. 반면 윤 전 총장 지지층에서는 79.6%가 “영향이 있다”는 반응을 보였다. “영향이 있다”고 한 응답은 대구·경북(72%), 보수성향층(74.4%), 국민의힘 지지층(77.1%)에서도 많았다. 대장동 개발 의혹보다 검찰의 고발 사주 의혹으로 윤 전 총장 지지층이 흔들릴 가능성이 훨씬 큰 것이다. \n",
      "범진보권 대선후보 적합도 조사에서는 이 지사(33.%), 이 전 대표(22.5%), 박용진 의원(4.3%) 차례였다. 범보수권의 경우 윤 전 총장(29.7%)과 홍 의원(29.5%)이 초접전을 벌인 가운데 유승민 전 의원(10.1%)이 뒤를 이었다.\n",
      "이완 기자 wani@hani.co.kr\n",
      "ⓒ 한겨레신문사, 무단전재 및 재배포 금지 \n",
      "해당 언론사로 연결됩니다.\n"
     ]
    }
   ],
   "source": [
    "url = 'https://news.v.daum.net/v/20210927112602253'\n",
    "\n",
    "soup = BeautifulSoup(request.urlopen(url))\n",
    "soup.find('h3').text\n",
    "\n",
    "for item in soup.select(\"p\"):\n",
    "    print(item.text)\n",
    "    \n",
    "# find 나 select 는 tag 를 찾는것이다 "
   ]
  },
  {
   "cell_type": "code",
   "execution_count": null,
   "id": "40d4aa53",
   "metadata": {},
   "outputs": [],
   "source": []
  }
 ],
 "metadata": {
  "kernelspec": {
   "display_name": "Python 3",
   "language": "python",
   "name": "python3"
  },
  "language_info": {
   "codemirror_mode": {
    "name": "ipython",
    "version": 3
   },
   "file_extension": ".py",
   "mimetype": "text/x-python",
   "name": "python",
   "nbconvert_exporter": "python",
   "pygments_lexer": "ipython3",
   "version": "3.8.8"
  }
 },
 "nbformat": 4,
 "nbformat_minor": 5
}
