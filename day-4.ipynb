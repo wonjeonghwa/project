{
 "cells": [
  {
   "cell_type": "code",
   "execution_count": 16,
   "id": "49859522",
   "metadata": {},
   "outputs": [],
   "source": [
    "counter = 0\n",
    "\n",
    "def fibonacci(n):\n",
    "    print(\"fibonacci({})를 구합니다.\".format(n))\n",
    "    global counter\n",
    "    conter += 1\n",
    "    \n",
    "    if n == 1:\n",
    "        return 1\n",
    "    if n == 2:\n",
    "        return 1\n",
    "    else:\n",
    "        return fibonacci(n - 1) + fibonacci(n - 2)\n",
    "    \n",
    "    fibonacci(10)\n",
    "    print(\"---\")\n",
    "    print(\"fibonacci(10) 계산에 활용된 덧셈 횟수는 {}번입니다.\".format(counter))"
   ]
  },
  {
   "cell_type": "code",
   "execution_count": 17,
   "id": "228aa09a",
   "metadata": {},
   "outputs": [
    {
     "name": "stdout",
     "output_type": "stream",
     "text": [
      "fibonacci(10): 55 0\n"
     ]
    }
   ],
   "source": [
    "# 메모 변수를 만듭니다\n",
    "dictionary = {\n",
    "    1 :1,\n",
    "    2: 1\n",
    "}\n",
    "\n",
    "count = 0\n",
    "# 함수를 선언합니다.\n",
    "def fibonacci(n):\n",
    "    if n in dictionary:\n",
    "        #메모가 되어 있으면 메모된 값을 리턴\n",
    "        return dictionary[n]\n",
    "    else:\n",
    "        #메모가 되어 있지 않으면 값을 구함\n",
    "        output = fibonacci(n - 1) + fibonacci(n - 2)\n",
    "        dictionary[n] = output\n",
    "        return output\n",
    "    \n",
    "print (\"fibonacci(10):\", fibonacci(10), count)"
   ]
  },
  {
   "cell_type": "code",
   "execution_count": 18,
   "id": "e59c66d7",
   "metadata": {},
   "outputs": [
    {
     "ename": "SyntaxError",
     "evalue": "invalid syntax (<ipython-input-18-74c990434698>, line 5)",
     "output_type": "error",
     "traceback": [
      "\u001b[1;36m  File \u001b[1;32m\"<ipython-input-18-74c990434698>\"\u001b[1;36m, line \u001b[1;32m5\u001b[0m\n\u001b[1;33m    input_number[i] = int(value)\u001b[0m\n\u001b[1;37m    ^\u001b[0m\n\u001b[1;31mSyntaxError\u001b[0m\u001b[1;31m:\u001b[0m invalid syntax\n"
     ]
    }
   ],
   "source": [
    "# 두개의 숫자를 리스트로\n",
    "input_number = input().split\n",
    "# 문자를 숫자로 변환\n",
    "for(i, value in enumerate(input_number)\n",
    "        input_number[i] = int(value)\n",
    "# 부호 입력\n",
    "input_char = input(\n",
    "# 부호에 따른 계산식 구현\n",
    "    if input_char == '+':\n",
    "                result = plus_func(input_number)\n",
    "\n",
    "리스트 [1,2,3,4,5]\n",
    "for item in 리스트:\n",
    "    함수명(item)\n",
    "==>\n",
    "==>\n",
    "\n",
    "#파일 사용시\n",
    "#open(파일명,모드) ==> file 객체 반환\n",
    "\n",
    "# try + except\n",
    "# try + except + else\n",
    "# try + except + finally\n",
    "# try + except + else + finally\n",
    "# try + finally"
   ]
  },
  {
   "cell_type": "code",
   "execution_count": 19,
   "id": "42798df0",
   "metadata": {},
   "outputs": [
    {
     "name": "stdout",
     "output_type": "stream",
     "text": [
      " example original :  [[1, 2, 3], [4, [5, 6]], 7, [8, 9]]\n",
      " example flatten :  [1, 2, 3, 4, 5, 6, 7, 8, 9]\n"
     ]
    }
   ],
   "source": [
    "def flatten(data):\n",
    "    #최종 결과를  저장할 리스트 작성\n",
    "    output = []\n",
    "    #리스트 가가의 item을 가져와서 작업\n",
    "    for item in data:\n",
    "        #데이터의 타입이 list이면 flatten함수 호출 아니면 output에 리스트 추가\n",
    "        if type(item) == list:\n",
    "            output += flatten(item)\n",
    "        else:\n",
    "            output.append(item)\n",
    "    return output\n",
    "\n",
    "example = [[1, 2, 3],[4, [5, 6]], 7, [8, 9]]\n",
    "print(\" example original : \", example)\n",
    "print(\" example flatten : \", flatten(example)) #평탄화 함수 호출"
   ]
  },
  {
   "cell_type": "code",
   "execution_count": 20,
   "id": "3b47abd6",
   "metadata": {},
   "outputs": [
    {
     "name": "stdout",
     "output_type": "stream",
     "text": [
      "10 20 30\n",
      "before :  10 20\n",
      "after :  20 10\n"
     ]
    }
   ],
   "source": [
    "c = (1,2,3)\n",
    "#c[0]=4 # 이값은 튜플에서 값을 변경할수없다\n",
    "a,b,c = 10,20,30\n",
    "print(a,b,c)\n",
    "\n",
    "#값을 교환\n",
    "a, b = 10, 20\n",
    "print(\"before : \" , a,b)\n",
    "a,b = b,a\n",
    "print(\"after : \" , a,b)"
   ]
  },
  {
   "cell_type": "code",
   "execution_count": 21,
   "id": "e1eef525",
   "metadata": {},
   "outputs": [
    {
     "name": "stdout",
     "output_type": "stream",
     "text": [
      " 두 수 입력 : 10 20\n",
      "10\n"
     ]
    }
   ],
   "source": [
    "# 문) 두 수를 입력받아 큰수에서 작은 수(num1 -num2)의 형식으로 작성하세요\n",
    "#함수 정의\n",
    "def minus_func(num1, num2):\n",
    "    return num1 - num2\n",
    "\n",
    "def trans_func(num1, num2):\n",
    "    if num1 < num2:\n",
    "        return (num2, num1)\n",
    "    else:\n",
    "        return (num1, num2)\n",
    "    \n",
    "input_numbers = input(\" 두 수 입력 : \").split()\n",
    "(num1, num2) = trans_func(int(input_numbers[0]),int(input_numbers[1]))\n",
    "print(minus_func(num1,num2))"
   ]
  },
  {
   "cell_type": "code",
   "execution_count": 22,
   "id": "4be54558",
   "metadata": {},
   "outputs": [
    {
     "name": "stdout",
     "output_type": "stream",
     "text": [
      "# map() 함수의 실행결과\n",
      "map(power, list_input_a): <map object at 0x0000026DB6D30FD0>\n",
      "map(power, list_input_a): [1, 4, 9, 16, 25]\n"
     ]
    },
    {
     "ename": "NameError",
     "evalue": "name 'nuder_3' is not defined",
     "output_type": "error",
     "traceback": [
      "\u001b[1;31m---------------------------------------------------------------------------\u001b[0m",
      "\u001b[1;31mNameError\u001b[0m                                 Traceback (most recent call last)",
      "\u001b[1;32m<ipython-input-22-29ddd1215441>\u001b[0m in \u001b[0;36m<module>\u001b[1;34m\u001b[0m\n\u001b[0;32m     11\u001b[0m \u001b[0mprint\u001b[0m\u001b[1;33m(\u001b[0m\u001b[1;34m\"map(power, list_input_a):\"\u001b[0m\u001b[1;33m,\u001b[0m \u001b[0mlist\u001b[0m\u001b[1;33m(\u001b[0m\u001b[0moutput_a\u001b[0m\u001b[1;33m)\u001b[0m\u001b[1;33m)\u001b[0m\u001b[1;33m\u001b[0m\u001b[1;33m\u001b[0m\u001b[0m\n\u001b[0;32m     12\u001b[0m \u001b[1;33m\u001b[0m\u001b[0m\n\u001b[1;32m---> 13\u001b[1;33m \u001b[0moutput_b\u001b[0m \u001b[1;33m=\u001b[0m \u001b[0mfilter\u001b[0m\u001b[1;33m(\u001b[0m\u001b[0mnuder_3\u001b[0m\u001b[1;33m,\u001b[0m \u001b[0mlist_input_a\u001b[0m\u001b[1;33m)\u001b[0m\u001b[1;33m\u001b[0m\u001b[1;33m\u001b[0m\u001b[0m\n\u001b[0m\u001b[0;32m     14\u001b[0m \u001b[0mprint\u001b[0m\u001b[1;33m(\u001b[0m\u001b[1;34m\"# filter() 함수의 실행결과\"\u001b[0m\u001b[1;33m)\u001b[0m\u001b[1;33m\u001b[0m\u001b[1;33m\u001b[0m\u001b[0m\n\u001b[0;32m     15\u001b[0m \u001b[0mprint\u001b[0m\u001b[1;33m(\u001b[0m\u001b[1;34m\"filter(under_3), list_input_a):\"\u001b[0m\u001b[1;33m,\u001b[0m \u001b[0moutput_b\u001b[0m\u001b[1;33m)\u001b[0m\u001b[1;33m\u001b[0m\u001b[1;33m\u001b[0m\u001b[0m\n",
      "\u001b[1;31mNameError\u001b[0m: name 'nuder_3' is not defined"
     ]
    }
   ],
   "source": [
    "def power(item):\n",
    "    return item * item\n",
    "\n",
    "def under_3(item):\n",
    "    return item < 3\n",
    "\n",
    "list_input_a = [1, 2, 3, 4, 5]\n",
    "output_a = map(power, list_input_a)\n",
    "print(\"# map() 함수의 실행결과\")\n",
    "print(\"map(power, list_input_a):\", output_a)\n",
    "print(\"map(power, list_input_a):\", list(output_a))\n",
    "\n",
    "output_b = filter(nuder_3, list_input_a)\n",
    "print(\"# filter() 함수의 실행결과\")\n",
    "print(\"filter(under_3), list_input_a):\", output_b)\n",
    "print(\"filter(under_3), list_input_a):\", list(output_b))"
   ]
  },
  {
   "cell_type": "code",
   "execution_count": 23,
   "id": "0a5f0596",
   "metadata": {},
   "outputs": [
    {
     "name": "stdout",
     "output_type": "stream",
     "text": [
      "map(power, list_input_a): [1, 4, 9, 16, 25]\n",
      "filter(under_3, list_input_a): [1, 2]\n"
     ]
    }
   ],
   "source": [
    "list_input_a = [1, 2, 3, 4, 5]\n",
    "# lambda 함수 사용\n",
    "# map() 함수를 사용합니다. map( 함수, 리스트) --> rufrhksms\n",
    "#lamda로 함수를 직접 선언\n",
    "output_a = map(lambda x: x*x, list_input_a)\n",
    "print(\"map(power, list_input_a):\", list(output_a))\n",
    "output_b = filter(lambda x: x < 3, list_input_a)\n",
    "print(\"filter(under_3, list_input_a):\", list(output_b))"
   ]
  },
  {
   "cell_type": "code",
   "execution_count": 24,
   "id": "07526924",
   "metadata": {},
   "outputs": [
    {
     "name": "stdout",
     "output_type": "stream",
     "text": [
      "file read data : Hello python programingHello python programingHello python programingHello python programingHello python programingHello python programingHello python programingHello python programingHello python programingHello python programingHello python programing\n"
     ]
    }
   ],
   "source": [
    "# file을 이용한 데이터 저장\n",
    "# open, read or writem, close\n",
    "# open(파일명 ,모드) \n",
    "# w ->  기존의 파일이 조재하면 기존 데이터 삭제 후 새로 생성\n",
    "#       존재하지 않으면 새로 생성\n",
    "# a -> 마지막에 추가\n",
    "# r -> 읽긴만 가능 , 존재하지 않으면 \n",
    "# file = open(\"python.txt\", \"w\") #file open\n",
    "file = open(\"python.txt\",\"a\") #file open\n",
    "file.write(\"Hello python programing\") #file write\n",
    "file.close() #file close\n",
    "\n",
    "file = open(\"python.txt\",\"r\")\n",
    "contents = file.read()\n",
    "print(\"file read data :\", contents)\n",
    "file.close()"
   ]
  },
  {
   "cell_type": "code",
   "execution_count": 25,
   "id": "72405fe2",
   "metadata": {},
   "outputs": [],
   "source": [
    "with open(\"python.txt\",\"a\")  as file:\n",
    "    file.write(\"Hello python programing\")"
   ]
  },
  {
   "cell_type": "code",
   "execution_count": 26,
   "id": "aa0ae496",
   "metadata": {},
   "outputs": [],
   "source": [
    "import random\n",
    "hanguls = list(\"가나다라마바사아자차카타파하\")\n",
    "with open (\"info.txt\",\"w\") as file:\n",
    "    for i in range(100):\n",
    "        name = random.choice(hanguls) + random.choice(hanguls)\n",
    "        weight = random.randrange(40, 100)\n",
    "        height = random.randrange(140, 200)\n",
    "        file.write(\"{},{},{}\\n\".format(name, weight, height))"
   ]
  },
  {
   "cell_type": "code",
   "execution_count": 27,
   "id": "4c8d758d",
   "metadata": {},
   "outputs": [
    {
     "name": "stdout",
     "output_type": "stream",
     "text": [
      "하나 : 71, 163\n",
      "\n",
      "사하 : 86, 153\n",
      "\n",
      "마아 : 43, 198\n",
      "\n",
      "가라 : 71, 188\n",
      "\n",
      "타바 : 97, 187\n",
      "\n",
      "가가 : 44, 196\n",
      "\n",
      "타타 : 78, 189\n",
      "\n",
      "차파 : 69, 197\n",
      "\n",
      "파자 : 65, 171\n",
      "\n",
      "나자 : 50, 173\n",
      "\n",
      "카타 : 75, 152\n",
      "\n",
      "자차 : 43, 162\n",
      "\n",
      "다아 : 45, 153\n",
      "\n",
      "차마 : 58, 176\n",
      "\n",
      "카나 : 87, 141\n",
      "\n",
      "자아 : 68, 142\n",
      "\n",
      "라파 : 60, 166\n",
      "\n",
      "카하 : 57, 147\n",
      "\n",
      "타사 : 75, 186\n",
      "\n",
      "카아 : 64, 179\n",
      "\n",
      "사차 : 69, 189\n",
      "\n",
      "파자 : 77, 187\n",
      "\n",
      "사가 : 82, 186\n",
      "\n",
      "나카 : 62, 192\n",
      "\n",
      "차카 : 57, 199\n",
      "\n",
      "파파 : 66, 161\n",
      "\n",
      "나마 : 46, 180\n",
      "\n",
      "가마 : 66, 152\n",
      "\n",
      "타차 : 62, 181\n",
      "\n",
      "자하 : 78, 151\n",
      "\n",
      "타아 : 84, 181\n",
      "\n",
      "타마 : 87, 192\n",
      "\n",
      "파마 : 64, 144\n",
      "\n",
      "하하 : 58, 185\n",
      "\n",
      "라마 : 95, 147\n",
      "\n",
      "차사 : 60, 156\n",
      "\n",
      "하자 : 85, 170\n",
      "\n",
      "마하 : 99, 153\n",
      "\n",
      "카파 : 43, 196\n",
      "\n",
      "라파 : 47, 165\n",
      "\n",
      "나파 : 51, 178\n",
      "\n",
      "가바 : 86, 169\n",
      "\n",
      "자타 : 75, 140\n",
      "\n",
      "하다 : 82, 199\n",
      "\n",
      "하차 : 73, 181\n",
      "\n",
      "파파 : 72, 190\n",
      "\n",
      "아하 : 66, 196\n",
      "\n",
      "라하 : 67, 182\n",
      "\n",
      "자나 : 51, 154\n",
      "\n",
      "사사 : 69, 155\n",
      "\n",
      "하타 : 52, 159\n",
      "\n",
      "차타 : 61, 187\n",
      "\n",
      "나다 : 92, 187\n",
      "\n",
      "차카 : 90, 174\n",
      "\n",
      "사나 : 97, 192\n",
      "\n",
      "바자 : 63, 140\n",
      "\n",
      "가파 : 81, 162\n",
      "\n",
      "타라 : 73, 173\n",
      "\n",
      "아자 : 77, 170\n",
      "\n",
      "사아 : 90, 154\n",
      "\n",
      "하라 : 41, 178\n",
      "\n",
      "차하 : 90, 141\n",
      "\n",
      "다바 : 59, 184\n",
      "\n",
      "나다 : 52, 172\n",
      "\n",
      "가가 : 70, 141\n",
      "\n",
      "라카 : 99, 142\n",
      "\n",
      "바아 : 46, 190\n",
      "\n",
      "차파 : 89, 156\n",
      "\n",
      "타차 : 41, 149\n",
      "\n",
      "아하 : 95, 188\n",
      "\n",
      "마나 : 72, 145\n",
      "\n",
      "바마 : 80, 169\n",
      "\n",
      "타나 : 83, 195\n",
      "\n",
      "자파 : 76, 178\n",
      "\n",
      "타나 : 43, 148\n",
      "\n",
      "마카 : 50, 188\n",
      "\n",
      "나사 : 54, 147\n",
      "\n",
      "자가 : 62, 143\n",
      "\n",
      "라다 : 86, 180\n",
      "\n",
      "카차 : 63, 155\n",
      "\n",
      "타라 : 85, 163\n",
      "\n",
      "마마 : 46, 179\n",
      "\n",
      "나카 : 83, 144\n",
      "\n",
      "아카 : 78, 157\n",
      "\n",
      "하차 : 93, 197\n",
      "\n",
      "다가 : 76, 194\n",
      "\n",
      "다아 : 40, 171\n",
      "\n",
      "하라 : 72, 192\n",
      "\n",
      "가라 : 97, 183\n",
      "\n",
      "다자 : 74, 143\n",
      "\n",
      "파라 : 65, 170\n",
      "\n",
      "사마 : 76, 154\n",
      "\n",
      "나아 : 64, 152\n",
      "\n",
      "아바 : 96, 191\n",
      "\n",
      "라자 : 53, 190\n",
      "\n",
      "바차 : 82, 182\n",
      "\n",
      "아마 : 91, 149\n",
      "\n",
      "다바 : 67, 140\n",
      "\n",
      "차차 : 95, 183\n",
      "\n",
      "하나 : 68, 171\n",
      "\n"
     ]
    },
    {
     "data": {
      "text/plain": [
       "''"
      ]
     },
     "execution_count": 27,
     "metadata": {},
     "output_type": "execute_result"
    }
   ],
   "source": [
    "with open(\"info.txt\",\"r\") as file:\n",
    "    for line in file:\n",
    "          (name, weight, height) = line.split(',')\n",
    "          print(\"{} : {}, {}\".format(name, weight, height))\n",
    "    contents = file.read()\n",
    "          \n",
    "contents"
   ]
  },
  {
   "cell_type": "code",
   "execution_count": 28,
   "id": "75e33b36",
   "metadata": {},
   "outputs": [
    {
     "name": "stdout",
     "output_type": "stream",
     "text": [
      "함수 호출 111\n",
      "시작 00 :  1\n",
      "함수 호출 222\n",
      "시작 11 :  2\n",
      "함수 호출 333\n",
      "시작 22 :  abc\n",
      "함수 호출 111\n"
     ]
    },
    {
     "ename": "StopIteration",
     "evalue": "",
     "output_type": "error",
     "traceback": [
      "\u001b[1;31m---------------------------------------------------------------------------\u001b[0m",
      "\u001b[1;31mStopIteration\u001b[0m                             Traceback (most recent call last)",
      "\u001b[1;32m<ipython-input-28-371998c8132d>\u001b[0m in \u001b[0;36m<module>\u001b[1;34m\u001b[0m\n\u001b[0;32m     12\u001b[0m \u001b[0mprint\u001b[0m\u001b[1;33m(\u001b[0m\u001b[1;34m\"시작 22 : \"\u001b[0m\u001b[1;33m,\u001b[0m \u001b[0mnext\u001b[0m\u001b[1;33m(\u001b[0m\u001b[0moutput\u001b[0m\u001b[1;33m)\u001b[0m\u001b[1;33m)\u001b[0m\u001b[1;33m\u001b[0m\u001b[1;33m\u001b[0m\u001b[0m\n\u001b[0;32m     13\u001b[0m \u001b[0mnext\u001b[0m\u001b[1;33m(\u001b[0m\u001b[0mtest\u001b[0m\u001b[1;33m(\u001b[0m\u001b[1;33m)\u001b[0m\u001b[1;33m)\u001b[0m \u001b[1;31m# next() 함수를 사용해야 제너레이터 함수 호출\u001b[0m\u001b[1;33m\u001b[0m\u001b[1;33m\u001b[0m\u001b[0m\n\u001b[1;32m---> 14\u001b[1;33m \u001b[0mnext\u001b[0m\u001b[1;33m(\u001b[0m\u001b[0moutput\u001b[0m\u001b[1;33m)\u001b[0m \u001b[1;31m# 더이상 진행할 부분이 없음 error\u001b[0m\u001b[1;33m\u001b[0m\u001b[1;33m\u001b[0m\u001b[0m\n\u001b[0m",
      "\u001b[1;31mStopIteration\u001b[0m: "
     ]
    }
   ],
   "source": [
    "# 제너레이터 함수 만들기 : yield 키워드르 넣음녀 일반 함수가 제너레이터 함수가\n",
    "def test():\n",
    "    print(\"함수 호출 111\")\n",
    "    yield 1\n",
    "    print(\"함수 호출 222\")\n",
    "    yield 2\n",
    "    print(\"함수 호출 333\")\n",
    "    yield \"abc\"\n",
    "output = test()\n",
    "print(\"시작 00 : \", next(output))\n",
    "print(\"시작 11 : \", next(output))\n",
    "print(\"시작 22 : \", next(output))\n",
    "next(test()) # next() 함수를 사용해야 제너레이터 함수 호출\n",
    "next(output) # 더이상 진행할 부분이 없음 error"
   ]
  },
  {
   "cell_type": "code",
   "execution_count": 29,
   "id": "b8ab1ccd",
   "metadata": {},
   "outputs": [
    {
     "data": {
      "text/plain": [
       "[1, 3, 5, 7, 9]"
      ]
     },
     "execution_count": 29,
     "metadata": {},
     "output_type": "execute_result"
    }
   ],
   "source": [
    "numbers = list(range(1, 10+1)) # 1부터 10까지의 수를 리스트로\n",
    "list(range(1, 10+1))\n",
    "list(filter(lambda x: x%2, numbers))"
   ]
  },
  {
   "cell_type": "code",
   "execution_count": 30,
   "id": "9e0959e5",
   "metadata": {},
   "outputs": [
    {
     "name": "stdout",
     "output_type": "stream",
     "text": [
      "# 홀수만 추출하기\n",
      "[1, 3, 5, 7, 9]\n",
      "# 3이상, 7미만 추출하기\n",
      "[3, 4, 5, 6]\n",
      "# 제곱해서 50 미만 추출하기\n",
      "[1, 2, 3, 4, 5, 6, 7]\n"
     ]
    }
   ],
   "source": [
    "print(\"# 홀수만 추출하기\")\n",
    "print(list(filter(lambda x: x%2, numbers)))     \n",
    "\n",
    "print(\"# 3이상, 7미만 추출하기\")\n",
    "print(list(filter(lambda x: 3 <= x < 7, numbers)))     \n",
    "\n",
    "print(\"# 제곱해서 50 미만 추출하기\")\n",
    "print(list(filter(lambda x: x*x < 50, numbers)))"
   ]
  },
  {
   "cell_type": "code",
   "execution_count": 31,
   "id": "258dd058",
   "metadata": {},
   "outputs": [
    {
     "name": "stdout",
     "output_type": "stream",
     "text": [
      " 정수 입력> 10\n",
      "원의 반지름 : 10\n",
      "원의 둘레 : 62.800000000000004\n",
      "원의 넓이 : 314.0\n"
     ]
    }
   ],
   "source": [
    "# 조건문으로 예외 처리하기\n",
    "PI=3.14\n",
    "input_number = input(\" 정수 입력> \")\n",
    "# 사용자의 입력이 숫자인지\n",
    "if input_number.isdigit():\n",
    "    input_number = int(input_number)\n",
    "    \n",
    "    print(\"원의 반지름 :\", input_number)\n",
    "    print(\"원의 둘레 :\", input_number*2*PI)\n",
    "    print(\"원의 넓이 :\", input_number*input_number*PI)\n",
    "else:\n",
    "    print(\"정수를 입력하지 않음\")"
   ]
  },
  {
   "cell_type": "code",
   "execution_count": 32,
   "id": "b8947328",
   "metadata": {},
   "outputs": [
    {
     "name": "stdout",
     "output_type": "stream",
     "text": [
      " 정수 입력> 10\n",
      " 정수 입력 > 10\n",
      "원의 반지름 : 10\n",
      "원의 둘레 : 62.800000000000004\n",
      "원의 넓이 : 314.0\n"
     ]
    }
   ],
   "source": [
    "# 조건문으로 예외 처리하기\n",
    "PI=3.14\n",
    "input_number = input(\" 정수 입력> \")\n",
    "# 예외처리 try : 실행할 구문 입력 except: 예외 처리 구문 입력\n",
    "# 사용자의 입력이 숫자인지\n",
    "try:\n",
    "    input_number = int(input(\" 정수 입력 > \"))\n",
    "    \n",
    "    print(\"원의 반지름 :\", input_number)\n",
    "    print(\"원의 둘레 :\", input_number*2*PI)\n",
    "    print(\"원의 넓이 :\", input_number*input_number*PI)\n",
    "except:\n",
    "    print(\"정수를 입력하지 않음\")"
   ]
  },
  {
   "cell_type": "code",
   "execution_count": 33,
   "id": "520da6e3",
   "metadata": {},
   "outputs": [
    {
     "name": "stdout",
     "output_type": "stream",
     "text": [
      " 정수 입력 > 10\n",
      "원의 반지름 : 10\n",
      "원의 둘레 : 62.800000000000004\n",
      "원의 넓이 : 314.0\n",
      "무조건 실행\n"
     ]
    }
   ],
   "source": [
    "try:\n",
    "    input_number = int(input(\" 정수 입력 > \"))\n",
    "except:\n",
    "    print(\"정수를 입력하지 않음\")\n",
    "else:  \n",
    "    print(\"원의 반지름 :\", input_number)\n",
    "    print(\"원의 둘레 :\", input_number*2*PI)\n",
    "    print(\"원의 넓이 :\", input_number*input_number*PI)\n",
    "finally:\n",
    "    print(\"무조건 실행\")"
   ]
  },
  {
   "cell_type": "code",
   "execution_count": 34,
   "id": "acb420ea",
   "metadata": {},
   "outputs": [
    {
     "name": "stdout",
     "output_type": "stream",
     "text": [
      "try end ... \n"
     ]
    },
    {
     "data": {
      "text/plain": [
       "<_io.TextIOWrapper name='file_close.txt' mode='r' encoding='cp949'>"
      ]
     },
     "execution_count": 34,
     "metadata": {},
     "output_type": "execute_result"
    }
   ],
   "source": [
    "def write_func(filename,text):\n",
    "    try:\n",
    "        file = open(filename, 'r')\n",
    "        return file    # return이 중간에 존재\n",
    "        file.write(text)    # 실행 안됨\n",
    "    except Exception as error:\n",
    "        print(\"file error\", error)\n",
    "    finally:     # 중간에 return이 되어도 무조건 실행\n",
    "        print(\"try end ... \")\n",
    "        # file.close()\n",
    "\n",
    "write_func(\"file_close.txt\",\"Hello file\")\n",
    "# file.closed"
   ]
  },
  {
   "cell_type": "code",
   "execution_count": 35,
   "id": "587ee549",
   "metadata": {},
   "outputs": [],
   "source": [
    "# 키보드에서 파일명을 입력받아 'r'모드로 열어서 파일의 내용을 화면에 출력\n",
    "# 없으면 'w'모드로 open후 \"New file\"을 파일에 저장후 파일 close\n",
    "#try ~ except ~ finally 활용"
   ]
  },
  {
   "cell_type": "code",
   "execution_count": 36,
   "id": "f2164989",
   "metadata": {},
   "outputs": [
    {
     "name": "stdout",
     "output_type": "stream",
     "text": [
      "파일명 입력 : test\n",
      "New file\n",
      "file.closed :  True\n"
     ]
    }
   ],
   "source": [
    "while True:\n",
    "    filename = input(\"파일명 입력 : \")\n",
    "    try:\n",
    "        file = open(filename, \"r\")\n",
    "        print(file.read())\n",
    "        break\n",
    "        print(\"try break test\")\n",
    "    except Exception as err:\n",
    "        print(\"file open err : \",err)\n",
    "        file = open(filename,\"w\")\n",
    "        file.write(\"New file\")\n",
    "    finally:\n",
    "        file.close()\n",
    "    \n",
    "print(\"file.closed : \",file.closed)"
   ]
  },
  {
   "cell_type": "raw",
   "id": "72787450",
   "metadata": {},
   "source": [
    " filename = input(\"파일명 입력 : \")\n",
    "try:\n",
    "    file = open(filename, \"r\")\n",
    "    print(file.read())\n",
    "    print(\"try break test\")\n",
    "except Exception as err:\n",
    "    print(\"file open err : \",err.args[1]) #예외 에러 메세지만 출력\n",
    "    file = open(filename,\"w\")\n",
    "    file.write(\"New file\")\n",
    "finally:     # 어떤 상황에도 무조건 실행\n",
    "    file.close()\n",
    "    \n",
    "print(\"file.closed : \",file.closed)"
   ]
  },
  {
   "cell_type": "code",
   "execution_count": 37,
   "id": "8354b071",
   "metadata": {},
   "outputs": [
    {
     "name": "stdout",
     "output_type": "stream",
     "text": [
      "정수 입력> 1\n",
      "1번째 요소: 273\n"
     ]
    }
   ],
   "source": [
    "list_number = [52, 273, 32, 72, 100]\n",
    "\n",
    "try:\n",
    "    number_input = int(input(\"정수 입력> \"))\n",
    "    print(\"{}번째 요소: {}\".format(number_input, list_number[number_input]))\n",
    "except ValueError as exception:\n",
    "    print(\"정수를 입력해 주세요!\")\n",
    "    print(\"exception:\", exception)\n",
    "except IndexError as exception:\n",
    "    print(\"리스트의 인덱스를 벗어났어요!\")\n",
    "    print(\"exception:\", exception)\n",
    "except Exception as exception:\n",
    "    print(\"미리 파악하지못한 예외가 발생했습니다\")\n",
    "    print(type(exception), exception)"
   ]
  },
  {
   "cell_type": "code",
   "execution_count": 38,
   "id": "af9e7915",
   "metadata": {},
   "outputs": [],
   "source": [
    "number = 10\n",
    "\n",
    "if number > 0:\n",
    "    pass\n",
    "else:\n",
    "    raise NotImplementedError"
   ]
  },
  {
   "cell_type": "code",
   "execution_count": 39,
   "id": "f3a8f651",
   "metadata": {},
   "outputs": [
    {
     "ename": "IndentationError",
     "evalue": "unexpected indent (<ipython-input-39-5f11d368b416>, line 2)",
     "output_type": "error",
     "traceback": [
      "\u001b[1;36m  File \u001b[1;32m\"<ipython-input-39-5f11d368b416>\"\u001b[1;36m, line \u001b[1;32m2\u001b[0m\n\u001b[1;33m    이름과 성적을 입력받아 파일에 저장\u001b[0m\n\u001b[1;37m    ^\u001b[0m\n\u001b[1;31mIndentationError\u001b[0m\u001b[1;31m:\u001b[0m unexpected indent\n"
     ]
    }
   ],
   "source": [
    "##''' 파일명을 입력받아 \"w\" 모드로 open한 후\n",
    "    이름과 성적을 입력받아 파일에 저장\n",
    "    이름에 \"end\"가 이렵되면 file을 close한 후\n",
    "    \"r\"모드로 파일을 다시 open\n",
    "    파일에서 자료를 읽어 list에 저장한후\n",
    "    키보드로부터 검색할 이름을 검색 한 후 있으면 이름과 성적 출력\n",
    "    없으면 \"Not found error\" 출력\n",
    "## 파일을 open하는 함수 file_open() 작성'''"
   ]
  },
  {
   "cell_type": "code",
   "execution_count": null,
   "id": "76c24f9c",
   "metadata": {},
   "outputs": [],
   "source": [
    "\n",
    "#파일명 입력\n",
    "file_name = input()\n",
    "file = file\n",
    "#파일open 함수 호출\n",
    "#자료 입력 (이름, 성적), 이름에 'end' 입력되면 입력 종료\n",
    "#파일 close\n",
    "#파일 open 함수 호출\n",
    "# 자료를 가져와서 변수에 저장\n",
    "# 검색할 이름 입력\n",
    "# 자료 검색 : 존내하면 출력 , 없으면 ' not found' 출"
   ]
  }
 ],
 "metadata": {
  "kernelspec": {
   "display_name": "Python 3",
   "language": "python",
   "name": "python3"
  },
  "language_info": {
   "codemirror_mode": {
    "name": "ipython",
    "version": 3
   },
   "file_extension": ".py",
   "mimetype": "text/x-python",
   "name": "python",
   "nbconvert_exporter": "python",
   "pygments_lexer": "ipython3",
   "version": "3.8.8"
  }
 },
 "nbformat": 4,
 "nbformat_minor": 5
}
